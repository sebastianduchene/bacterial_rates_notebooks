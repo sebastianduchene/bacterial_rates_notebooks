{
 "metadata": {
  "name": "",
  "signature": "sha256:b9b9e1148597e36b13d3bb008256aa08ed58da8d06a6bf53be772e47384c29a7"
 },
 "nbformat": 3,
 "nbformat_minor": 0,
 "worksheets": [
  {
   "cells": [
    {
     "cell_type": "markdown",
     "metadata": {},
     "source": [
      "## Bacterial rates analyses summary\n",
      "\n",
      "- Pull marginal likelihoods from out_data.txt, which is obtained by running get_mle.sh in shell"
     ]
    },
    {
     "cell_type": "code",
     "collapsed": false,
     "input": [
      "import pandas as pd\n",
      "import numpy as np\n",
      "import re, os, sys, subprocess\n",
      "import matplotlib.pyplot as plt\n",
      "\n",
      "%pylab inline"
     ],
     "language": "python",
     "metadata": {},
     "outputs": [
      {
       "output_type": "stream",
       "stream": "stdout",
       "text": [
        "Populating the interactive namespace from numpy and matplotlib\n"
       ]
      }
     ],
     "prompt_number": 1
    },
    {
     "cell_type": "markdown",
     "metadata": {},
     "source": [
      "### Pull mles: in the directory, run ./get_mles.sh The output is in out_data.txt"
     ]
    },
    {
     "cell_type": "code",
     "collapsed": false,
     "input": [
      "mles_raw_file = open('out_data.txt', 'r').readlines()\n",
      "mles_raw_file[:10]"
     ],
     "language": "python",
     "metadata": {},
     "outputs": [
      {
       "metadata": {},
       "output_type": "pyout",
       "prompt_number": 2,
       "text": [
        "['e_faecium_clade2_rc_ucld_constant.mle.log\\n',\n",
        " 'log marginal likelihood (using path sampling) from pathLikelihood.delta = -7613.984506584908\\n',\n",
        " 'log marginal likelihood (using stepping stone sampling) from pathLikelihood.delta = -7616.067274914139\\n',\n",
        " 'e_faecium_clade2_rs_ucld_bs.mle.log\\n',\n",
        " 'log marginal likelihood (using path sampling) from pathLikelihood.delta = -7599.170868735069\\n',\n",
        " 'log marginal likelihood (using stepping stone sampling) from pathLikelihood.delta = -7601.203636779642\\n',\n",
        " 'st239_complete_rc_ucld_constant.mle.log\\n',\n",
        " 'log marginal likelihood (using path sampling) from pathLikelihood.delta = -20959.886374843798\\n',\n",
        " 'log marginal likelihood (using stepping stone sampling) from pathLikelihood.delta = -20863.96422530456\\n',\n",
        " 'st239_complete_sc_strict_constant.mle.log\\n']"
       ]
      }
     ],
     "prompt_number": 2
    },
    {
     "cell_type": "code",
     "collapsed": false,
     "input": [
      "mle_data = pd.DataFrame(np.empty(shape = (1, 3)))\n",
      "\n",
      "for i in range(len(mles_raw_file)):\n",
      "    print mles_raw_file[i]\n",
      "    if re.match('^log.+', mles_raw_file[i]) is None:\n",
      "        mles_raw_file[i]\n",
      "        temp_name = re.sub('[.]|mle[.]|log|\\n', '', mles_raw_file[i])\n",
      "#        print re.findall('=.+', mles_raw_file[i+1])\n",
      "        temp_ps = float(re.sub('=| ', '', re.findall('=.+', mles_raw_file[i+1])[0]))\n",
      "        temp_ss = float(re.sub('=| ', '', re.findall('=.+', mles_raw_file[i+2])[0]))\n",
      "        temp_frame = pd.DataFrame([temp_name, temp_ps, temp_ss]).transpose()\n",
      "        mle_data = pd.concat([mle_data, temp_frame], ignore_index=True, axis=0)\n",
      "\n",
      "mle_data = mle_data.ix[1:, ]\n",
      "mle_data.index = [i for i in range(mle_data.shape[0])]\n",
      "mle_data.columns = ['file_name', 'ps', 'ss']"
     ],
     "language": "python",
     "metadata": {},
     "outputs": [
      {
       "output_type": "stream",
       "stream": "stdout",
       "text": [
        "e_faecium_clade2_rc_ucld_constant.mle.log\n",
        "\n",
        "log marginal likelihood (using path sampling) from pathLikelihood.delta = -7613.984506584908\n",
        "\n",
        "log marginal likelihood (using stepping stone sampling) from pathLikelihood.delta = -7616.067274914139\n",
        "\n",
        "e_faecium_clade2_rs_ucld_bs.mle.log\n",
        "\n",
        "log marginal likelihood (using path sampling) from pathLikelihood.delta = -7599.170868735069\n",
        "\n",
        "log marginal likelihood (using stepping stone sampling) from pathLikelihood.delta = -7601.203636779642\n",
        "\n",
        "st239_complete_rc_ucld_constant.mle.log\n",
        "\n",
        "log marginal likelihood (using path sampling) from pathLikelihood.delta = -20959.886374843798\n",
        "\n",
        "log marginal likelihood (using stepping stone sampling) from pathLikelihood.delta = -20863.96422530456\n",
        "\n",
        "st239_complete_sc_strict_constant.mle.log\n",
        "\n",
        "log marginal likelihood (using path sampling) from pathLikelihood.delta = -19394.906959070453\n",
        "\n",
        "log marginal likelihood (using stepping stone sampling) from pathLikelihood.delta = -19352.165958593258\n",
        "\n",
        "st93_dated_rc_ucld_constant.mle.log\n",
        "\n",
        "log marginal likelihood (using path sampling) from pathLikelihood.delta = -574.0750807609738\n",
        "\n",
        "log marginal likelihood (using stepping stone sampling) from pathLikelihood.delta = -575.4133745620924\n",
        "\n",
        "st93_dated_rs_ucld_bs.mle.log\n",
        "\n",
        "log marginal likelihood (using path sampling) from pathLikelihood.delta = -573.8736768340004\n",
        "\n",
        "log marginal likelihood (using stepping stone sampling) from pathLikelihood.delta = -574.3408062224671\n",
        "\n"
       ]
      }
     ],
     "prompt_number": 3
    },
    {
     "cell_type": "code",
     "collapsed": false,
     "input": [
      "mle_data.head()"
     ],
     "language": "python",
     "metadata": {},
     "outputs": [
      {
       "html": [
        "<div style=\"max-height:1000px;max-width:1500px;overflow:auto;\">\n",
        "<table border=\"1\" class=\"dataframe\">\n",
        "  <thead>\n",
        "    <tr style=\"text-align: right;\">\n",
        "      <th></th>\n",
        "      <th>file_name</th>\n",
        "      <th>ps</th>\n",
        "      <th>ss</th>\n",
        "    </tr>\n",
        "  </thead>\n",
        "  <tbody>\n",
        "    <tr>\n",
        "      <th>0</th>\n",
        "      <td>e_faecium_clade2_rc_ucld_constant</td>\n",
        "      <td>-7613.985</td>\n",
        "      <td>-7616.067</td>\n",
        "    </tr>\n",
        "    <tr>\n",
        "      <th>1</th>\n",
        "      <td>e_faecium_clade2_rs_ucld_bs</td>\n",
        "      <td>-7599.171</td>\n",
        "      <td>-7601.204</td>\n",
        "    </tr>\n",
        "    <tr>\n",
        "      <th>2</th>\n",
        "      <td>st239_complete_rc_ucld_constant</td>\n",
        "      <td>-20959.89</td>\n",
        "      <td>-20863.96</td>\n",
        "    </tr>\n",
        "    <tr>\n",
        "      <th>3</th>\n",
        "      <td>st239_complete_sc_strict_constant</td>\n",
        "      <td>-19394.91</td>\n",
        "      <td>-19352.17</td>\n",
        "    </tr>\n",
        "    <tr>\n",
        "      <th>4</th>\n",
        "      <td>st93_dated_rc_ucld_constant</td>\n",
        "      <td>-574.0751</td>\n",
        "      <td>-575.4134</td>\n",
        "    </tr>\n",
        "  </tbody>\n",
        "</table>\n",
        "</div>"
       ],
       "metadata": {},
       "output_type": "pyout",
       "prompt_number": 4,
       "text": [
        "                           file_name        ps        ss\n",
        "0  e_faecium_clade2_rc_ucld_constant -7613.985 -7616.067\n",
        "1        e_faecium_clade2_rs_ucld_bs -7599.171 -7601.204\n",
        "2    st239_complete_rc_ucld_constant -20959.89 -20863.96\n",
        "3  st239_complete_sc_strict_constant -19394.91 -19352.17\n",
        "4        st93_dated_rc_ucld_constant -574.0751 -575.4134"
       ]
      }
     ],
     "prompt_number": 4
    },
    {
     "cell_type": "code",
     "collapsed": false,
     "input": [
      "rates_data = np.empty(shape = (1, 3))\n",
      "for i in mle_data['file_name']:\n",
      "    temp_file = pd.read_csv(i+'.log', comment='#', sep = '\\t')\n",
      "    temp_rate_name = [c_ for c_ in temp_file.keys() if not re.match('ucld[.]mean|clock[.]rate', c_) is None]\n",
      "    temp_data = np.concatenate([np.mean(temp_file[temp_rate_name]), np.percentile(temp_file[temp_rate_name], [2.5, 97.5])])\n",
      "    rates_data = np.vstack([rates_data, temp_data])\n",
      "rates_data = pd.DataFrame(rates_data[1:])"
     ],
     "language": "python",
     "metadata": {},
     "outputs": [],
     "prompt_number": 5
    },
    {
     "cell_type": "code",
     "collapsed": false,
     "input": [
      "print rates_data.shape\n",
      "print mle_data.shape"
     ],
     "language": "python",
     "metadata": {},
     "outputs": [
      {
       "output_type": "stream",
       "stream": "stdout",
       "text": [
        "(6, 3)\n",
        "(6, 3)\n"
       ]
      }
     ],
     "prompt_number": 6
    },
    {
     "cell_type": "code",
     "collapsed": false,
     "input": [
      "mle_data.head()"
     ],
     "language": "python",
     "metadata": {},
     "outputs": [
      {
       "html": [
        "<div style=\"max-height:1000px;max-width:1500px;overflow:auto;\">\n",
        "<table border=\"1\" class=\"dataframe\">\n",
        "  <thead>\n",
        "    <tr style=\"text-align: right;\">\n",
        "      <th></th>\n",
        "      <th>file_name</th>\n",
        "      <th>ps</th>\n",
        "      <th>ss</th>\n",
        "    </tr>\n",
        "  </thead>\n",
        "  <tbody>\n",
        "    <tr>\n",
        "      <th>0</th>\n",
        "      <td>e_faecium_clade2_rc_ucld_constant</td>\n",
        "      <td>-7613.985</td>\n",
        "      <td>-7616.067</td>\n",
        "    </tr>\n",
        "    <tr>\n",
        "      <th>1</th>\n",
        "      <td>e_faecium_clade2_rs_ucld_bs</td>\n",
        "      <td>-7599.171</td>\n",
        "      <td>-7601.204</td>\n",
        "    </tr>\n",
        "    <tr>\n",
        "      <th>2</th>\n",
        "      <td>st239_complete_rc_ucld_constant</td>\n",
        "      <td>-20959.89</td>\n",
        "      <td>-20863.96</td>\n",
        "    </tr>\n",
        "    <tr>\n",
        "      <th>3</th>\n",
        "      <td>st239_complete_sc_strict_constant</td>\n",
        "      <td>-19394.91</td>\n",
        "      <td>-19352.17</td>\n",
        "    </tr>\n",
        "    <tr>\n",
        "      <th>4</th>\n",
        "      <td>st93_dated_rc_ucld_constant</td>\n",
        "      <td>-574.0751</td>\n",
        "      <td>-575.4134</td>\n",
        "    </tr>\n",
        "  </tbody>\n",
        "</table>\n",
        "</div>"
       ],
       "metadata": {},
       "output_type": "pyout",
       "prompt_number": 7,
       "text": [
        "                           file_name        ps        ss\n",
        "0  e_faecium_clade2_rc_ucld_constant -7613.985 -7616.067\n",
        "1        e_faecium_clade2_rs_ucld_bs -7599.171 -7601.204\n",
        "2    st239_complete_rc_ucld_constant -20959.89 -20863.96\n",
        "3  st239_complete_sc_strict_constant -19394.91 -19352.17\n",
        "4        st93_dated_rc_ucld_constant -574.0751 -575.4134"
       ]
      }
     ],
     "prompt_number": 7
    },
    {
     "cell_type": "code",
     "collapsed": false,
     "input": [
      "summary_data = pd.concat([mle_data, rates_data], ignore_index=True, axis = 1)"
     ],
     "language": "python",
     "metadata": {},
     "outputs": [],
     "prompt_number": 8
    },
    {
     "cell_type": "code",
     "collapsed": false,
     "input": [
      "summary_data.columns = ['file_name', 'ps', 'ss', 'mean_rate', 'lowerHPD', 'higherHPD']\n",
      "summary_data.head()"
     ],
     "language": "python",
     "metadata": {},
     "outputs": [
      {
       "html": [
        "<div style=\"max-height:1000px;max-width:1500px;overflow:auto;\">\n",
        "<table border=\"1\" class=\"dataframe\">\n",
        "  <thead>\n",
        "    <tr style=\"text-align: right;\">\n",
        "      <th></th>\n",
        "      <th>file_name</th>\n",
        "      <th>ps</th>\n",
        "      <th>ss</th>\n",
        "      <th>mean_rate</th>\n",
        "      <th>lowerHPD</th>\n",
        "      <th>higherHPD</th>\n",
        "    </tr>\n",
        "  </thead>\n",
        "  <tbody>\n",
        "    <tr>\n",
        "      <th>0</th>\n",
        "      <td>e_faecium_clade2_rc_ucld_constant</td>\n",
        "      <td>-7613.985</td>\n",
        "      <td>-7616.067</td>\n",
        "      <td>0.019903</td>\n",
        "      <td>0.004495</td>\n",
        "      <td>0.047763</td>\n",
        "    </tr>\n",
        "    <tr>\n",
        "      <th>1</th>\n",
        "      <td>e_faecium_clade2_rs_ucld_bs</td>\n",
        "      <td>-7599.171</td>\n",
        "      <td>-7601.204</td>\n",
        "      <td>0.016811</td>\n",
        "      <td>0.000205</td>\n",
        "      <td>0.047511</td>\n",
        "    </tr>\n",
        "    <tr>\n",
        "      <th>2</th>\n",
        "      <td>st239_complete_rc_ucld_constant</td>\n",
        "      <td>-20959.89</td>\n",
        "      <td>-20863.96</td>\n",
        "      <td>0.017147</td>\n",
        "      <td>0.000625</td>\n",
        "      <td>0.047541</td>\n",
        "    </tr>\n",
        "    <tr>\n",
        "      <th>3</th>\n",
        "      <td>st239_complete_sc_strict_constant</td>\n",
        "      <td>-19394.91</td>\n",
        "      <td>-19352.17</td>\n",
        "      <td>0.334127</td>\n",
        "      <td>0.000903</td>\n",
        "      <td>0.950075</td>\n",
        "    </tr>\n",
        "    <tr>\n",
        "      <th>4</th>\n",
        "      <td>st93_dated_rc_ucld_constant</td>\n",
        "      <td>-574.0751</td>\n",
        "      <td>-575.4134</td>\n",
        "      <td>0.017496</td>\n",
        "      <td>0.001072</td>\n",
        "      <td>0.047572</td>\n",
        "    </tr>\n",
        "  </tbody>\n",
        "</table>\n",
        "</div>"
       ],
       "metadata": {},
       "output_type": "pyout",
       "prompt_number": 9,
       "text": [
        "                           file_name        ps        ss  mean_rate  lowerHPD  \\\n",
        "0  e_faecium_clade2_rc_ucld_constant -7613.985 -7616.067   0.019903  0.004495   \n",
        "1        e_faecium_clade2_rs_ucld_bs -7599.171 -7601.204   0.016811  0.000205   \n",
        "2    st239_complete_rc_ucld_constant -20959.89 -20863.96   0.017147  0.000625   \n",
        "3  st239_complete_sc_strict_constant -19394.91 -19352.17   0.334127  0.000903   \n",
        "4        st93_dated_rc_ucld_constant -574.0751 -575.4134   0.017496  0.001072   \n",
        "\n",
        "   higherHPD  \n",
        "0   0.047763  \n",
        "1   0.047511  \n",
        "2   0.047541  \n",
        "3   0.950075  \n",
        "4   0.047572  "
       ]
      }
     ],
     "prompt_number": 9
    },
    {
     "cell_type": "code",
     "collapsed": false,
     "input": [
      "#Next: select each bacteria type. For each type select best, and set up randomisations to validate the estimates.\n",
      "summary_data.shape"
     ],
     "language": "python",
     "metadata": {},
     "outputs": [
      {
       "metadata": {},
       "output_type": "pyout",
       "prompt_number": 10,
       "text": [
        "(6, 6)"
       ]
      }
     ],
     "prompt_number": 10
    },
    {
     "cell_type": "code",
     "collapsed": false,
     "input": [
      "summary_data = pd.concat([summary_data, pd.DataFrame(np.empty(shape = (summary_data.shape[0], 2)))], axis = 1, ignore_index=True)\n",
      "summary_data.columns = ['file_name', 'ps', 'ss', 'mean_rate', 'lowerHPD', 'higherHPD', 'genus', 'best_ML']"
     ],
     "language": "python",
     "metadata": {},
     "outputs": [],
     "prompt_number": 11
    },
    {
     "cell_type": "code",
     "collapsed": false,
     "input": [
      "summary_data.head()"
     ],
     "language": "python",
     "metadata": {},
     "outputs": [
      {
       "html": [
        "<div style=\"max-height:1000px;max-width:1500px;overflow:auto;\">\n",
        "<table border=\"1\" class=\"dataframe\">\n",
        "  <thead>\n",
        "    <tr style=\"text-align: right;\">\n",
        "      <th></th>\n",
        "      <th>file_name</th>\n",
        "      <th>ps</th>\n",
        "      <th>ss</th>\n",
        "      <th>mean_rate</th>\n",
        "      <th>lowerHPD</th>\n",
        "      <th>higherHPD</th>\n",
        "      <th>genus</th>\n",
        "      <th>best_ML</th>\n",
        "    </tr>\n",
        "  </thead>\n",
        "  <tbody>\n",
        "    <tr>\n",
        "      <th>0</th>\n",
        "      <td>e_faecium_clade2_rc_ucld_constant</td>\n",
        "      <td>-7613.985</td>\n",
        "      <td>-7616.067</td>\n",
        "      <td>0.019903</td>\n",
        "      <td>0.004495</td>\n",
        "      <td>0.047763</td>\n",
        "      <td>2.160869e-314</td>\n",
        "      <td>2.160869e-314</td>\n",
        "    </tr>\n",
        "    <tr>\n",
        "      <th>1</th>\n",
        "      <td>e_faecium_clade2_rs_ucld_bs</td>\n",
        "      <td>-7599.171</td>\n",
        "      <td>-7601.204</td>\n",
        "      <td>0.016811</td>\n",
        "      <td>0.000205</td>\n",
        "      <td>0.047511</td>\n",
        "      <td>2.160869e-314</td>\n",
        "      <td>1.990302e-02</td>\n",
        "    </tr>\n",
        "    <tr>\n",
        "      <th>2</th>\n",
        "      <td>st239_complete_rc_ucld_constant</td>\n",
        "      <td>-20959.89</td>\n",
        "      <td>-20863.96</td>\n",
        "      <td>0.017147</td>\n",
        "      <td>0.000625</td>\n",
        "      <td>0.047541</td>\n",
        "      <td>4.494758e-03</td>\n",
        "      <td>4.776271e-02</td>\n",
        "    </tr>\n",
        "    <tr>\n",
        "      <th>3</th>\n",
        "      <td>st239_complete_sc_strict_constant</td>\n",
        "      <td>-19394.91</td>\n",
        "      <td>-19352.17</td>\n",
        "      <td>0.334127</td>\n",
        "      <td>0.000903</td>\n",
        "      <td>0.950075</td>\n",
        "      <td>1.681105e-02</td>\n",
        "      <td>2.048066e-04</td>\n",
        "    </tr>\n",
        "    <tr>\n",
        "      <th>4</th>\n",
        "      <td>st93_dated_rc_ucld_constant</td>\n",
        "      <td>-574.0751</td>\n",
        "      <td>-575.4134</td>\n",
        "      <td>0.017496</td>\n",
        "      <td>0.001072</td>\n",
        "      <td>0.047572</td>\n",
        "      <td>4.751148e-02</td>\n",
        "      <td>1.714697e-02</td>\n",
        "    </tr>\n",
        "  </tbody>\n",
        "</table>\n",
        "</div>"
       ],
       "metadata": {},
       "output_type": "pyout",
       "prompt_number": 12,
       "text": [
        "                           file_name        ps        ss  mean_rate  lowerHPD  \\\n",
        "0  e_faecium_clade2_rc_ucld_constant -7613.985 -7616.067   0.019903  0.004495   \n",
        "1        e_faecium_clade2_rs_ucld_bs -7599.171 -7601.204   0.016811  0.000205   \n",
        "2    st239_complete_rc_ucld_constant -20959.89 -20863.96   0.017147  0.000625   \n",
        "3  st239_complete_sc_strict_constant -19394.91 -19352.17   0.334127  0.000903   \n",
        "4        st93_dated_rc_ucld_constant -574.0751 -575.4134   0.017496  0.001072   \n",
        "\n",
        "   higherHPD          genus        best_ML  \n",
        "0   0.047763  2.160869e-314  2.160869e-314  \n",
        "1   0.047511  2.160869e-314   1.990302e-02  \n",
        "2   0.047541   4.494758e-03   4.776271e-02  \n",
        "3   0.950075   1.681105e-02   2.048066e-04  \n",
        "4   0.047572   4.751148e-02   1.714697e-02  "
       ]
      }
     ],
     "prompt_number": 12
    },
    {
     "cell_type": "code",
     "collapsed": false,
     "input": [
      "for i in range(summary_data.shape[0]):\n",
      "    summary_data.ix[i, 'genus'] = '_'.join(re.split('_', summary_data.ix[i, 'file_name'])[:2])\n",
      "summary_data"
     ],
     "language": "python",
     "metadata": {},
     "outputs": [
      {
       "html": [
        "<div style=\"max-height:1000px;max-width:1500px;overflow:auto;\">\n",
        "<table border=\"1\" class=\"dataframe\">\n",
        "  <thead>\n",
        "    <tr style=\"text-align: right;\">\n",
        "      <th></th>\n",
        "      <th>file_name</th>\n",
        "      <th>ps</th>\n",
        "      <th>ss</th>\n",
        "      <th>mean_rate</th>\n",
        "      <th>lowerHPD</th>\n",
        "      <th>higherHPD</th>\n",
        "      <th>genus</th>\n",
        "      <th>best_ML</th>\n",
        "    </tr>\n",
        "  </thead>\n",
        "  <tbody>\n",
        "    <tr>\n",
        "      <th>0</th>\n",
        "      <td>e_faecium_clade2_rc_ucld_constant</td>\n",
        "      <td>-7613.985</td>\n",
        "      <td>-7616.067</td>\n",
        "      <td>0.019903</td>\n",
        "      <td>0.004495</td>\n",
        "      <td>0.047763</td>\n",
        "      <td>e_faecium</td>\n",
        "      <td>2.160869e-314</td>\n",
        "    </tr>\n",
        "    <tr>\n",
        "      <th>1</th>\n",
        "      <td>e_faecium_clade2_rs_ucld_bs</td>\n",
        "      <td>-7599.171</td>\n",
        "      <td>-7601.204</td>\n",
        "      <td>0.016811</td>\n",
        "      <td>0.000205</td>\n",
        "      <td>0.047511</td>\n",
        "      <td>e_faecium</td>\n",
        "      <td>1.990302e-02</td>\n",
        "    </tr>\n",
        "    <tr>\n",
        "      <th>2</th>\n",
        "      <td>st239_complete_rc_ucld_constant</td>\n",
        "      <td>-20959.89</td>\n",
        "      <td>-20863.96</td>\n",
        "      <td>0.017147</td>\n",
        "      <td>0.000625</td>\n",
        "      <td>0.047541</td>\n",
        "      <td>st239_complete</td>\n",
        "      <td>4.776271e-02</td>\n",
        "    </tr>\n",
        "    <tr>\n",
        "      <th>3</th>\n",
        "      <td>st239_complete_sc_strict_constant</td>\n",
        "      <td>-19394.91</td>\n",
        "      <td>-19352.17</td>\n",
        "      <td>0.334127</td>\n",
        "      <td>0.000903</td>\n",
        "      <td>0.950075</td>\n",
        "      <td>st239_complete</td>\n",
        "      <td>2.048066e-04</td>\n",
        "    </tr>\n",
        "    <tr>\n",
        "      <th>4</th>\n",
        "      <td>st93_dated_rc_ucld_constant</td>\n",
        "      <td>-574.0751</td>\n",
        "      <td>-575.4134</td>\n",
        "      <td>0.017496</td>\n",
        "      <td>0.001072</td>\n",
        "      <td>0.047572</td>\n",
        "      <td>st93_dated</td>\n",
        "      <td>1.714697e-02</td>\n",
        "    </tr>\n",
        "    <tr>\n",
        "      <th>5</th>\n",
        "      <td>st93_dated_rs_ucld_bs</td>\n",
        "      <td>-573.8737</td>\n",
        "      <td>-574.3408</td>\n",
        "      <td>0.019175</td>\n",
        "      <td>0.002940</td>\n",
        "      <td>0.047734</td>\n",
        "      <td>st93_dated</td>\n",
        "      <td>4.754132e-02</td>\n",
        "    </tr>\n",
        "  </tbody>\n",
        "</table>\n",
        "</div>"
       ],
       "metadata": {},
       "output_type": "pyout",
       "prompt_number": 13,
       "text": [
        "                           file_name        ps        ss  mean_rate  lowerHPD  \\\n",
        "0  e_faecium_clade2_rc_ucld_constant -7613.985 -7616.067   0.019903  0.004495   \n",
        "1        e_faecium_clade2_rs_ucld_bs -7599.171 -7601.204   0.016811  0.000205   \n",
        "2    st239_complete_rc_ucld_constant -20959.89 -20863.96   0.017147  0.000625   \n",
        "3  st239_complete_sc_strict_constant -19394.91 -19352.17   0.334127  0.000903   \n",
        "4        st93_dated_rc_ucld_constant -574.0751 -575.4134   0.017496  0.001072   \n",
        "5              st93_dated_rs_ucld_bs -573.8737 -574.3408   0.019175  0.002940   \n",
        "\n",
        "   higherHPD           genus        best_ML  \n",
        "0   0.047763       e_faecium  2.160869e-314  \n",
        "1   0.047511       e_faecium   1.990302e-02  \n",
        "2   0.047541  st239_complete   4.776271e-02  \n",
        "3   0.950075  st239_complete   2.048066e-04  \n",
        "4   0.047572      st93_dated   1.714697e-02  \n",
        "5   0.047734      st93_dated   4.754132e-02  "
       ]
      }
     ],
     "prompt_number": 13
    },
    {
     "cell_type": "markdown",
     "metadata": {},
     "source": [
      "### Find the model with the highest ML \n",
      "\n",
      "- These should be run for the date randomisation test"
     ]
    },
    {
     "cell_type": "code",
     "collapsed": false,
     "input": [
      "genus_set = set(summary_data.ix[:, 'genus'])\n",
      "print genus_set\n",
      "for g in genus_set:\n",
      "    ps_temp = np.max(summary_data.ix[summary_data.ix[:, 'genus'] == g, 'ps'])\n",
      "    print ps_temp\n",
      "    \n",
      "    #Find location of best mle for genus\n",
      "    genus_best = []\n",
      "    for r in range(summary_data.shape[0]):    \n",
      "        if (summary_data.ix[r, 'ps'] ==  ps_temp) and (summary_data.ix[r, 'genus'] == g):\n",
      "            genus_best.append(r)\n",
      "\n",
      "#    max_loc = np.array([(summary_data.ix[:, 'ps'] ==  ps_temp), (summary_data.ix[:, 'genus'] == g)])\n",
      "\n",
      "#    max_loc = max_loc.transpose()\n",
      "#    max_loc = np.where([all(max_loc[i, :]) for i in range(max_loc.shape[0])])[0][0]\n",
      "    \n",
      "    summary_data.ix[genus_best, 'best_ML'] = 'BEST'"
     ],
     "language": "python",
     "metadata": {},
     "outputs": [
      {
       "output_type": "stream",
       "stream": "stdout",
       "text": [
        "set(['st239_complete', 'st93_dated', 'e_faecium'])\n",
        "-19394.9069591\n",
        "-573.873676834\n",
        "-7599.17086874\n"
       ]
      }
     ],
     "prompt_number": 14
    },
    {
     "cell_type": "code",
     "collapsed": false,
     "input": [],
     "language": "python",
     "metadata": {},
     "outputs": [],
     "prompt_number": 14
    },
    {
     "cell_type": "code",
     "collapsed": false,
     "input": [
      "summary_data.ix[summary_data.ix[:, 'best_ML'] == 'BEST', :]"
     ],
     "language": "python",
     "metadata": {},
     "outputs": [
      {
       "html": [
        "<div style=\"max-height:1000px;max-width:1500px;overflow:auto;\">\n",
        "<table border=\"1\" class=\"dataframe\">\n",
        "  <thead>\n",
        "    <tr style=\"text-align: right;\">\n",
        "      <th></th>\n",
        "      <th>file_name</th>\n",
        "      <th>ps</th>\n",
        "      <th>ss</th>\n",
        "      <th>mean_rate</th>\n",
        "      <th>lowerHPD</th>\n",
        "      <th>higherHPD</th>\n",
        "      <th>genus</th>\n",
        "      <th>best_ML</th>\n",
        "    </tr>\n",
        "  </thead>\n",
        "  <tbody>\n",
        "    <tr>\n",
        "      <th>1</th>\n",
        "      <td>e_faecium_clade2_rs_ucld_bs</td>\n",
        "      <td>-7599.171</td>\n",
        "      <td>-7601.204</td>\n",
        "      <td>0.016811</td>\n",
        "      <td>0.000205</td>\n",
        "      <td>0.047511</td>\n",
        "      <td>e_faecium</td>\n",
        "      <td>BEST</td>\n",
        "    </tr>\n",
        "    <tr>\n",
        "      <th>3</th>\n",
        "      <td>st239_complete_sc_strict_constant</td>\n",
        "      <td>-19394.91</td>\n",
        "      <td>-19352.17</td>\n",
        "      <td>0.334127</td>\n",
        "      <td>0.000903</td>\n",
        "      <td>0.950075</td>\n",
        "      <td>st239_complete</td>\n",
        "      <td>BEST</td>\n",
        "    </tr>\n",
        "    <tr>\n",
        "      <th>5</th>\n",
        "      <td>st93_dated_rs_ucld_bs</td>\n",
        "      <td>-573.8737</td>\n",
        "      <td>-574.3408</td>\n",
        "      <td>0.019175</td>\n",
        "      <td>0.002940</td>\n",
        "      <td>0.047734</td>\n",
        "      <td>st93_dated</td>\n",
        "      <td>BEST</td>\n",
        "    </tr>\n",
        "  </tbody>\n",
        "</table>\n",
        "</div>"
       ],
       "metadata": {},
       "output_type": "pyout",
       "prompt_number": 15,
       "text": [
        "                           file_name        ps        ss  mean_rate  lowerHPD  \\\n",
        "1        e_faecium_clade2_rs_ucld_bs -7599.171 -7601.204   0.016811  0.000205   \n",
        "3  st239_complete_sc_strict_constant -19394.91 -19352.17   0.334127  0.000903   \n",
        "5              st93_dated_rs_ucld_bs -573.8737 -574.3408   0.019175  0.002940   \n",
        "\n",
        "   higherHPD           genus best_ML  \n",
        "1   0.047511       e_faecium    BEST  \n",
        "3   0.950075  st239_complete    BEST  \n",
        "5   0.047734      st93_dated    BEST  "
       ]
      }
     ],
     "prompt_number": 15
    },
    {
     "cell_type": "code",
     "collapsed": false,
     "input": [
      "summary_data.ix[summary_data.ix[:, 'best_ML'] == 'BEST', :].to_csv('res_10_datasets.csv', index = False)"
     ],
     "language": "python",
     "metadata": {},
     "outputs": [],
     "prompt_number": 16
    },
    {
     "cell_type": "code",
     "collapsed": false,
     "input": [
      "summary_data.ix[summary_data.ix[:, 'best_ML'] == 'BEST', :].to_csv('best_models.csv')"
     ],
     "language": "python",
     "metadata": {},
     "outputs": [],
     "prompt_number": 18
    },
    {
     "cell_type": "code",
     "collapsed": false,
     "input": [],
     "language": "python",
     "metadata": {},
     "outputs": []
    }
   ],
   "metadata": {}
  }
 ]
}