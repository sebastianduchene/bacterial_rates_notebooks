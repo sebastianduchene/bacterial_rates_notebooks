{
 "metadata": {
  "name": "",
  "signature": "sha256:5912b665ac0ca48634699b59093f3e2b7ab81ec29b7ca6cd6ed41093b30e9569"
 },
 "nbformat": 3,
 "nbformat_minor": 0,
 "worksheets": [
  {
   "cells": [
    {
     "cell_type": "code",
     "collapsed": false,
     "input": [
      "import sys, os, re\n",
      "import pandas as pd\n",
      "import numpy as np\n",
      "from Bio import SeqIO"
     ],
     "language": "python",
     "metadata": {},
     "outputs": [],
     "prompt_number": 22
    },
    {
     "cell_type": "code",
     "collapsed": false,
     "input": [
      "models_table = pd.DataFrame(np.empty(shape = (11, 2)))\n",
      "models_table.columns = ['data_set', 'model']\n",
      "models_table.head()"
     ],
     "language": "python",
     "metadata": {},
     "outputs": [
      {
       "html": [
        "<div style=\"max-height:1000px;max-width:1500px;overflow:auto;\">\n",
        "<table border=\"1\" class=\"dataframe\">\n",
        "  <thead>\n",
        "    <tr style=\"text-align: right;\">\n",
        "      <th></th>\n",
        "      <th>data_set</th>\n",
        "      <th>model</th>\n",
        "    </tr>\n",
        "  </thead>\n",
        "  <tbody>\n",
        "    <tr>\n",
        "      <th>0</th>\n",
        "      <td>0</td>\n",
        "      <td>0</td>\n",
        "    </tr>\n",
        "    <tr>\n",
        "      <th>1</th>\n",
        "      <td>0</td>\n",
        "      <td>0</td>\n",
        "    </tr>\n",
        "    <tr>\n",
        "      <th>2</th>\n",
        "      <td>0</td>\n",
        "      <td>0</td>\n",
        "    </tr>\n",
        "    <tr>\n",
        "      <th>3</th>\n",
        "      <td>0</td>\n",
        "      <td>0</td>\n",
        "    </tr>\n",
        "    <tr>\n",
        "      <th>4</th>\n",
        "      <td>0</td>\n",
        "      <td>0</td>\n",
        "    </tr>\n",
        "  </tbody>\n",
        "</table>\n",
        "</div>"
       ],
       "metadata": {},
       "output_type": "pyout",
       "prompt_number": 38,
       "text": [
        "   data_set  model\n",
        "0         0      0\n",
        "1         0      0\n",
        "2         0      0\n",
        "3         0      0\n",
        "4         0      0"
       ]
      }
     ],
     "prompt_number": 38
    },
    {
     "cell_type": "code",
     "collapsed": false,
     "input": [],
     "language": "python",
     "metadata": {},
     "outputs": [],
     "prompt_number": 38
    },
    {
     "cell_type": "code",
     "collapsed": false,
     "input": [],
     "language": "python",
     "metadata": {},
     "outputs": [],
     "prompt_number": 38
    },
    {
     "cell_type": "code",
     "collapsed": false,
     "input": [
      "file_names = [i for i in os.listdir('.') if len(re.findall('phy$', i)) > 0]\n",
      "models_table.ix[:, 'data_set'] = file_names\n",
      "models_table.ix[:, 'model'] = ['GTR', 'GTR', 'GTR', 'GTR', 'GTR_G', 'GTR_G', 'GTR','GTR_G', 'GTR','GTR' , 'GTR'] \n"
     ],
     "language": "python",
     "metadata": {},
     "outputs": [],
     "prompt_number": 76
    },
    {
     "cell_type": "code",
     "collapsed": false,
     "input": [
      "print models_table\n",
      "models_table.to_csv('bacteria_subst_models.csv')"
     ],
     "language": "python",
     "metadata": {},
     "outputs": [
      {
       "output_type": "stream",
       "stream": "stdout",
       "text": [
        "                  data_set  model\n",
        "0          b_petrussis.phy    GTR\n",
        "1              cholera.phy    GTR\n",
        "2             m_leprae.phy    GTR\n",
        "3            MRSA_ST22.phy    GTR\n",
        "4   neisseria_bratcher.phy  GTR_G\n",
        "5         p_aeruginosa.phy  GTR_G\n",
        "6         S_pneumoniae.phy    GTR\n",
        "7      Shigella_sonnei.phy  GTR_G\n",
        "8           TB_beijing.phy    GTR\n",
        "9            Typhi_H59.phy    GTR\n",
        "10       ypestis_clean.phy    GTR\n"
       ]
      }
     ],
     "prompt_number": 77
    },
    {
     "cell_type": "code",
     "collapsed": false,
     "input": [],
     "language": "python",
     "metadata": {},
     "outputs": [],
     "prompt_number": 71
    },
    {
     "cell_type": "code",
     "collapsed": false,
     "input": [],
     "language": "python",
     "metadata": {},
     "outputs": []
    }
   ],
   "metadata": {}
  }
 ]
}