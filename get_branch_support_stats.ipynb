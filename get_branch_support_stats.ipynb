{
 "cells": [
  {
   "cell_type": "code",
   "execution_count": 49,
   "metadata": {
    "collapsed": true
   },
   "outputs": [],
   "source": [
    "import re, os, sys\n",
    "import dendropy as dp\n",
    "import pandas as pd\n",
    "import numpy as np"
   ]
  },
  {
   "cell_type": "code",
   "execution_count": 50,
   "metadata": {
    "collapsed": true
   },
   "outputs": [],
   "source": [
    "tr_files = [i for i in os.listdir('virus_trees/') if 'tree' in i]"
   ]
  },
  {
   "cell_type": "code",
   "execution_count": null,
   "metadata": {
    "collapsed": false
   },
   "outputs": [],
   "source": []
  },
  {
   "cell_type": "code",
   "execution_count": 124,
   "metadata": {
    "collapsed": false
   },
   "outputs": [],
   "source": [
    "tr = dp.Tree.get_from_path('virus_trees/'+tr_files[0], 'newick')"
   ]
  },
  {
   "cell_type": "code",
   "execution_count": 127,
   "metadata": {
    "collapsed": false
   },
   "outputs": [],
   "source": [
    "def get_node_support(tr, schema = 'newick'):\n",
    "    if schema == 'newick':\n",
    "        nodes_support = list()\n",
    "        for n in tr.postorder_node_iter():\n",
    "            if n.label:\n",
    "                nodes_support.append(float(n.label))\n",
    "        return nodes_support\n",
    "    elif schema == 'nexus':\n",
    "        nodes_support = list()\n",
    "        for n in tr.postorder_node_iter():\n",
    "            if len(n.annotations) > 0:\n",
    "                nodes_support.append(float(n.annotations[0].value))\n",
    "        return nodes_support"
   ]
  },
  {
   "cell_type": "code",
   "execution_count": 137,
   "metadata": {
    "collapsed": false
   },
   "outputs": [],
   "source": [
    "out_frame = pd.DataFrame(np.empty(shape = (len(tr_files), 5)))\n",
    "out_frame.columns = ('file_name', 'mean_aLRT', 'lower_aLRT', 'upper_aLRT', 'ntaxa')\n",
    "\n",
    "for i, f in enumerate(tr_files):\n",
    "    try:\n",
    "        tr_temp = dp.Tree.get_from_path('virus_trees/'+f, 'newick')\n",
    "        node_support_temp = get_node_support(tr_temp, 'newick')\n",
    "    except:\n",
    "        tr_temp = dp.Tree.get_from_path('virus_trees/'+f, 'nexus')\n",
    "        node_support_temp = get_node_support(tr_temp, 'nexus')\n",
    "        \n",
    "    out_frame.ix[i, 'file_name'] = f\n",
    "    out_frame.ix[i, 'mean_aLRT'] = np.mean(node_support_temp)\n",
    "    out_frame.ix[i, ['lower_aLRT', 'upper_aLRT']] = list(np.percentile(node_support_temp, [2.5, 97.5]))\n",
    "    out_frame.ix[i, 'ntaxa'] = len(tr_temp.taxon_namespace)"
   ]
  },
  {
   "cell_type": "code",
   "execution_count": 143,
   "metadata": {
    "collapsed": false
   },
   "outputs": [],
   "source": [
    "out_frame.to_csv('virus_trees_aLRT_stats.csv', index = False)"
   ]
  },
  {
   "cell_type": "code",
   "execution_count": null,
   "metadata": {
    "collapsed": false
   },
   "outputs": [],
   "source": []
  },
  {
   "cell_type": "code",
   "execution_count": 135,
   "metadata": {
    "collapsed": false
   },
   "outputs": [],
   "source": []
  },
  {
   "cell_type": "code",
   "execution_count": null,
   "metadata": {
    "collapsed": false
   },
   "outputs": [],
   "source": []
  },
  {
   "cell_type": "code",
   "execution_count": null,
   "metadata": {
    "collapsed": true
   },
   "outputs": [],
   "source": []
  },
  {
   "cell_type": "code",
   "execution_count": null,
   "metadata": {
    "collapsed": true
   },
   "outputs": [],
   "source": []
  }
 ],
 "metadata": {
  "kernelspec": {
   "display_name": "Python 2",
   "language": "python",
   "name": "python2"
  },
  "language_info": {
   "codemirror_mode": {
    "name": "ipython",
    "version": 2
   },
   "file_extension": ".py",
   "mimetype": "text/x-python",
   "name": "python",
   "nbconvert_exporter": "python",
   "pygments_lexer": "ipython2",
   "version": "2.7.11"
  }
 },
 "nbformat": 4,
 "nbformat_minor": 0
}
