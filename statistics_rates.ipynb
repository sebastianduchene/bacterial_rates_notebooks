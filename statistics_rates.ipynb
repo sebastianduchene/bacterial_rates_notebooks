{
 "metadata": {
  "name": "",
  "signature": "sha256:d7919a3486ab5eddfe464f147db177ec67a54295df7543a22344cd87c72002ec"
 },
 "nbformat": 3,
 "nbformat_minor": 0,
 "worksheets": [
  {
   "cells": [
    {
     "cell_type": "code",
     "collapsed": false,
     "input": [
      "import os, sys, re\n",
      "import numpy as np\n",
      "import pandas as pd\n",
      "import statsmodels.api as sm\n",
      "import matplotlib.pyplot as plt\n",
      "from pylab import rcParams\n",
      "import scipy.stats as ss\n",
      "import itertools\n",
      "%pylab inline\n",
      "rcParams['figure.figsize'] = 20, 5"
     ],
     "language": "python",
     "metadata": {},
     "outputs": [
      {
       "output_type": "stream",
       "stream": "stdout",
       "text": [
        "Populating the interactive namespace from numpy and matplotlib\n"
       ]
      }
     ],
     "prompt_number": 279
    },
    {
     "cell_type": "markdown",
     "metadata": {},
     "source": [
      "## Bacterial rate estimates and statistics\n",
      "\n",
      "June 23 2015\n",
      "\n",
      "### 1. Plot all estimates as a function of genome size, sampling time, and living mode\n"
     ]
    },
    {
     "cell_type": "code",
     "collapsed": false,
     "input": [
      "bacteria_stats = pd.read_excel('estiamted_N_collected_rates.xlsx')\n",
      "print bacteria_stats.keys()\n",
      "bacteria_stats.head()"
     ],
     "language": "python",
     "metadata": {},
     "outputs": [
      {
       "output_type": "stream",
       "stream": "stdout",
       "text": [
        "Index([u'Original_ref', u'Source', u'Genus', u'Organism', u'repeated_here', u'Genome_size_Mbp', u'snp_length', u'raw_rate', u'Mean_subst_rate', u'date_randomisation_result', u'R2', u'date_range', u'sampling time', u'living_mode'], dtype='object')\n"
       ]
      },
      {
       "html": [
        "<div style=\"max-height:1000px;max-width:1500px;overflow:auto;\">\n",
        "<table border=\"1\" class=\"dataframe\">\n",
        "  <thead>\n",
        "    <tr style=\"text-align: right;\">\n",
        "      <th></th>\n",
        "      <th>Original_ref</th>\n",
        "      <th>Source</th>\n",
        "      <th>Genus</th>\n",
        "      <th>Organism</th>\n",
        "      <th>repeated_here</th>\n",
        "      <th>Genome_size_Mbp</th>\n",
        "      <th>snp_length</th>\n",
        "      <th>raw_rate</th>\n",
        "      <th>Mean_subst_rate</th>\n",
        "      <th>date_randomisation_result</th>\n",
        "      <th>R2</th>\n",
        "      <th>date_range</th>\n",
        "      <th>sampling time</th>\n",
        "      <th>living_mode</th>\n",
        "    </tr>\n",
        "  </thead>\n",
        "  <tbody>\n",
        "    <tr>\n",
        "      <th>0</th>\n",
        "      <td>Bos 2011</td>\n",
        "      <td>Bos 2011</td>\n",
        "      <td>Yersinia</td>\n",
        "      <td>Y. pestis</td>\n",
        "      <td>no</td>\n",
        "      <td>4.65</td>\n",
        "      <td>0</td>\n",
        "      <td>0</td>\n",
        "      <td>1.960000e-08</td>\n",
        "      <td>Independent</td>\n",
        "      <td>NaN</td>\n",
        "      <td>1350-2005</td>\n",
        "      <td>655.00</td>\n",
        "      <td>Obligate</td>\n",
        "    </tr>\n",
        "    <tr>\n",
        "      <th>1</th>\n",
        "      <td>Moran 2009</td>\n",
        "      <td>Moran 2009</td>\n",
        "      <td>Buchnera</td>\n",
        "      <td>Buchnera aphidicola</td>\n",
        "      <td>no</td>\n",
        "      <td>1.01</td>\n",
        "      <td>0</td>\n",
        "      <td>0</td>\n",
        "      <td>1.100000e-07</td>\n",
        "      <td>Independent</td>\n",
        "      <td>NaN</td>\n",
        "      <td>spontaneous</td>\n",
        "      <td>NaN</td>\n",
        "      <td>Obligate</td>\n",
        "    </tr>\n",
        "    <tr>\n",
        "      <th>2</th>\n",
        "      <td>Morelli 2010</td>\n",
        "      <td>Morelli 2010</td>\n",
        "      <td>Helicobacter</td>\n",
        "      <td>H. pylori</td>\n",
        "      <td>no</td>\n",
        "      <td>1.65</td>\n",
        "      <td>0</td>\n",
        "      <td>0</td>\n",
        "      <td>1.360000e-06</td>\n",
        "      <td>Independent</td>\n",
        "      <td>NaN</td>\n",
        "      <td>10.2</td>\n",
        "      <td>10.20</td>\n",
        "      <td>Commensal (OP)</td>\n",
        "    </tr>\n",
        "    <tr>\n",
        "      <th>3</th>\n",
        "      <td>Morelli 2010</td>\n",
        "      <td>Morelli 2010</td>\n",
        "      <td>Helicobacter</td>\n",
        "      <td>H. pylori</td>\n",
        "      <td>no</td>\n",
        "      <td>1.65</td>\n",
        "      <td>0</td>\n",
        "      <td>0</td>\n",
        "      <td>4.510000e-06</td>\n",
        "      <td>Independent</td>\n",
        "      <td>NaN</td>\n",
        "      <td>0.25</td>\n",
        "      <td>0.25</td>\n",
        "      <td>Commensal (OP)</td>\n",
        "    </tr>\n",
        "    <tr>\n",
        "      <th>4</th>\n",
        "      <td>Morelli 2011</td>\n",
        "      <td>Morelli 2011</td>\n",
        "      <td>Helicobacter</td>\n",
        "      <td>H. pylori</td>\n",
        "      <td>no</td>\n",
        "      <td>1.65</td>\n",
        "      <td>0</td>\n",
        "      <td>0</td>\n",
        "      <td>1.400000e-06</td>\n",
        "      <td>Independent</td>\n",
        "      <td>NaN</td>\n",
        "      <td>NaN</td>\n",
        "      <td>NaN</td>\n",
        "      <td>Commensal (OP)</td>\n",
        "    </tr>\n",
        "  </tbody>\n",
        "</table>\n",
        "</div>"
       ],
       "metadata": {},
       "output_type": "pyout",
       "prompt_number": 280,
       "text": [
        "   Original_ref        Source         Genus              Organism  \\\n",
        "0      Bos 2011      Bos 2011      Yersinia             Y. pestis   \n",
        "1    Moran 2009    Moran 2009      Buchnera  Buchnera aphidicola    \n",
        "2  Morelli 2010  Morelli 2010  Helicobacter             H. pylori   \n",
        "3  Morelli 2010  Morelli 2010  Helicobacter             H. pylori   \n",
        "4  Morelli 2011  Morelli 2011  Helicobacter             H. pylori   \n",
        "\n",
        "  repeated_here  Genome_size_Mbp  snp_length  raw_rate  Mean_subst_rate  \\\n",
        "0            no             4.65           0         0     1.960000e-08   \n",
        "1            no             1.01           0         0     1.100000e-07   \n",
        "2            no             1.65           0         0     1.360000e-06   \n",
        "3            no             1.65           0         0     4.510000e-06   \n",
        "4            no             1.65           0         0     1.400000e-06   \n",
        "\n",
        "  date_randomisation_result  R2   date_range  sampling time     living_mode  \n",
        "0               Independent NaN    1350-2005         655.00        Obligate  \n",
        "1               Independent NaN  spontaneous            NaN        Obligate  \n",
        "2               Independent NaN         10.2          10.20  Commensal (OP)  \n",
        "3               Independent NaN         0.25           0.25  Commensal (OP)  \n",
        "4               Independent NaN          NaN            NaN  Commensal (OP)  "
       ]
      }
     ],
     "prompt_number": 280
    },
    {
     "cell_type": "code",
     "collapsed": false,
     "input": [
      "non_redundant = bacteria_stats.ix[:, 'repeated_here'] != 'yes'\n",
      "bacteria_non_redundant = bacteria_stats.ix[non_redundant, :]\n",
      "rates = np.array(np.log10(bacteria_non_redundant.ix[:, 'Mean_subst_rate']))\n",
      "genome_size = np.array(np.log10(bacteria_non_redundant.ix[:, 'Genome_size_Mbp']))\n",
      "genus = np.array(bacteria_non_redundant.ix[:, 'Genus'])\n",
      "\n",
      "ols_genome_size = sm.OLS(rates, sm.add_constant(genome_size)).fit()\n",
      "print ols_genome_size.summary()\n",
      "pred_genome = ols_genome_size.predict(sm.add_constant(sorted(genome_size)))\n",
      "\n",
      "timescale_estimates = []\n",
      "for i in range(bacteria_stats.shape[0]):\n",
      "    timescale_estimates.append(bacteria_stats.ix[i, 'repeated_here'] != 'yes' and pd.notnull(bacteria_stats.ix[i, 'sampling time']))\n",
      "\n",
      "timescales_times = np.array(np.log10(bacteria_stats.ix[timescale_estimates, 'sampling time']))\n",
      "timescales_rates = np.array(np.log10(bacteria_stats.ix[timescale_estimates, 'Mean_subst_rate']))\n",
      "timescales_genus = np.array(bacteria_stats.ix[timescale_estimates, 'Genus'])\n",
      "\n",
      "ols_timescale = sm.OLS(timescales_rates, sm.add_constant(timescales_times)).fit()\n",
      "print ols_timescale.summary()\n",
      "pred_timescale = ols_timescale.predict(sm.add_constant(sorted(timescales_times)))"
     ],
     "language": "python",
     "metadata": {},
     "outputs": [
      {
       "output_type": "stream",
       "stream": "stdout",
       "text": [
        "                            OLS Regression Results                            \n",
        "==============================================================================\n",
        "Dep. Variable:                      y   R-squared:                       0.277\n",
        "Model:                            OLS   Adj. R-squared:                  0.254\n",
        "Method:                 Least Squares   F-statistic:                     12.24\n",
        "Date:                Tue, 23 Jun 2015   Prob (F-statistic):            0.00140\n",
        "Time:                        16:54:08   Log-Likelihood:                -47.868\n",
        "No. Observations:                  34   AIC:                             99.74\n",
        "Df Residuals:                      32   BIC:                             102.8\n",
        "Df Model:                           1                                         \n",
        "==============================================================================\n",
        "                 coef    std err          t      P>|t|      [95.0% Conf. Int.]\n",
        "------------------------------------------------------------------------------\n",
        "const         -4.8699      0.435    -11.200      0.000        -5.756    -3.984\n",
        "x1            -3.0467      0.871     -3.499      0.001        -4.821    -1.273\n",
        "==============================================================================\n",
        "Omnibus:                        0.317   Durbin-Watson:                   1.589\n",
        "Prob(Omnibus):                  0.854   Jarque-Bera (JB):                0.441\n",
        "Skew:                          -0.197   Prob(JB):                        0.802\n",
        "Kurtosis:                       2.605   Cond. No.                         6.06\n",
        "==============================================================================\n",
        "                            OLS Regression Results                            \n",
        "==============================================================================\n",
        "Dep. Variable:                      y   R-squared:                       0.440\n",
        "Model:                            OLS   Adj. R-squared:                  0.420\n",
        "Method:                 Least Squares   F-statistic:                     21.24\n",
        "Date:                Tue, 23 Jun 2015   Prob (F-statistic):           8.71e-05\n",
        "Time:                        16:54:08   Log-Likelihood:                -37.512\n",
        "No. Observations:                  29   AIC:                             79.02\n",
        "Df Residuals:                      27   BIC:                             81.76\n",
        "Df Model:                           1                                         \n",
        "==============================================================================\n",
        "                 coef    std err          t      P>|t|      [95.0% Conf. Int.]\n",
        "------------------------------------------------------------------------------\n",
        "const         -5.0868      0.297    -17.155      0.000        -5.695    -4.478\n",
        "x1            -0.6975      0.151     -4.609      0.000        -1.008    -0.387\n",
        "==============================================================================\n",
        "Omnibus:                        3.082   Durbin-Watson:                   1.438\n",
        "Prob(Omnibus):                  0.214   Jarque-Bera (JB):                1.808\n",
        "Skew:                           0.574   Prob(JB):                        0.405\n",
        "Kurtosis:                       3.423   Cond. No.                         4.07\n",
        "==============================================================================\n"
       ]
      }
     ],
     "prompt_number": 281
    },
    {
     "cell_type": "code",
     "collapsed": false,
     "input": [
      "markers = np.array(['r+', 'rx', 'rD', 'rH', 'r,', 'r.', 'b+', 'bx', 'bD', 'bH', 'b,', 'b.', 'g+', 'gx', 'gD'])\n",
      "genera = np.array(list(set(bacteria_non_redundant.ix[:, 'Genus'])), dtype='str')\n",
      "marker_matrix = pd.DataFrame(np.empty(shape = (15, 2)))\n",
      "marker_matrix.ix[:, 0] = genera\n",
      "marker_matrix.ix[:, 1] = markers\n",
      "\n",
      "fig, axs = plt.subplots(1, 3, sharey = True)\n",
      "\n",
      "for p in range(len(genome_size)):\n",
      "    marker = np.array(marker_matrix.ix[marker_matrix.ix[:, 0] == genus[p], 1])[0]\n",
      "    axs[0].plot(genome_size[p], rates[p], marker, alpha = 0.8, markersize = 15)\n",
      "    axs[0].set_ylabel('Rate in log10 subst/site/year')\n",
      "    axs[0].set_xlabel('Genome size log10 Mbp')\n",
      "    axs[0].plot(sorted(genome_size), pred_genome, 'k-')\n",
      "\n",
      "for p in range(len(timescales_rates)):\n",
      "    marker = np.array(marker_matrix.ix[marker_matrix.ix[:, 0] == timescales_genus[p], 1])[0]\n",
      "    axs[1].plot(timescales_times[p], timescales_rates[p], marker, alpha = 0.8, markersize = 15)\n",
      "    axs[1].set_xlabel('Sampling time log10 years')\n",
      "    axs[1].plot(sorted(timescales_times), pred_timescale, 'k-')\n",
      "\n",
      "\n",
      "parasites = np.log10(bacteria_stats.ix[bacteria_stats.ix[:, 'living_mode'] == 'Obligate', 'Mean_subst_rate'])\n",
      "opportunistic = np.log10(bacteria_stats.ix[bacteria_stats.ix[:, 'living_mode'] == 'Commensal (OP)', 'Mean_subst_rate'])\n",
      "print 'kruskal test '+str(ss.kruskal(parasites, oportunistic)[1])\n",
      "\n",
      "axs[2].boxplot([parasites, opportunistic])\n",
      "axs[2].set_xticklabels(['parasite', 'opportunistic'])\n"
     ],
     "language": "python",
     "metadata": {},
     "outputs": [
      {
       "output_type": "stream",
       "stream": "stdout",
       "text": [
        "kruskal test 0.00161651610713\n"
       ]
      },
      {
       "metadata": {},
       "output_type": "pyout",
       "prompt_number": 284,
       "text": [
        "[<matplotlib.text.Text at 0x1170120d0>, <matplotlib.text.Text at 0x117381d50>]"
       ]
      },
      {
       "metadata": {},
       "output_type": "display_data",
       "png": "[encoded data removed]",
       "text": [
        "<matplotlib.figure.Figure at 0x116ed3250>"
       ]
      }
     ],
     "prompt_number": 284
    },
    {
     "cell_type": "markdown",
     "metadata": {},
     "source": [
      "## Include these factors into a regression and remove terms"
     ]
    },
    {
     "cell_type": "code",
     "collapsed": false,
     "input": [],
     "language": "python",
     "metadata": {},
     "outputs": [],
     "prompt_number": 284
    },
    {
     "cell_type": "code",
     "collapsed": false,
     "input": [],
     "language": "python",
     "metadata": {},
     "outputs": [],
     "prompt_number": 284
    },
    {
     "cell_type": "code",
     "collapsed": false,
     "input": [],
     "language": "python",
     "metadata": {},
     "outputs": [],
     "prompt_number": 250
    },
    {
     "cell_type": "code",
     "collapsed": false,
     "input": [],
     "language": "python",
     "metadata": {},
     "outputs": [],
     "prompt_number": 282
    },
    {
     "cell_type": "code",
     "collapsed": false,
     "input": [],
     "language": "python",
     "metadata": {},
     "outputs": []
    }
   ],
   "metadata": {}
  }
 ]
}