{
 "cells": [
  {
   "cell_type": "code",
   "execution_count": 1,
   "metadata": {
    "collapsed": false
   },
   "outputs": [
    {
     "name": "stderr",
     "output_type": "stream",
     "text": [
      "Loading required package: ape\n"
     ]
    }
   ],
   "source": [
    "library(NELSI)"
   ]
  },
  {
   "cell_type": "code",
   "execution_count": 2,
   "metadata": {
    "collapsed": false
   },
   "outputs": [],
   "source": [
    "tr1 <- read.tree('virus_trees/Arenaviridae_virus_lassa.phy_phyml.tree')"
   ]
  },
  {
   "cell_type": "code",
   "execution_count": 17,
   "metadata": {
    "collapsed": true
   },
   "outputs": [],
   "source": [
    "get_mean_br_support <- function(tree){\n",
    "    values <- as.numeric(tree$node.label[-1])\n",
    "    c('mean'=mean(values), quantile(values, c(0.025, 0.975)))\n",
    "}"
   ]
  },
  {
   "cell_type": "code",
   "execution_count": 18,
   "metadata": {
    "collapsed": false
   },
   "outputs": [
    {
     "data": {
      "text/html": [
       "<dl class=dl-horizontal>\n",
       "\t<dt>mean</dt>\n",
       "\t\t<dd>0.949727272727273</dd>\n",
       "\t<dt>2.5%</dt>\n",
       "\t\t<dd>0.853</dd>\n",
       "\t<dt>97.5%</dt>\n",
       "\t\t<dd>1</dd>\n",
       "</dl>\n"
      ],
      "text/latex": [
       "\\begin{description*}\n",
       "\\item[mean] 0.949727272727273\n",
       "\\item[2.5%] 0.853\n",
       "\\item[97.5%] 1\n",
       "\\end{description*}\n"
      ],
      "text/markdown": [
       "mean\n",
       ":   0.9497272727272732.5%\n",
       ":   0.85397.5%\n",
       ":   1\n",
       "\n"
      ],
      "text/plain": [
       "     mean      2.5%     97.5% \n",
       "0.9497273 0.8530000 1.0000000 "
      ]
     },
     "execution_count": 18,
     "metadata": {},
     "output_type": "execute_result"
    }
   ],
   "source": [
    "get_mean_br_support(tr1)"
   ]
  },
  {
   "cell_type": "code",
   "execution_count": 19,
   "metadata": {
    "collapsed": false
   },
   "outputs": [
    {
     "data": {
      "text/html": [
       "<ol class=list-inline>\n",
       "\t<li>'Arenaviridae_virus_lassa.phy_phyml.tree'</li>\n",
       "\t<li>'Arenaviridae_virus_lujo.phy_phyml.tree'</li>\n",
       "\t<li>'Arenaviridae_virus_machupo.phy_phyml.tree'</li>\n",
       "\t<li>'Arenaviridae_virus_sabia.phy_phyml.tree'</li>\n",
       "\t<li>'Bunyaviridae_virus_andes.phy_phyml.tree'</li>\n",
       "\t<li>'Bunyaviridae_virus_hantaan.phy_phyml.tree'</li>\n",
       "\t<li>'Bunyaviridae_virus_puumala.phy_phyml.tree'</li>\n",
       "\t<li>'Bunyaviridae_virus_seoul.phy_phyml.tree'</li>\n",
       "\t<li>'Bunyaviridae_virus_sinnombre.phy_phyml.tree'</li>\n",
       "\t<li>'Caliciviridae_virus_noro.phy_phyml.tree'</li>\n",
       "\t<li>'Caliciviridae_virus_sapo.phy_phyml.tree'</li>\n",
       "\t<li>'Caliciviridae_virus.phy_phyml.tree'</li>\n",
       "\t<li>'Coronavirus_virus_hku1.phy_phyml.tree'</li>\n",
       "\t<li>'Coronavirus_virus_mers.phy_phyml.tree'</li>\n",
       "\t<li>'Coronavirus_virus_sars.phy_phyml.tree'</li>\n",
       "\t<li>'Flaviviridae_virus_dengue.phy_phyml.tree'</li>\n",
       "\t<li>'Flaviviridae_virus_westnile.phy_phyml.tree'</li>\n",
       "\t<li>'Flaviviridae_virus_yellowfever.phy_phyml.tree'</li>\n",
       "\t<li>'Flaviviridae_virus_zika.phy_phyml.tree'</li>\n",
       "\t<li>'Hepadnaviridae_virus.phy_phyml.tree'</li>\n",
       "\t<li>'Herpeviridae_virus_herpes1.phy_phyml.tree'</li>\n",
       "\t<li>'Herpeviridae_virus_herpes2.phy_phyml.tree'</li>\n",
       "\t<li>'Herpeviridae_virus_herpes4.phy_phyml.tree'</li>\n",
       "\t<li>'Herpeviridae_virus_herpes6A.phy_phyml.tree'</li>\n",
       "\t<li>'Herpeviridae_virus_herpes6B.phy_phyml.tree'</li>\n",
       "\t<li>'Herpeviridae_virus_herpes7.phy_phyml.tree'</li>\n",
       "\t<li>'Herpeviridae_virus_herpes8.phy_phyml.tree'</li>\n",
       "\t<li>'Orthomyxoviridae_virus_h1n1.phy_phyml.tree'</li>\n",
       "\t<li>'Orthomyxoviridae_virus_h3n2.phy_phyml.tree'</li>\n",
       "\t<li>'Orthomyxoviridae_virus_h5n1.phy_phyml.tree'</li>\n",
       "\t<li>'Papillomaviridae_virus_type16.phy_phyml.tree'</li>\n",
       "\t<li>'Papillomaviridae_virus_type32.phy_phyml.tree'</li>\n",
       "\t<li>'Papillomaviridae_virus_type41.phy_phyml.tree'</li>\n",
       "\t<li>'Papillomaviridae_virus_type58.phy_phyml.tree'</li>\n",
       "\t<li>'Paramyxoviridae_virus_hendra.phy_phyml.tree'</li>\n",
       "\t<li>'Paramyxoviridae_virus_measles.phy_phyml.tree'</li>\n",
       "\t<li>'Paramyxoviridae_virus_mumps.phy_phyml.tree'</li>\n",
       "\t<li>'Paramyxoviridae_virus_nipah.phy_phyml.tree'</li>\n",
       "\t<li>'Paramyxoviridae_virus_rsv.phy_phyml.tree'</li>\n",
       "\t<li>'Parvoviridae_virus_adeno.phy_phyml.tree'</li>\n",
       "\t<li>'Parvoviridae_virus_b19.phy_phyml.tree'</li>\n",
       "\t<li>'Parvoviridae_virus_boca.phy_phyml.tree'</li>\n",
       "\t<li>'Parvoviridae_virus_parvo.phy_phyml.tree'</li>\n",
       "\t<li>'Picornaviridae_virus_aichi.phy_phyml.tree'</li>\n",
       "\t<li>'Picornaviridae_virus_ca16.phy_phyml.tree'</li>\n",
       "\t<li>'Picornaviridae_virus_echo.phy_phyml.tree'</li>\n",
       "\t<li>'Picornaviridae_virus_eva71.phy_phyml.tree'</li>\n",
       "\t<li>'Picornaviridae_virus_parecho.phy_phyml.tree'</li>\n",
       "\t<li>'Picornaviridae_virus_rhino.phy_phyml.tree'</li>\n",
       "\t<li>'Picornaviridae_virus_saffold.phy_phyml.tree'</li>\n",
       "\t<li>'Polyomaviridae_virus_bk.phy_phyml.tree'</li>\n",
       "\t<li>'Polyomaviridae_virus_jc.phy_phyml.tree'</li>\n",
       "\t<li>'Polyomaviridae_virus_merkel.phy_phyml.tree'</li>\n",
       "\t<li>'Polyomaviridae_virus_type12.phy_phyml.tree'</li>\n",
       "\t<li>'Polyomaviridae_virus_wu.phy_phyml.tree'</li>\n",
       "\t<li>'Potyviridae_virus.phy_phyml.tree'</li>\n",
       "\t<li>'Poxviridae_virus_cowpox.phy_phyml.tree'</li>\n",
       "\t<li>'Poxviridae_virus_orf.phy_phyml.tree'</li>\n",
       "\t<li>'Poxviridae_virus_tanapox.phy_phyml.tree'</li>\n",
       "\t<li>'Poxviridae_virus_yaba.phy_phyml.tree'</li>\n",
       "\t<li>'Reoviridae_virus_banna.phy_phyml.tree'</li>\n",
       "\t<li>'Reoviridae_virus_rotaA.phy_phyml.tree'</li>\n",
       "\t<li>'Reoviridae_virus_rotaB.phy_phyml.tree'</li>\n",
       "\t<li>'Reoviridae_virus_rotaC.phy_phyml.tree'</li>\n",
       "\t<li>'Retroviridae_virus_hiv1.phy_phyml.tree'</li>\n",
       "\t<li>'Retroviridae_virus_hiv2.phy_phyml.tree'</li>\n",
       "\t<li>'Retroviridae_virus_htv.phy_phyml.tree'</li>\n",
       "\t<li>'Rhabdoviridae_virus_auslyssa.phy_phyml.tree'</li>\n",
       "\t<li>'Rhabdoviridae_virus_bascongo.phy_phyml.tree'</li>\n",
       "\t<li>'Rhabdoviridae_virus_rabies.phy_phyml.tree'</li>\n",
       "\t<li>'Togaviridae_virus_barmah.phy_phyml.tree'</li>\n",
       "\t<li>'Togaviridae_virus_chik.phy_phyml.tree'</li>\n",
       "\t<li>'Togaviridae_virus_mayaro.phy_phyml.tree'</li>\n",
       "\t<li>'Virgaviridae_virus.phy_phyml.tree'</li>\n",
       "</ol>\n"
      ],
      "text/latex": [
       "\\begin{enumerate*}\n",
       "\\item 'Arenaviridae_virus_lassa.phy_phyml.tree'\n",
       "\\item 'Arenaviridae_virus_lujo.phy_phyml.tree'\n",
       "\\item 'Arenaviridae_virus_machupo.phy_phyml.tree'\n",
       "\\item 'Arenaviridae_virus_sabia.phy_phyml.tree'\n",
       "\\item 'Bunyaviridae_virus_andes.phy_phyml.tree'\n",
       "\\item 'Bunyaviridae_virus_hantaan.phy_phyml.tree'\n",
       "\\item 'Bunyaviridae_virus_puumala.phy_phyml.tree'\n",
       "\\item 'Bunyaviridae_virus_seoul.phy_phyml.tree'\n",
       "\\item 'Bunyaviridae_virus_sinnombre.phy_phyml.tree'\n",
       "\\item 'Caliciviridae_virus_noro.phy_phyml.tree'\n",
       "\\item 'Caliciviridae_virus_sapo.phy_phyml.tree'\n",
       "\\item 'Caliciviridae_virus.phy_phyml.tree'\n",
       "\\item 'Coronavirus_virus_hku1.phy_phyml.tree'\n",
       "\\item 'Coronavirus_virus_mers.phy_phyml.tree'\n",
       "\\item 'Coronavirus_virus_sars.phy_phyml.tree'\n",
       "\\item 'Flaviviridae_virus_dengue.phy_phyml.tree'\n",
       "\\item 'Flaviviridae_virus_westnile.phy_phyml.tree'\n",
       "\\item 'Flaviviridae_virus_yellowfever.phy_phyml.tree'\n",
       "\\item 'Flaviviridae_virus_zika.phy_phyml.tree'\n",
       "\\item 'Hepadnaviridae_virus.phy_phyml.tree'\n",
       "\\item 'Herpeviridae_virus_herpes1.phy_phyml.tree'\n",
       "\\item 'Herpeviridae_virus_herpes2.phy_phyml.tree'\n",
       "\\item 'Herpeviridae_virus_herpes4.phy_phyml.tree'\n",
       "\\item 'Herpeviridae_virus_herpes6A.phy_phyml.tree'\n",
       "\\item 'Herpeviridae_virus_herpes6B.phy_phyml.tree'\n",
       "\\item 'Herpeviridae_virus_herpes7.phy_phyml.tree'\n",
       "\\item 'Herpeviridae_virus_herpes8.phy_phyml.tree'\n",
       "\\item 'Orthomyxoviridae_virus_h1n1.phy_phyml.tree'\n",
       "\\item 'Orthomyxoviridae_virus_h3n2.phy_phyml.tree'\n",
       "\\item 'Orthomyxoviridae_virus_h5n1.phy_phyml.tree'\n",
       "\\item 'Papillomaviridae_virus_type16.phy_phyml.tree'\n",
       "\\item 'Papillomaviridae_virus_type32.phy_phyml.tree'\n",
       "\\item 'Papillomaviridae_virus_type41.phy_phyml.tree'\n",
       "\\item 'Papillomaviridae_virus_type58.phy_phyml.tree'\n",
       "\\item 'Paramyxoviridae_virus_hendra.phy_phyml.tree'\n",
       "\\item 'Paramyxoviridae_virus_measles.phy_phyml.tree'\n",
       "\\item 'Paramyxoviridae_virus_mumps.phy_phyml.tree'\n",
       "\\item 'Paramyxoviridae_virus_nipah.phy_phyml.tree'\n",
       "\\item 'Paramyxoviridae_virus_rsv.phy_phyml.tree'\n",
       "\\item 'Parvoviridae_virus_adeno.phy_phyml.tree'\n",
       "\\item 'Parvoviridae_virus_b19.phy_phyml.tree'\n",
       "\\item 'Parvoviridae_virus_boca.phy_phyml.tree'\n",
       "\\item 'Parvoviridae_virus_parvo.phy_phyml.tree'\n",
       "\\item 'Picornaviridae_virus_aichi.phy_phyml.tree'\n",
       "\\item 'Picornaviridae_virus_ca16.phy_phyml.tree'\n",
       "\\item 'Picornaviridae_virus_echo.phy_phyml.tree'\n",
       "\\item 'Picornaviridae_virus_eva71.phy_phyml.tree'\n",
       "\\item 'Picornaviridae_virus_parecho.phy_phyml.tree'\n",
       "\\item 'Picornaviridae_virus_rhino.phy_phyml.tree'\n",
       "\\item 'Picornaviridae_virus_saffold.phy_phyml.tree'\n",
       "\\item 'Polyomaviridae_virus_bk.phy_phyml.tree'\n",
       "\\item 'Polyomaviridae_virus_jc.phy_phyml.tree'\n",
       "\\item 'Polyomaviridae_virus_merkel.phy_phyml.tree'\n",
       "\\item 'Polyomaviridae_virus_type12.phy_phyml.tree'\n",
       "\\item 'Polyomaviridae_virus_wu.phy_phyml.tree'\n",
       "\\item 'Potyviridae_virus.phy_phyml.tree'\n",
       "\\item 'Poxviridae_virus_cowpox.phy_phyml.tree'\n",
       "\\item 'Poxviridae_virus_orf.phy_phyml.tree'\n",
       "\\item 'Poxviridae_virus_tanapox.phy_phyml.tree'\n",
       "\\item 'Poxviridae_virus_yaba.phy_phyml.tree'\n",
       "\\item 'Reoviridae_virus_banna.phy_phyml.tree'\n",
       "\\item 'Reoviridae_virus_rotaA.phy_phyml.tree'\n",
       "\\item 'Reoviridae_virus_rotaB.phy_phyml.tree'\n",
       "\\item 'Reoviridae_virus_rotaC.phy_phyml.tree'\n",
       "\\item 'Retroviridae_virus_hiv1.phy_phyml.tree'\n",
       "\\item 'Retroviridae_virus_hiv2.phy_phyml.tree'\n",
       "\\item 'Retroviridae_virus_htv.phy_phyml.tree'\n",
       "\\item 'Rhabdoviridae_virus_auslyssa.phy_phyml.tree'\n",
       "\\item 'Rhabdoviridae_virus_bascongo.phy_phyml.tree'\n",
       "\\item 'Rhabdoviridae_virus_rabies.phy_phyml.tree'\n",
       "\\item 'Togaviridae_virus_barmah.phy_phyml.tree'\n",
       "\\item 'Togaviridae_virus_chik.phy_phyml.tree'\n",
       "\\item 'Togaviridae_virus_mayaro.phy_phyml.tree'\n",
       "\\item 'Virgaviridae_virus.phy_phyml.tree'\n",
       "\\end{enumerate*}\n"
      ],
      "text/markdown": [
       "1. 'Arenaviridae_virus_lassa.phy_phyml.tree'\n",
       "2. 'Arenaviridae_virus_lujo.phy_phyml.tree'\n",
       "3. 'Arenaviridae_virus_machupo.phy_phyml.tree'\n",
       "4. 'Arenaviridae_virus_sabia.phy_phyml.tree'\n",
       "5. 'Bunyaviridae_virus_andes.phy_phyml.tree'\n",
       "6. 'Bunyaviridae_virus_hantaan.phy_phyml.tree'\n",
       "7. 'Bunyaviridae_virus_puumala.phy_phyml.tree'\n",
       "8. 'Bunyaviridae_virus_seoul.phy_phyml.tree'\n",
       "9. 'Bunyaviridae_virus_sinnombre.phy_phyml.tree'\n",
       "10. 'Caliciviridae_virus_noro.phy_phyml.tree'\n",
       "11. 'Caliciviridae_virus_sapo.phy_phyml.tree'\n",
       "12. 'Caliciviridae_virus.phy_phyml.tree'\n",
       "13. 'Coronavirus_virus_hku1.phy_phyml.tree'\n",
       "14. 'Coronavirus_virus_mers.phy_phyml.tree'\n",
       "15. 'Coronavirus_virus_sars.phy_phyml.tree'\n",
       "16. 'Flaviviridae_virus_dengue.phy_phyml.tree'\n",
       "17. 'Flaviviridae_virus_westnile.phy_phyml.tree'\n",
       "18. 'Flaviviridae_virus_yellowfever.phy_phyml.tree'\n",
       "19. 'Flaviviridae_virus_zika.phy_phyml.tree'\n",
       "20. 'Hepadnaviridae_virus.phy_phyml.tree'\n",
       "21. 'Herpeviridae_virus_herpes1.phy_phyml.tree'\n",
       "22. 'Herpeviridae_virus_herpes2.phy_phyml.tree'\n",
       "23. 'Herpeviridae_virus_herpes4.phy_phyml.tree'\n",
       "24. 'Herpeviridae_virus_herpes6A.phy_phyml.tree'\n",
       "25. 'Herpeviridae_virus_herpes6B.phy_phyml.tree'\n",
       "26. 'Herpeviridae_virus_herpes7.phy_phyml.tree'\n",
       "27. 'Herpeviridae_virus_herpes8.phy_phyml.tree'\n",
       "28. 'Orthomyxoviridae_virus_h1n1.phy_phyml.tree'\n",
       "29. 'Orthomyxoviridae_virus_h3n2.phy_phyml.tree'\n",
       "30. 'Orthomyxoviridae_virus_h5n1.phy_phyml.tree'\n",
       "31. 'Papillomaviridae_virus_type16.phy_phyml.tree'\n",
       "32. 'Papillomaviridae_virus_type32.phy_phyml.tree'\n",
       "33. 'Papillomaviridae_virus_type41.phy_phyml.tree'\n",
       "34. 'Papillomaviridae_virus_type58.phy_phyml.tree'\n",
       "35. 'Paramyxoviridae_virus_hendra.phy_phyml.tree'\n",
       "36. 'Paramyxoviridae_virus_measles.phy_phyml.tree'\n",
       "37. 'Paramyxoviridae_virus_mumps.phy_phyml.tree'\n",
       "38. 'Paramyxoviridae_virus_nipah.phy_phyml.tree'\n",
       "39. 'Paramyxoviridae_virus_rsv.phy_phyml.tree'\n",
       "40. 'Parvoviridae_virus_adeno.phy_phyml.tree'\n",
       "41. 'Parvoviridae_virus_b19.phy_phyml.tree'\n",
       "42. 'Parvoviridae_virus_boca.phy_phyml.tree'\n",
       "43. 'Parvoviridae_virus_parvo.phy_phyml.tree'\n",
       "44. 'Picornaviridae_virus_aichi.phy_phyml.tree'\n",
       "45. 'Picornaviridae_virus_ca16.phy_phyml.tree'\n",
       "46. 'Picornaviridae_virus_echo.phy_phyml.tree'\n",
       "47. 'Picornaviridae_virus_eva71.phy_phyml.tree'\n",
       "48. 'Picornaviridae_virus_parecho.phy_phyml.tree'\n",
       "49. 'Picornaviridae_virus_rhino.phy_phyml.tree'\n",
       "50. 'Picornaviridae_virus_saffold.phy_phyml.tree'\n",
       "51. 'Polyomaviridae_virus_bk.phy_phyml.tree'\n",
       "52. 'Polyomaviridae_virus_jc.phy_phyml.tree'\n",
       "53. 'Polyomaviridae_virus_merkel.phy_phyml.tree'\n",
       "54. 'Polyomaviridae_virus_type12.phy_phyml.tree'\n",
       "55. 'Polyomaviridae_virus_wu.phy_phyml.tree'\n",
       "56. 'Potyviridae_virus.phy_phyml.tree'\n",
       "57. 'Poxviridae_virus_cowpox.phy_phyml.tree'\n",
       "58. 'Poxviridae_virus_orf.phy_phyml.tree'\n",
       "59. 'Poxviridae_virus_tanapox.phy_phyml.tree'\n",
       "60. 'Poxviridae_virus_yaba.phy_phyml.tree'\n",
       "61. 'Reoviridae_virus_banna.phy_phyml.tree'\n",
       "62. 'Reoviridae_virus_rotaA.phy_phyml.tree'\n",
       "63. 'Reoviridae_virus_rotaB.phy_phyml.tree'\n",
       "64. 'Reoviridae_virus_rotaC.phy_phyml.tree'\n",
       "65. 'Retroviridae_virus_hiv1.phy_phyml.tree'\n",
       "66. 'Retroviridae_virus_hiv2.phy_phyml.tree'\n",
       "67. 'Retroviridae_virus_htv.phy_phyml.tree'\n",
       "68. 'Rhabdoviridae_virus_auslyssa.phy_phyml.tree'\n",
       "69. 'Rhabdoviridae_virus_bascongo.phy_phyml.tree'\n",
       "70. 'Rhabdoviridae_virus_rabies.phy_phyml.tree'\n",
       "71. 'Togaviridae_virus_barmah.phy_phyml.tree'\n",
       "72. 'Togaviridae_virus_chik.phy_phyml.tree'\n",
       "73. 'Togaviridae_virus_mayaro.phy_phyml.tree'\n",
       "74. 'Virgaviridae_virus.phy_phyml.tree'\n",
       "\n",
       "\n"
      ],
      "text/plain": [
       " [1] \"Arenaviridae_virus_lassa.phy_phyml.tree\"      \n",
       " [2] \"Arenaviridae_virus_lujo.phy_phyml.tree\"       \n",
       " [3] \"Arenaviridae_virus_machupo.phy_phyml.tree\"    \n",
       " [4] \"Arenaviridae_virus_sabia.phy_phyml.tree\"      \n",
       " [5] \"Bunyaviridae_virus_andes.phy_phyml.tree\"      \n",
       " [6] \"Bunyaviridae_virus_hantaan.phy_phyml.tree\"    \n",
       " [7] \"Bunyaviridae_virus_puumala.phy_phyml.tree\"    \n",
       " [8] \"Bunyaviridae_virus_seoul.phy_phyml.tree\"      \n",
       " [9] \"Bunyaviridae_virus_sinnombre.phy_phyml.tree\"  \n",
       "[10] \"Caliciviridae_virus_noro.phy_phyml.tree\"      \n",
       "[11] \"Caliciviridae_virus_sapo.phy_phyml.tree\"      \n",
       "[12] \"Caliciviridae_virus.phy_phyml.tree\"           \n",
       "[13] \"Coronavirus_virus_hku1.phy_phyml.tree\"        \n",
       "[14] \"Coronavirus_virus_mers.phy_phyml.tree\"        \n",
       "[15] \"Coronavirus_virus_sars.phy_phyml.tree\"        \n",
       "[16] \"Flaviviridae_virus_dengue.phy_phyml.tree\"     \n",
       "[17] \"Flaviviridae_virus_westnile.phy_phyml.tree\"   \n",
       "[18] \"Flaviviridae_virus_yellowfever.phy_phyml.tree\"\n",
       "[19] \"Flaviviridae_virus_zika.phy_phyml.tree\"       \n",
       "[20] \"Hepadnaviridae_virus.phy_phyml.tree\"          \n",
       "[21] \"Herpeviridae_virus_herpes1.phy_phyml.tree\"    \n",
       "[22] \"Herpeviridae_virus_herpes2.phy_phyml.tree\"    \n",
       "[23] \"Herpeviridae_virus_herpes4.phy_phyml.tree\"    \n",
       "[24] \"Herpeviridae_virus_herpes6A.phy_phyml.tree\"   \n",
       "[25] \"Herpeviridae_virus_herpes6B.phy_phyml.tree\"   \n",
       "[26] \"Herpeviridae_virus_herpes7.phy_phyml.tree\"    \n",
       "[27] \"Herpeviridae_virus_herpes8.phy_phyml.tree\"    \n",
       "[28] \"Orthomyxoviridae_virus_h1n1.phy_phyml.tree\"   \n",
       "[29] \"Orthomyxoviridae_virus_h3n2.phy_phyml.tree\"   \n",
       "[30] \"Orthomyxoviridae_virus_h5n1.phy_phyml.tree\"   \n",
       "[31] \"Papillomaviridae_virus_type16.phy_phyml.tree\" \n",
       "[32] \"Papillomaviridae_virus_type32.phy_phyml.tree\" \n",
       "[33] \"Papillomaviridae_virus_type41.phy_phyml.tree\" \n",
       "[34] \"Papillomaviridae_virus_type58.phy_phyml.tree\" \n",
       "[35] \"Paramyxoviridae_virus_hendra.phy_phyml.tree\"  \n",
       "[36] \"Paramyxoviridae_virus_measles.phy_phyml.tree\" \n",
       "[37] \"Paramyxoviridae_virus_mumps.phy_phyml.tree\"   \n",
       "[38] \"Paramyxoviridae_virus_nipah.phy_phyml.tree\"   \n",
       "[39] \"Paramyxoviridae_virus_rsv.phy_phyml.tree\"     \n",
       "[40] \"Parvoviridae_virus_adeno.phy_phyml.tree\"      \n",
       "[41] \"Parvoviridae_virus_b19.phy_phyml.tree\"        \n",
       "[42] \"Parvoviridae_virus_boca.phy_phyml.tree\"       \n",
       "[43] \"Parvoviridae_virus_parvo.phy_phyml.tree\"      \n",
       "[44] \"Picornaviridae_virus_aichi.phy_phyml.tree\"    \n",
       "[45] \"Picornaviridae_virus_ca16.phy_phyml.tree\"     \n",
       "[46] \"Picornaviridae_virus_echo.phy_phyml.tree\"     \n",
       "[47] \"Picornaviridae_virus_eva71.phy_phyml.tree\"    \n",
       "[48] \"Picornaviridae_virus_parecho.phy_phyml.tree\"  \n",
       "[49] \"Picornaviridae_virus_rhino.phy_phyml.tree\"    \n",
       "[50] \"Picornaviridae_virus_saffold.phy_phyml.tree\"  \n",
       "[51] \"Polyomaviridae_virus_bk.phy_phyml.tree\"       \n",
       "[52] \"Polyomaviridae_virus_jc.phy_phyml.tree\"       \n",
       "[53] \"Polyomaviridae_virus_merkel.phy_phyml.tree\"   \n",
       "[54] \"Polyomaviridae_virus_type12.phy_phyml.tree\"   \n",
       "[55] \"Polyomaviridae_virus_wu.phy_phyml.tree\"       \n",
       "[56] \"Potyviridae_virus.phy_phyml.tree\"             \n",
       "[57] \"Poxviridae_virus_cowpox.phy_phyml.tree\"       \n",
       "[58] \"Poxviridae_virus_orf.phy_phyml.tree\"          \n",
       "[59] \"Poxviridae_virus_tanapox.phy_phyml.tree\"      \n",
       "[60] \"Poxviridae_virus_yaba.phy_phyml.tree\"         \n",
       "[61] \"Reoviridae_virus_banna.phy_phyml.tree\"        \n",
       "[62] \"Reoviridae_virus_rotaA.phy_phyml.tree\"        \n",
       "[63] \"Reoviridae_virus_rotaB.phy_phyml.tree\"        \n",
       "[64] \"Reoviridae_virus_rotaC.phy_phyml.tree\"        \n",
       "[65] \"Retroviridae_virus_hiv1.phy_phyml.tree\"       \n",
       "[66] \"Retroviridae_virus_hiv2.phy_phyml.tree\"       \n",
       "[67] \"Retroviridae_virus_htv.phy_phyml.tree\"        \n",
       "[68] \"Rhabdoviridae_virus_auslyssa.phy_phyml.tree\"  \n",
       "[69] \"Rhabdoviridae_virus_bascongo.phy_phyml.tree\"  \n",
       "[70] \"Rhabdoviridae_virus_rabies.phy_phyml.tree\"    \n",
       "[71] \"Togaviridae_virus_barmah.phy_phyml.tree\"      \n",
       "[72] \"Togaviridae_virus_chik.phy_phyml.tree\"        \n",
       "[73] \"Togaviridae_virus_mayaro.phy_phyml.tree\"      \n",
       "[74] \"Virgaviridae_virus.phy_phyml.tree\"            "
      ]
     },
     "execution_count": 19,
     "metadata": {},
     "output_type": "execute_result"
    }
   ],
   "source": [
    "virus_trees <- dir('virus_trees/', pattern = 'tree')\n",
    "virus_trees"
   ]
  },
  {
   "cell_type": "code",
   "execution_count": 25,
   "metadata": {
    "collapsed": false
   },
   "outputs": [
    {
     "name": "stdout",
     "output_type": "stream",
     "text": [
      "[1] \"Arenaviridae_virus_lassa.phy_phyml.tree\"\n",
      "[1] \"Arenaviridae_virus_lujo.phy_phyml.tree\"\n",
      "[1] \"Arenaviridae_virus_machupo.phy_phyml.tree\"\n",
      "[1] \"Arenaviridae_virus_sabia.phy_phyml.tree\"\n",
      "[1] \"Bunyaviridae_virus_andes.phy_phyml.tree\"\n",
      "[1] \"Bunyaviridae_virus_hantaan.phy_phyml.tree\"\n",
      "[1] \"Bunyaviridae_virus_puumala.phy_phyml.tree\"\n",
      "[1] \"Bunyaviridae_virus_seoul.phy_phyml.tree\"\n",
      "[1] \"Bunyaviridae_virus_sinnombre.phy_phyml.tree\"\n",
      "[1] \"Caliciviridae_virus_noro.phy_phyml.tree\"\n"
     ]
    },
    {
     "ename": "ERROR",
     "evalue": "Error in if (tp[3] != \"\") obj$node.label <- tp[3]: missing value where TRUE/FALSE needed\n",
     "output_type": "error",
     "traceback": [
      "Error in if (tp[3] != \"\") obj$node.label <- tp[3]: missing value where TRUE/FALSE needed\n"
     ]
    }
   ],
   "source": [
    "out_frame <- matrix(NA, length(virus_trees), 5)\n",
    "colnames(out_frame) <- c('tree_name', 'mean_aLRT', 'lower_aLRT', 'upper_aLRT', 'tr_size')\n",
    "out_frame <- as.data.frame(out_frame)\n",
    "for(i in 1:length(virus_trees)){\n",
    "    print(virus_trees[i])\n",
    "    tr <- read.tree(paste0('virus_trees/', virus_trees[i]))\n",
    "    alrt_summary <- get_mean_br_support(tr)\n",
    "    out_frame$tree_name[i] <- virus_trees[i]\n",
    "#    out_frame[i, 3:4] <- alrt_summary\n",
    "    out_frame$tr_size[i] <- length(tr$tip.label)\n",
    "}"
   ]
  },
  {
   "cell_type": "code",
   "execution_count": 30,
   "metadata": {
    "collapsed": false
   },
   "outputs": [],
   "source": [
    "tr <- read.nexus('virus_trees/Caliciviridae_virus_noro.phy_phyml.tree')"
   ]
  },
  {
   "cell_type": "code",
   "execution_count": 31,
   "metadata": {
    "collapsed": false
   },
   "outputs": [
    {
     "name": "stdout",
     "output_type": "stream",
     "text": [
      "List of 4\n",
      " $ edge       : int [1:29, 1:2] 17 17 17 18 19 20 20 19 21 22 ...\n",
      " $ Nnode      : int 14\n",
      " $ tip.label  : chr [1:16] \"Rabbit\" \"Hare\" \"Goose\" \"Chicken\" ...\n",
      " $ edge.length: num [1:29] 0.24 0.168 0.744 0.193 0.329 ...\n",
      " - attr(*, \"class\")= chr \"phylo\"\n",
      " - attr(*, \"order\")= chr \"cladewise\"\n"
     ]
    }
   ],
   "source": [
    "str(tr)"
   ]
  },
  {
   "cell_type": "code",
   "execution_count": null,
   "metadata": {
    "collapsed": true
   },
   "outputs": [],
   "source": []
  }
 ],
 "metadata": {
  "kernelspec": {
   "display_name": "R",
   "language": "R",
   "name": "ir"
  },
  "language_info": {
   "codemirror_mode": "r",
   "file_extension": ".r",
   "mimetype": "text/x-r-source",
   "name": "R",
   "pygments_lexer": "r",
   "version": "3.2.4"
  }
 },
 "nbformat": 4,
 "nbformat_minor": 0
}
