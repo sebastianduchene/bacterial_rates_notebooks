{
 "cells": [
  {
   "cell_type": "code",
   "execution_count": 24,
   "metadata": {
    "collapsed": false
   },
   "outputs": [],
   "source": [
    "library(gdata)\n",
    "library(RColorBrewer)"
   ]
  },
  {
   "cell_type": "code",
   "execution_count": 25,
   "metadata": {
    "collapsed": false
   },
   "outputs": [
    {
     "data": {
      "text/html": [
       "<table>\n",
       "<thead><tr><th></th><th scope=col>beast_genomic_rate</th><th scope=col>Name</th></tr></thead>\n",
       "<tbody>\n",
       "\t<tr><th scope=row>1</th><td>1.562162e-08</td><td>M. leprae</td></tr>\n",
       "\t<tr><th scope=row>2</th><td>1.572643e-08</td><td>Y. pestis</td></tr>\n",
       "\t<tr><th scope=row>3</th><td>2.260972e-08</td><td>Y. pestis (second pandemic)</td></tr>\n",
       "\t<tr><th scope=row>4</th><td>5.675213e-08</td><td>M. tuberculosis Lineage 4</td></tr>\n",
       "\t<tr><th scope=row>5</th><td>6.049665e-08</td><td>N. meningitis</td></tr>\n",
       "\t<tr><th scope=row>6</th><td>7.604037e-08</td><td>S. Paratyphi A (two clades)</td></tr>\n",
       "</tbody>\n",
       "</table>\n"
      ],
      "text/latex": [
       "\\begin{tabular}{r|ll}\n",
       "  & beast_genomic_rate & Name\\\\\n",
       "\\hline\n",
       "\t1 & 1.562162e-08 & M. leprae\\\\\n",
       "\t2 & 1.572643e-08 & Y. pestis\\\\\n",
       "\t3 & 2.260972e-08 & Y. pestis (second pandemic)\\\\\n",
       "\t4 & 5.675213e-08 & M. tuberculosis Lineage 4\\\\\n",
       "\t5 & 6.049665e-08 & N. meningitis\\\\\n",
       "\t6 & 7.604037e-08 & S. Paratyphi A (two clades)\\\\\n",
       "\\end{tabular}\n"
      ],
      "text/plain": [
       "  beast_genomic_rate                        Name\n",
       "1       1.562162e-08                   M. leprae\n",
       "2       1.572643e-08                   Y. pestis\n",
       "3       2.260972e-08 Y. pestis (second pandemic)\n",
       "4       5.675213e-08   M. tuberculosis Lineage 4\n",
       "5       6.049665e-08               N. meningitis\n",
       "6       7.604037e-08 S. Paratyphi A (two clades)"
      ]
     },
     "execution_count": 25,
     "metadata": {},
     "output_type": "execute_result"
    }
   ],
   "source": [
    "meta_data <- read.xls('metadata_updated_rates.xlsx', stringsAsFactors = F)\n",
    "#meta_data <- meta_data[, -ncol(meta_data)]\n",
    "meta_data$short_name <- gsub('_+$', '', gsub('ucld|_rc|_rs|_sc|_ss|_bs|constant|strict|RDP|skyline', '', meta_data$file_name))\n",
    "head(meta_data[, c('beast_genomic_rate', 'Name')])\n",
    "meta_data <- meta_data[-grep('mening', meta_data$Name)]\n",
    "\n"
   ]
  },
  {
   "cell_type": "code",
   "execution_count": 26,
   "metadata": {
    "collapsed": false
   },
   "outputs": [
    {
     "name": "stdout",
     "output_type": "stream",
     "text": [
      " [1] \"M. leprae\"                        \"Y. pestis\"                       \n",
      " [3] \"Y. pestis (second pandemic)\"      \"M. tuberculosis Lineage 4\"       \n",
      " [5] \"N. meningitis\"                    \"S. Paratyphi A (two clades)\"     \n",
      " [7] \"S. Paratyphi A (clade 1)\"         \"S. Paratyphi A (clade 2)\"        \n",
      " [9] \"B. pertussis\"                     \"S. Typhi H58\"                    \n",
      "[11] \"M. tuberculosis Lineage 2\"        \"S. pneumoniae PMEN1\"             \n",
      "[13] \"P. aeruginosa\"                    \"S. Agona\"                        \n",
      "[15] \"S. Kentucky\"                      \"S. aureus ST93\"                  \n",
      "[17] \"K. pneumoniae CC258 (two clades)\" \"K. pneumoniae CC258 (clade 1)\"   \n",
      "[19] \"S. dysenteriae Sd1\"               \"S. sonnei VN\"                    \n",
      "[21] \"K. pneumoniae CC258 (clade 2)\"    \"V. cholerae\"                     \n",
      "[23] \"S. aureus ST239 (ingroup)\"        \"S. aureus ST239 (all)\"           \n",
      "[25] \"S. aureus ST8-USA300\"             \"S. pyogenes (two clades)\"        \n",
      "[27] \"S. pyogenes (clade 2)\"            \"S. pyogenes (clade 1)\"           \n",
      "[29] \"A. baumannii GC1\"                 \"S. aureus ST22\"                  \n",
      "[31] \"E. faecium (clade1)\"              \"A. baumannii GC2\"                \n",
      "[33] \"S. aureus CC398\"                  \"E. faecium (two clades)\"         \n",
      "[35] \"E. faecium (clade2)\"              \"M. tuberculosis (NW mummies) \"   \n"
     ]
    }
   ],
   "source": [
    "print(meta_data$Name)"
   ]
  },
  {
   "cell_type": "code",
   "execution_count": null,
   "metadata": {
    "collapsed": true
   },
   "outputs": [],
   "source": []
  },
  {
   "cell_type": "code",
   "execution_count": 27,
   "metadata": {
    "collapsed": false
   },
   "outputs": [
    {
     "data": {
      "text/html": [
       "<table>\n",
       "<thead><tr><th></th><th scope=col>data_set</th><th scope=col>sc</th><th scope=col>ss</th><th scope=col>rc</th><th scope=col>rs</th></tr></thead>\n",
       "<tbody>\n",
       "\t<tr><th scope=row>1</th><td>p_aeruginosa_no_outliers</td><td>0</td><td>1</td><td>3</td><td>2</td></tr>\n",
       "\t<tr><th scope=row>2</th><td>m_tub_argentina_snps_pruned</td><td>0</td><td>1</td><td>3</td><td>2</td></tr>\n",
       "\t<tr><th scope=row>4</th><td>s_pneumon_concat_dates_pruned</td><td>0</td><td>1</td><td>2</td><td>3</td></tr>\n",
       "\t<tr><th scope=row>6</th><td>klebsiella_snps_no_outliers</td><td>2</td><td>0</td><td>3</td><td>1</td></tr>\n",
       "\t<tr><th scope=row>7</th><td>s_kentucky</td><td>1</td><td>3</td><td>0</td><td>2</td></tr>\n",
       "\t<tr><th scope=row>8</th><td>m_leprae</td><td>3</td><td>1</td><td>2</td><td>0</td></tr>\n",
       "\t<tr><th scope=row>9</th><td>st93_dated</td><td>2</td><td>0</td><td>3</td><td>1</td></tr>\n",
       "\t<tr><th scope=row>10</th><td>st239_complete</td><td>1</td><td>0</td><td>3</td><td>2</td></tr>\n",
       "\t<tr><th scope=row>11</th><td>klebsiella_clade1</td><td>0</td><td>2</td><td>3</td><td>1</td></tr>\n",
       "\t<tr><th scope=row>12</th><td>klebsiella_clade2</td><td>0</td><td>2</td><td>3</td><td>1</td></tr>\n",
       "\t<tr><th scope=row>13</th><td>st_usa300_dates_no_outgroups</td><td>1</td><td>0</td><td>3</td><td>2</td></tr>\n",
       "\t<tr><th scope=row>14</th><td>typhi_no_outliers</td><td>0</td><td>2</td><td>1</td><td>3</td></tr>\n",
       "\t<tr><th scope=row>15</th><td>paratyphi_a_clade1</td><td>0</td><td>2</td><td>1</td><td>3</td></tr>\n",
       "\t<tr><th scope=row>16</th><td>paratyphi_a_clade2</td><td>1</td><td>3</td><td>2</td><td>0</td></tr>\n",
       "\t<tr><th scope=row>17</th><td>e_faecium_clades12</td><td>0</td><td>1</td><td>3</td><td>2</td></tr>\n",
       "\t<tr><th scope=row>18</th><td>A_baumanii_1</td><td>0</td><td>1</td><td>2</td><td>3</td></tr>\n",
       "\t<tr><th scope=row>19</th><td>e_faecium_clade1</td><td>3</td><td>1</td><td>0</td><td>2</td></tr>\n",
       "\t<tr><th scope=row>20</th><td>e_faecium_clade2</td><td>2</td><td>3</td><td>1</td><td>0</td></tr>\n",
       "\t<tr><th scope=row>21</th><td>y_pestis_second_pandemic</td><td>1</td><td>0</td><td>3</td><td>2</td></tr>\n",
       "\t<tr><th scope=row>22</th><td>b_pertussis</td><td>1</td><td>0</td><td>3</td><td>2</td></tr>\n",
       "\t<tr><th scope=row>23</th><td>v_cholerae</td><td>2</td><td>3</td><td>0</td><td>1</td></tr>\n",
       "\t<tr><th scope=row>24</th><td>A_baumanii_2</td><td>1</td><td>3</td><td>0</td><td>2</td></tr>\n",
       "\t<tr><th scope=row>25</th><td>paratyphi_clades12</td><td>1</td><td>0</td><td>2</td><td>3</td></tr>\n",
       "\t<tr><th scope=row>26</th><td>shigella_sonnei</td><td>1</td><td>0</td><td>3</td><td>2</td></tr>\n",
       "\t<tr><th scope=row>27</th><td>agona_pruned</td><td>0</td><td>1</td><td>3</td><td>2</td></tr>\n",
       "\t<tr><th scope=row>28</th><td>Sd1</td><td>1</td><td>3</td><td>0</td><td>2</td></tr>\n",
       "\t<tr><th scope=row>29</th><td>y_pestis_pruned</td><td>0</td><td>1</td><td>3</td><td>2</td></tr>\n",
       "\t<tr><th scope=row>30</th><td>strep_pyogenes_clades12</td><td>0</td><td>1</td><td>3</td><td>2</td></tr>\n",
       "\t<tr><th scope=row>31</th><td>staph_ingroup_st239</td><td>1</td><td>0</td><td>3</td><td>2</td></tr>\n",
       "\t<tr><th scope=row>32</th><td>TB_beijing_no_outliers</td><td>1</td><td>0</td><td>3</td><td>2</td></tr>\n",
       "\t<tr><th scope=row>33</th><td>st22_pruned_snps</td><td>1</td><td>3</td><td>0</td><td>2</td></tr>\n",
       "\t<tr><th scope=row>34</th><td>strep_pyogenes_clade2</td><td>0</td><td>1</td><td>3</td><td>2</td></tr>\n",
       "\t<tr><th scope=row>35</th><td>staph_CC398_dated</td><td>2</td><td>0</td><td>1</td><td>3</td></tr>\n",
       "\t<tr><th scope=row>36</th><td>strep_pyogenes_clade1</td><td>2</td><td>3</td><td>1</td><td>0</td></tr>\n",
       "\t<tr><th scope=row>37</th><td>TB_animal_L6</td><td>2</td><td>3</td><td>0</td><td>1</td></tr>\n",
       "</tbody>\n",
       "</table>\n"
      ],
      "text/latex": [
       "\\begin{tabular}{r|lllll}\n",
       "  & data_set & sc & ss & rc & rs\\\\\n",
       "\\hline\n",
       "\t1 & p_aeruginosa_no_outliers & 0 & 1 & 3 & 2\\\\\n",
       "\t2 & m_tub_argentina_snps_pruned & 0 & 1 & 3 & 2\\\\\n",
       "\t4 & s_pneumon_concat_dates_pruned & 0 & 1 & 2 & 3\\\\\n",
       "\t6 & klebsiella_snps_no_outliers & 2 & 0 & 3 & 1\\\\\n",
       "\t7 & s_kentucky & 1 & 3 & 0 & 2\\\\\n",
       "\t8 & m_leprae & 3 & 1 & 2 & 0\\\\\n",
       "\t9 & st93_dated & 2 & 0 & 3 & 1\\\\\n",
       "\t10 & st239_complete & 1 & 0 & 3 & 2\\\\\n",
       "\t11 & klebsiella_clade1 & 0 & 2 & 3 & 1\\\\\n",
       "\t12 & klebsiella_clade2 & 0 & 2 & 3 & 1\\\\\n",
       "\t13 & st_usa300_dates_no_outgroups & 1 & 0 & 3 & 2\\\\\n",
       "\t14 & typhi_no_outliers & 0 & 2 & 1 & 3\\\\\n",
       "\t15 & paratyphi_a_clade1 & 0 & 2 & 1 & 3\\\\\n",
       "\t16 & paratyphi_a_clade2 & 1 & 3 & 2 & 0\\\\\n",
       "\t17 & e_faecium_clades12 & 0 & 1 & 3 & 2\\\\\n",
       "\t18 & A_baumanii_1 & 0 & 1 & 2 & 3\\\\\n",
       "\t19 & e_faecium_clade1 & 3 & 1 & 0 & 2\\\\\n",
       "\t20 & e_faecium_clade2 & 2 & 3 & 1 & 0\\\\\n",
       "\t21 & y_pestis_second_pandemic & 1 & 0 & 3 & 2\\\\\n",
       "\t22 & b_pertussis & 1 & 0 & 3 & 2\\\\\n",
       "\t23 & v_cholerae & 2 & 3 & 0 & 1\\\\\n",
       "\t24 & A_baumanii_2 & 1 & 3 & 0 & 2\\\\\n",
       "\t25 & paratyphi_clades12 & 1 & 0 & 2 & 3\\\\\n",
       "\t26 & shigella_sonnei & 1 & 0 & 3 & 2\\\\\n",
       "\t27 & agona_pruned & 0 & 1 & 3 & 2\\\\\n",
       "\t28 & Sd1 & 1 & 3 & 0 & 2\\\\\n",
       "\t29 & y_pestis_pruned & 0 & 1 & 3 & 2\\\\\n",
       "\t30 & strep_pyogenes_clades12 & 0 & 1 & 3 & 2\\\\\n",
       "\t31 & staph_ingroup_st239 & 1 & 0 & 3 & 2\\\\\n",
       "\t32 & TB_beijing_no_outliers & 1 & 0 & 3 & 2\\\\\n",
       "\t33 & st22_pruned_snps & 1 & 3 & 0 & 2\\\\\n",
       "\t34 & strep_pyogenes_clade2 & 0 & 1 & 3 & 2\\\\\n",
       "\t35 & staph_CC398_dated & 2 & 0 & 1 & 3\\\\\n",
       "\t36 & strep_pyogenes_clade1 & 2 & 3 & 1 & 0\\\\\n",
       "\t37 & TB_animal_L6 & 2 & 3 & 0 & 1\\\\\n",
       "\\end{tabular}\n"
      ],
      "text/plain": [
       "                        data_set sc ss rc rs\n",
       "1       p_aeruginosa_no_outliers  0  1  3  2\n",
       "2    m_tub_argentina_snps_pruned  0  1  3  2\n",
       "4  s_pneumon_concat_dates_pruned  0  1  2  3\n",
       "6    klebsiella_snps_no_outliers  2  0  3  1\n",
       "7                     s_kentucky  1  3  0  2\n",
       "8                       m_leprae  3  1  2  0\n",
       "9                     st93_dated  2  0  3  1\n",
       "10                st239_complete  1  0  3  2\n",
       "11             klebsiella_clade1  0  2  3  1\n",
       "12             klebsiella_clade2  0  2  3  1\n",
       "13  st_usa300_dates_no_outgroups  1  0  3  2\n",
       "14             typhi_no_outliers  0  2  1  3\n",
       "15            paratyphi_a_clade1  0  2  1  3\n",
       "16            paratyphi_a_clade2  1  3  2  0\n",
       "17            e_faecium_clades12  0  1  3  2\n",
       "18                  A_baumanii_1  0  1  2  3\n",
       "19              e_faecium_clade1  3  1  0  2\n",
       "20              e_faecium_clade2  2  3  1  0\n",
       "21      y_pestis_second_pandemic  1  0  3  2\n",
       "22                   b_pertussis  1  0  3  2\n",
       "23                    v_cholerae  2  3  0  1\n",
       "24                  A_baumanii_2  1  3  0  2\n",
       "25            paratyphi_clades12  1  0  2  3\n",
       "26               shigella_sonnei  1  0  3  2\n",
       "27                  agona_pruned  0  1  3  2\n",
       "28                           Sd1  1  3  0  2\n",
       "29               y_pestis_pruned  0  1  3  2\n",
       "30       strep_pyogenes_clades12  0  1  3  2\n",
       "31           staph_ingroup_st239  1  0  3  2\n",
       "32        TB_beijing_no_outliers  1  0  3  2\n",
       "33              st22_pruned_snps  1  3  0  2\n",
       "34         strep_pyogenes_clade2  0  1  3  2\n",
       "35             staph_CC398_dated  2  0  1  3\n",
       "36         strep_pyogenes_clade1  2  3  1  0\n",
       "37                  TB_animal_L6  2  3  0  1"
      ]
     },
     "execution_count": 27,
     "metadata": {},
     "output_type": "execute_result"
    }
   ],
   "source": [
    "ml_matrix <- read.table('models_chosen.csv', sep= ',', head = T )\n",
    "ml_matrix <- ml_matrix[-which(ml_matrix$data_set == 'e_faecium_no_outgroups'), ]\n",
    "ml_matrix <- ml_matrix[-grep('neiss', ml_matrix$data_set), ]\n",
    "ml_matrix <- ml_matrix[, -1]\n",
    "ml_matrix"
   ]
  },
  {
   "cell_type": "code",
   "execution_count": 28,
   "metadata": {
    "collapsed": false
   },
   "outputs": [
    {
     "data": {
      "text/html": [
       "<table>\n",
       "<thead><tr><th></th><th scope=col>long_names</th><th scope=col>beast_genomic_rate</th><th scope=col>sc</th><th scope=col>ss</th><th scope=col>rc</th><th scope=col>rs</th></tr></thead>\n",
       "<tbody>\n",
       "\t<tr><th scope=row>11</th><td>Mycobacterium leprae</td><td>1.562162e-08</td><td>3</td><td>1</td><td>2</td><td>0</td></tr>\n",
       "\t<tr><th scope=row>34</th><td>Yersinia pestis</td><td>1.572643e-08</td><td>0</td><td>1</td><td>3</td><td>2</td></tr>\n",
       "\t<tr><th scope=row>35</th><td>Yersinia pestis (second pandemic)</td><td>2.260972e-08</td><td>1</td><td>0</td><td>3</td><td>2</td></tr>\n",
       "\t<tr><th scope=row>30</th><td>Mycobacterium tuberculosis (NW mummies) </td><td>5.391477e-08</td><td>2</td><td>3</td><td>0</td><td>1</td></tr>\n",
       "\t<tr><th scope=row>12</th><td>Mycobacterium tuberculosis Lineage 4</td><td>5.675213e-08</td><td>0</td><td>1</td><td>3</td><td>2</td></tr>\n",
       "\t<tr><th scope=row>16</th><td>Salmonella Paratyphi A (two clades)</td><td>7.604037e-08</td><td>1</td><td>0</td><td>2</td><td>3</td></tr>\n",
       "</tbody>\n",
       "</table>\n"
      ],
      "text/latex": [
       "\\begin{tabular}{r|llllll}\n",
       "  & long_names & beast_genomic_rate & sc & ss & rc & rs\\\\\n",
       "\\hline\n",
       "\t11 & Mycobacterium leprae & 1.562162e-08 & 3 & 1 & 2 & 0\\\\\n",
       "\t34 & Yersinia pestis & 1.572643e-08 & 0 & 1 & 3 & 2\\\\\n",
       "\t35 & Yersinia pestis (second pandemic) & 2.260972e-08 & 1 & 0 & 3 & 2\\\\\n",
       "\t30 & Mycobacterium tuberculosis (NW mummies)  & 5.391477e-08 & 2 & 3 & 0 & 1\\\\\n",
       "\t12 & Mycobacterium tuberculosis Lineage 4 & 5.675213e-08 & 0 & 1 & 3 & 2\\\\\n",
       "\t16 & Salmonella Paratyphi A (two clades) & 7.604037e-08 & 1 & 0 & 2 & 3\\\\\n",
       "\\end{tabular}\n"
      ],
      "text/plain": [
       "                                 long_names beast_genomic_rate sc ss rc rs\n",
       "11                     Mycobacterium leprae       1.562162e-08  3  1  2  0\n",
       "34                          Yersinia pestis       1.572643e-08  0  1  3  2\n",
       "35        Yersinia pestis (second pandemic)       2.260972e-08  1  0  3  2\n",
       "30 Mycobacterium tuberculosis (NW mummies)        5.391477e-08  2  3  0  1\n",
       "12     Mycobacterium tuberculosis Lineage 4       5.675213e-08  0  1  3  2\n",
       "16      Salmonella Paratyphi A (two clades)       7.604037e-08  1  0  2  3"
      ]
     },
     "execution_count": 28,
     "metadata": {},
     "output_type": "execute_result"
    },
    {
     "data": {
      "text/html": [
       "<strong>pdf:</strong> 2"
      ],
      "text/latex": [
       "\\textbf{pdf:} 2"
      ],
      "text/markdown": [
       "**pdf:** 2"
      ],
      "text/plain": [
       "pdf \n",
       "  2 "
      ]
     },
     "execution_count": 28,
     "metadata": {},
     "output_type": "execute_result"
    }
   ],
   "source": [
    "pdf('mutation_model_heatmaps.pdf', useDingbats = F, height = 7, width = 7)\n",
    "par(mfrow = c(2, 1))\n",
    "cols <- colorRampPalette(c('red', 'orange', 'lightyellow'), space = 'rgb')(100)\n",
    "merged_data <- merge(meta_data[, c('long_names', 'beast_genomic_rate', 'short_name')], ml_matrix, by.x = 3, by.y = 1)\n",
    "merged_data <- merged_data[order(merged_data$beast_genomic_rate), -1]\n",
    "\n",
    "plot_mat <- as.matrix(merged_data[, 3:ncol(merged_data)])\n",
    "rownames(plot_mat) <- merged_data[, 1]\n",
    "head(merged_data)\n",
    "heatmap(plot_mat, Rowv = NA, Colv=NA, col = cols, cexRow  = 0.2)\n",
    "\n",
    "cols_mut <- colorRampPalette(c('lightyellow',  'blue'), space = 'rgb')(100)\n",
    "\n",
    "mut_prof_mat <- as.matrix(meta_data[order(meta_data$beast_genomic_rate), c('ac', 'ag', 'at', 'cg', 'gt', 'ct')])\n",
    "#rownames(mut_prof_mat) <- rownames(plot_mat)\n",
    "heatmap(mut_prof_mat, Rowv = NA, Colv = NA, col = cols, cexRow = 0.5)\n",
    "\n",
    "dev.off()\n"
   ]
  },
  {
   "cell_type": "code",
   "execution_count": 29,
   "metadata": {
    "collapsed": false
   },
   "outputs": [
    {
     "data": {
      "text/html": [
       "<table>\n",
       "<thead><tr><th></th><th scope=col>long_names</th><th scope=col>beast_genomic_rate</th><th scope=col>sc</th><th scope=col>ss</th><th scope=col>rc</th><th scope=col>rs</th></tr></thead>\n",
       "<tbody>\n",
       "\t<tr><th scope=row>11</th><td>Mycobacterium leprae</td><td>1.562162e-08</td><td>3</td><td>1</td><td>2</td><td>0</td></tr>\n",
       "\t<tr><th scope=row>34</th><td>Yersinia pestis</td><td>1.572643e-08</td><td>0</td><td>1</td><td>3</td><td>2</td></tr>\n",
       "\t<tr><th scope=row>35</th><td>Yersinia pestis (second pandemic)</td><td>2.260972e-08</td><td>1</td><td>0</td><td>3</td><td>2</td></tr>\n",
       "\t<tr><th scope=row>30</th><td>Mycobacterium tuberculosis (NW mummies) </td><td>5.391477e-08</td><td>2</td><td>3</td><td>0</td><td>1</td></tr>\n",
       "\t<tr><th scope=row>12</th><td>Mycobacterium tuberculosis Lineage 4</td><td>5.675213e-08</td><td>0</td><td>1</td><td>3</td><td>2</td></tr>\n",
       "\t<tr><th scope=row>16</th><td>Salmonella Paratyphi A (two clades)</td><td>7.604037e-08</td><td>1</td><td>0</td><td>2</td><td>3</td></tr>\n",
       "\t<tr><th scope=row>14</th><td>Salmonella Paratyphi A (clade 1)</td><td>8.016475e-08</td><td>0</td><td>2</td><td>1</td><td>3</td></tr>\n",
       "\t<tr><th scope=row>15</th><td>Salmonella Paratyphi A (clade 2)</td><td>9.473972e-08</td><td>1</td><td>3</td><td>2</td><td>0</td></tr>\n",
       "\t<tr><th scope=row>4</th><td>Bordetella pertussis</td><td>1.72569e-07</td><td>1</td><td>0</td><td>3</td><td>2</td></tr>\n",
       "\t<tr><th scope=row>32</th><td>Salmonella Typhi H58</td><td>1.781592e-07</td><td>0</td><td>2</td><td>1</td><td>3</td></tr>\n",
       "\t<tr><th scope=row>31</th><td>Mycobacterium tuberculosis Lineage 2</td><td>1.926953e-07</td><td>1</td><td>0</td><td>3</td><td>2</td></tr>\n",
       "\t<tr><th scope=row>18</th><td>Streptococcus pneumoniae PMEN1</td><td>2.200994e-07</td><td>0</td><td>1</td><td>2</td><td>3</td></tr>\n",
       "\t<tr><th scope=row>10</th><td>Klebsiella pneumoniae CC258 (two clades)</td><td>2.269612e-07</td><td>2</td><td>0</td><td>3</td><td>1</td></tr>\n",
       "\t<tr><th scope=row>8</th><td>Klebsiella pneumoniae CC258 (clade 1)</td><td>2.561358e-07</td><td>0</td><td>2</td><td>3</td><td>1</td></tr>\n",
       "\t<tr><th scope=row>9</th><td>Klebsiella pneumoniae CC258 (clade 2)</td><td>2.988411e-07</td><td>0</td><td>2</td><td>3</td><td>1</td></tr>\n",
       "\t<tr><th scope=row>13</th><td>Pseudomonas aeruginosa</td><td>3.362279e-07</td><td>0</td><td>1</td><td>3</td><td>2</td></tr>\n",
       "\t<tr><th scope=row>3</th><td>Salmonella Agona</td><td>3.952926e-07</td><td>0</td><td>1</td><td>3</td><td>2</td></tr>\n",
       "\t<tr><th scope=row>17</th><td>Salmonella Kentucky</td><td>5.345664e-07</td><td>1</td><td>3</td><td>0</td><td>2</td></tr>\n",
       "\t<tr><th scope=row>24</th><td>Staphylococcus aureus ST93</td><td>5.555916e-07</td><td>2</td><td>0</td><td>3</td><td>1</td></tr>\n",
       "\t<tr><th scope=row>20</th><td>Shigella sonnei VN</td><td>8.19116e-07</td><td>1</td><td>0</td><td>3</td><td>2</td></tr>\n",
       "\t<tr><th scope=row>33</th><td>Vibrio cholerae</td><td>9.598715e-07</td><td>2</td><td>3</td><td>0</td><td>1</td></tr>\n",
       "\t<tr><th scope=row>26</th><td>Staphylococcus aureus ST239 (ingroup)</td><td>9.709228e-07</td><td>1</td><td>0</td><td>3</td><td>2</td></tr>\n",
       "\t<tr><th scope=row>23</th><td>Staphylococcus aureus ST239 (all)</td><td>9.922578e-07</td><td>1</td><td>0</td><td>3</td><td>2</td></tr>\n",
       "\t<tr><th scope=row>19</th><td>Shigella dysenteriae Sd1</td><td>1.006327e-06</td><td>1</td><td>3</td><td>0</td><td>2</td></tr>\n",
       "\t<tr><th scope=row>21</th><td>Staphylococcus aureus ST8-USA300</td><td>1.220352e-06</td><td>1</td><td>0</td><td>3</td><td>2</td></tr>\n",
       "\t<tr><th scope=row>29</th><td>Streptococcus pyogenes (two clades)</td><td>1.226589e-06</td><td>0</td><td>1</td><td>3</td><td>2</td></tr>\n",
       "\t<tr><th scope=row>28</th><td>Streptococcus pyogenes (clade 2)</td><td>1.287981e-06</td><td>0</td><td>1</td><td>3</td><td>2</td></tr>\n",
       "\t<tr><th scope=row>27</th><td>Streptococcus pyogenes (clade 1)</td><td>1.335843e-06</td><td>2</td><td>3</td><td>1</td><td>0</td></tr>\n",
       "\t<tr><th scope=row>2</th><td>Acinetobacter baumannii GC1</td><td>1.680932e-06</td><td>1</td><td>3</td><td>0</td><td>2</td></tr>\n",
       "\t<tr><th scope=row>22</th><td>Staphylococcus aureus ST22</td><td>1.98e-06</td><td>1</td><td>3</td><td>0</td><td>2</td></tr>\n",
       "\t<tr><th scope=row>25</th><td>Staphylococcus aureus CC398</td><td>2.431578e-06</td><td>2</td><td>0</td><td>1</td><td>3</td></tr>\n",
       "\t<tr><th scope=row>1</th><td>Acinetobacter baumannii GC2</td><td>3.153169e-06</td><td>0</td><td>1</td><td>2</td><td>3</td></tr>\n",
       "\t<tr><th scope=row>7</th><td>Enterococcus faecium (two clades)</td><td>3.42e-06</td><td>0</td><td>1</td><td>3</td><td>2</td></tr>\n",
       "\t<tr><th scope=row>5</th><td>Enterococcus faecium (clade1)</td><td>3.73e-06</td><td>3</td><td>1</td><td>0</td><td>2</td></tr>\n",
       "\t<tr><th scope=row>6</th><td>Enterococcus faecium (clade2)</td><td>9.35e-06</td><td>2</td><td>3</td><td>1</td><td>0</td></tr>\n",
       "</tbody>\n",
       "</table>\n"
      ],
      "text/latex": [
       "\\begin{tabular}{r|llllll}\n",
       "  & long_names & beast_genomic_rate & sc & ss & rc & rs\\\\\n",
       "\\hline\n",
       "\t11 & Mycobacterium leprae & 1.562162e-08 & 3 & 1 & 2 & 0\\\\\n",
       "\t34 & Yersinia pestis & 1.572643e-08 & 0 & 1 & 3 & 2\\\\\n",
       "\t35 & Yersinia pestis (second pandemic) & 2.260972e-08 & 1 & 0 & 3 & 2\\\\\n",
       "\t30 & Mycobacterium tuberculosis (NW mummies)  & 5.391477e-08 & 2 & 3 & 0 & 1\\\\\n",
       "\t12 & Mycobacterium tuberculosis Lineage 4 & 5.675213e-08 & 0 & 1 & 3 & 2\\\\\n",
       "\t16 & Salmonella Paratyphi A (two clades) & 7.604037e-08 & 1 & 0 & 2 & 3\\\\\n",
       "\t14 & Salmonella Paratyphi A (clade 1) & 8.016475e-08 & 0 & 2 & 1 & 3\\\\\n",
       "\t15 & Salmonella Paratyphi A (clade 2) & 9.473972e-08 & 1 & 3 & 2 & 0\\\\\n",
       "\t4 & Bordetella pertussis & 1.72569e-07 & 1 & 0 & 3 & 2\\\\\n",
       "\t32 & Salmonella Typhi H58 & 1.781592e-07 & 0 & 2 & 1 & 3\\\\\n",
       "\t31 & Mycobacterium tuberculosis Lineage 2 & 1.926953e-07 & 1 & 0 & 3 & 2\\\\\n",
       "\t18 & Streptococcus pneumoniae PMEN1 & 2.200994e-07 & 0 & 1 & 2 & 3\\\\\n",
       "\t10 & Klebsiella pneumoniae CC258 (two clades) & 2.269612e-07 & 2 & 0 & 3 & 1\\\\\n",
       "\t8 & Klebsiella pneumoniae CC258 (clade 1) & 2.561358e-07 & 0 & 2 & 3 & 1\\\\\n",
       "\t9 & Klebsiella pneumoniae CC258 (clade 2) & 2.988411e-07 & 0 & 2 & 3 & 1\\\\\n",
       "\t13 & Pseudomonas aeruginosa & 3.362279e-07 & 0 & 1 & 3 & 2\\\\\n",
       "\t3 & Salmonella Agona & 3.952926e-07 & 0 & 1 & 3 & 2\\\\\n",
       "\t17 & Salmonella Kentucky & 5.345664e-07 & 1 & 3 & 0 & 2\\\\\n",
       "\t24 & Staphylococcus aureus ST93 & 5.555916e-07 & 2 & 0 & 3 & 1\\\\\n",
       "\t20 & Shigella sonnei VN & 8.19116e-07 & 1 & 0 & 3 & 2\\\\\n",
       "\t33 & Vibrio cholerae & 9.598715e-07 & 2 & 3 & 0 & 1\\\\\n",
       "\t26 & Staphylococcus aureus ST239 (ingroup) & 9.709228e-07 & 1 & 0 & 3 & 2\\\\\n",
       "\t23 & Staphylococcus aureus ST239 (all) & 9.922578e-07 & 1 & 0 & 3 & 2\\\\\n",
       "\t19 & Shigella dysenteriae Sd1 & 1.006327e-06 & 1 & 3 & 0 & 2\\\\\n",
       "\t21 & Staphylococcus aureus ST8-USA300 & 1.220352e-06 & 1 & 0 & 3 & 2\\\\\n",
       "\t29 & Streptococcus pyogenes (two clades) & 1.226589e-06 & 0 & 1 & 3 & 2\\\\\n",
       "\t28 & Streptococcus pyogenes (clade 2) & 1.287981e-06 & 0 & 1 & 3 & 2\\\\\n",
       "\t27 & Streptococcus pyogenes (clade 1) & 1.335843e-06 & 2 & 3 & 1 & 0\\\\\n",
       "\t2 & Acinetobacter baumannii GC1 & 1.680932e-06 & 1 & 3 & 0 & 2\\\\\n",
       "\t22 & Staphylococcus aureus ST22 & 1.98e-06 & 1 & 3 & 0 & 2\\\\\n",
       "\t25 & Staphylococcus aureus CC398 & 2.431578e-06 & 2 & 0 & 1 & 3\\\\\n",
       "\t1 & Acinetobacter baumannii GC2 & 3.153169e-06 & 0 & 1 & 2 & 3\\\\\n",
       "\t7 & Enterococcus faecium (two clades) & 3.42e-06 & 0 & 1 & 3 & 2\\\\\n",
       "\t5 & Enterococcus faecium (clade1) & 3.73e-06 & 3 & 1 & 0 & 2\\\\\n",
       "\t6 & Enterococcus faecium (clade2) & 9.35e-06 & 2 & 3 & 1 & 0\\\\\n",
       "\\end{tabular}\n"
      ],
      "text/plain": [
       "                                 long_names beast_genomic_rate sc ss rc rs\n",
       "11                     Mycobacterium leprae       1.562162e-08  3  1  2  0\n",
       "34                          Yersinia pestis       1.572643e-08  0  1  3  2\n",
       "35        Yersinia pestis (second pandemic)       2.260972e-08  1  0  3  2\n",
       "30 Mycobacterium tuberculosis (NW mummies)        5.391477e-08  2  3  0  1\n",
       "12     Mycobacterium tuberculosis Lineage 4       5.675213e-08  0  1  3  2\n",
       "16      Salmonella Paratyphi A (two clades)       7.604037e-08  1  0  2  3\n",
       "14         Salmonella Paratyphi A (clade 1)       8.016475e-08  0  2  1  3\n",
       "15         Salmonella Paratyphi A (clade 2)       9.473972e-08  1  3  2  0\n",
       "4                      Bordetella pertussis       1.725690e-07  1  0  3  2\n",
       "32                     Salmonella Typhi H58       1.781592e-07  0  2  1  3\n",
       "31     Mycobacterium tuberculosis Lineage 2       1.926953e-07  1  0  3  2\n",
       "18           Streptococcus pneumoniae PMEN1       2.200994e-07  0  1  2  3\n",
       "10 Klebsiella pneumoniae CC258 (two clades)       2.269612e-07  2  0  3  1\n",
       "8     Klebsiella pneumoniae CC258 (clade 1)       2.561358e-07  0  2  3  1\n",
       "9     Klebsiella pneumoniae CC258 (clade 2)       2.988411e-07  0  2  3  1\n",
       "13                   Pseudomonas aeruginosa       3.362279e-07  0  1  3  2\n",
       "3                          Salmonella Agona       3.952926e-07  0  1  3  2\n",
       "17                      Salmonella Kentucky       5.345664e-07  1  3  0  2\n",
       "24               Staphylococcus aureus ST93       5.555916e-07  2  0  3  1\n",
       "20                       Shigella sonnei VN       8.191160e-07  1  0  3  2\n",
       "33                          Vibrio cholerae       9.598715e-07  2  3  0  1\n",
       "26    Staphylococcus aureus ST239 (ingroup)       9.709228e-07  1  0  3  2\n",
       "23        Staphylococcus aureus ST239 (all)       9.922578e-07  1  0  3  2\n",
       "19                 Shigella dysenteriae Sd1       1.006327e-06  1  3  0  2\n",
       "21         Staphylococcus aureus ST8-USA300       1.220352e-06  1  0  3  2\n",
       "29      Streptococcus pyogenes (two clades)       1.226589e-06  0  1  3  2\n",
       "28         Streptococcus pyogenes (clade 2)       1.287981e-06  0  1  3  2\n",
       "27         Streptococcus pyogenes (clade 1)       1.335843e-06  2  3  1  0\n",
       "2               Acinetobacter baumannii GC1       1.680932e-06  1  3  0  2\n",
       "22               Staphylococcus aureus ST22       1.980000e-06  1  3  0  2\n",
       "25              Staphylococcus aureus CC398       2.431578e-06  2  0  1  3\n",
       "1               Acinetobacter baumannii GC2       3.153169e-06  0  1  2  3\n",
       "7         Enterococcus faecium (two clades)       3.420000e-06  0  1  3  2\n",
       "5             Enterococcus faecium (clade1)       3.730000e-06  3  1  0  2\n",
       "6             Enterococcus faecium (clade2)       9.350000e-06  2  3  1  0"
      ]
     },
     "execution_count": 29,
     "metadata": {},
     "output_type": "execute_result"
    }
   ],
   "source": [
    "merged_data"
   ]
  },
  {
   "cell_type": "code",
   "execution_count": null,
   "metadata": {
    "collapsed": false
   },
   "outputs": [],
   "source": []
  },
  {
   "cell_type": "code",
   "execution_count": null,
   "metadata": {
    "collapsed": true
   },
   "outputs": [],
   "source": []
  },
  {
   "cell_type": "code",
   "execution_count": null,
   "metadata": {
    "collapsed": true
   },
   "outputs": [],
   "source": []
  },
  {
   "cell_type": "code",
   "execution_count": null,
   "metadata": {
    "collapsed": true
   },
   "outputs": [],
   "source": []
  },
  {
   "cell_type": "code",
   "execution_count": null,
   "metadata": {
    "collapsed": true
   },
   "outputs": [],
   "source": []
  },
  {
   "cell_type": "code",
   "execution_count": null,
   "metadata": {
    "collapsed": true
   },
   "outputs": [],
   "source": []
  },
  {
   "cell_type": "code",
   "execution_count": null,
   "metadata": {
    "collapsed": true
   },
   "outputs": [],
   "source": []
  },
  {
   "cell_type": "code",
   "execution_count": null,
   "metadata": {
    "collapsed": true
   },
   "outputs": [],
   "source": []
  },
  {
   "cell_type": "code",
   "execution_count": null,
   "metadata": {
    "collapsed": true
   },
   "outputs": [],
   "source": []
  }
 ],
 "metadata": {
  "kernelspec": {
   "display_name": "R",
   "language": "R",
   "name": "ir"
  },
  "language_info": {
   "codemirror_mode": "r",
   "file_extension": ".r",
   "mimetype": "text/x-r-source",
   "name": "R",
   "pygments_lexer": "r",
   "version": "3.2.2"
  }
 },
 "nbformat": 4,
 "nbformat_minor": 0
}
