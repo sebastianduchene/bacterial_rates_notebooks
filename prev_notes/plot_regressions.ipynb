{
 "cells": [
  {
   "cell_type": "code",
   "execution_count": 2,
   "metadata": {
    "collapsed": false
   },
   "outputs": [],
   "source": [
    "library(gdata)\n",
    "library(RColorBrewer)"
   ]
  },
  {
   "cell_type": "code",
   "execution_count": 3,
   "metadata": {
    "collapsed": false
   },
   "outputs": [
    {
     "data": {
      "text/html": [
       "<table>\n",
       "<thead><tr><th></th><th scope=col>beast_genomic_rate</th><th scope=col>long_names</th></tr></thead>\n",
       "<tbody>\n",
       "\t<tr><th scope=row>1</th><td>1.562162e-08</td><td>Mycobacterium leprae</td></tr>\n",
       "\t<tr><th scope=row>2</th><td>1.572643e-08</td><td>Yersinia pestis</td></tr>\n",
       "\t<tr><th scope=row>3</th><td>2.260972e-08</td><td>Yersinia pestis (second pandemic)</td></tr>\n",
       "\t<tr><th scope=row>4</th><td>5.675213e-08</td><td>Mycobacterium tuberculosis Lineage 4</td></tr>\n",
       "\t<tr><th scope=row>6</th><td>7.604037e-08</td><td>Salmonella Paratyphi A (two clades)</td></tr>\n",
       "\t<tr><th scope=row>7</th><td>8.016475e-08</td><td>Salmonella Paratyphi A (clade 1)</td></tr>\n",
       "</tbody>\n",
       "</table>\n"
      ],
      "text/latex": [
       "\\begin{tabular}{r|ll}\n",
       "  & beast_genomic_rate & long_names\\\\\n",
       "\\hline\n",
       "\t1 & 1.562162e-08 & Mycobacterium leprae\\\\\n",
       "\t2 & 1.572643e-08 & Yersinia pestis\\\\\n",
       "\t3 & 2.260972e-08 & Yersinia pestis (second pandemic)\\\\\n",
       "\t4 & 5.675213e-08 & Mycobacterium tuberculosis Lineage 4\\\\\n",
       "\t6 & 7.604037e-08 & Salmonella Paratyphi A (two clades)\\\\\n",
       "\t7 & 8.016475e-08 & Salmonella Paratyphi A (clade 1)\\\\\n",
       "\\end{tabular}\n"
      ],
      "text/plain": [
       "  beast_genomic_rate                           long_names\n",
       "1       1.562162e-08                 Mycobacterium leprae\n",
       "2       1.572643e-08                      Yersinia pestis\n",
       "3       2.260972e-08    Yersinia pestis (second pandemic)\n",
       "4       5.675213e-08 Mycobacterium tuberculosis Lineage 4\n",
       "6       7.604037e-08  Salmonella Paratyphi A (two clades)\n",
       "7       8.016475e-08     Salmonella Paratyphi A (clade 1)"
      ]
     },
     "execution_count": 3,
     "metadata": {},
     "output_type": "execute_result"
    },
    {
     "data": {
      "text/html": [
       "<table>\n",
       "<thead><tr><th></th><th scope=col>X</th><th scope=col>n_recomb</th><th scope=col>RDP_methods</th><th scope=col>code</th><th scope=col>species</th><th scope=col>Name</th><th scope=col>CG.</th><th scope=col>titv</th><th scope=col>ac</th><th scope=col>ag</th><th scope=col>ellip.h</th><th scope=col>A</th><th scope=col>C</th><th scope=col>G</th><th scope=col>T</th><th scope=col>ref</th><th scope=col>reg_rsquared</th><th scope=col>reg_squared</th><th scope=col>reg_conf_int</th><th scope=col>long_names</th><th scope=col>short_name</th></tr></thead>\n",
       "<tbody>\n",
       "\t<tr><th scope=row>29</th><td>28</td><td>1</td><td>R</td><td>A. baum.</td><td>Acinetobacter baumannii</td><td>A. baumannii GC1</td><td>39</td><td>0.7004062</td><td>0.396</td><td>1.069</td><td>⋯</td><td>0.2706</td><td>0.226</td><td>0.2259</td><td>0.2769</td><td></td><td>NA</td><td>0.73</td><td>[1.11607935392489e-06,1.6210860022724e-06]</td><td>Acinetobacter baumannii GC1</td><td>A_baumanii_2</td></tr>\n",
       "\t<tr><th scope=row>32</th><td>31</td><td>1</td><td>R</td><td>A. baum.</td><td>Acinetobacter baumannii</td><td>A. baumannii GC2</td><td>39</td><td>0.7525907</td><td>0.481</td><td>1.324</td><td>⋯</td><td>0.225</td><td>0.265</td><td>0.214</td><td>0.2964</td><td></td><td>NA</td><td>0.71</td><td>[2.10569584307426e-06,2.89310672127826e-06]</td><td>Acinetobacter baumannii GC2</td><td>A_baumanii_1</td></tr>\n",
       "\t<tr><th scope=row>9</th><td>8</td><td>0</td><td>None</td><td>B. pert.</td><td>Bordetella pertussis</td><td>B. pertussis</td><td>67.7</td><td>1.4154</td><td>0.132765</td><td>1.056287</td><td>⋯</td><td>0.08703574</td><td>0.4599019</td><td>0.3762812</td><td>0.07678113</td><td>Bart, M. J., Harris, S. R., Advani, A., Arakawa, Y., Bottero, D., Bouchez, V., ... & Mooi, F. R. (2014). Global population structure and evolution of Bordetella pertussis and their relationship with vaccination. MBio, 5(2), e01074-14.</td><td>NA</td><td>0.7</td><td>[2.24250043312779e-07,2.77216941572175e-07]</td><td>Bordetella pertussis</td><td>b_pertussis</td></tr>\n",
       "\t<tr><th scope=row>31</th><td>30</td><td>4</td><td>RGBMST</td><td>E. faec.</td><td>Enterococcus faecium</td><td>E. faecium (clade1)</td><td>38</td><td>0.8705608</td><td>0.351707</td><td>0.963501</td><td>⋯</td><td>0.2384732</td><td>0.2716731</td><td>0.2760906</td><td>0.2137631</td><td>Howden, B. P., Holt, K. E., Lam, M. M., Seemann, T., Ballard, S., Coombs, G. W., ... & Stinear, T. P. (2013). Genomic insights to control the emergence of vancomycin-resistant enterococci. MBio, 4(4), e00412-13.</td><td>NA</td><td>0.243</td><td>[-1.03e-06 5.68e-06]</td><td>Enterococcus faecium (clade1)</td><td>e_faecium_clade1_RDP</td></tr>\n",
       "\t<tr><th scope=row>35</th><td>34</td><td>8</td><td>RGBMST</td><td>E. faec.</td><td>Enterococcus faecium</td><td>E. faecium (clade2)</td><td>38</td><td>0.945975</td><td>0.326433</td><td>1.112886</td><td>⋯</td><td>0.2355818</td><td>0.2656311</td><td>0.2940762</td><td>0.2047109</td><td>Howden, B. P., Holt, K. E., Lam, M. M., Seemann, T., Ballard, S., Coombs, G. W., ... & Stinear, T. P. (2013). Genomic insights to control the emergence of vancomycin-resistant enterococci. MBio, 4(4), e00412-13.</td><td>NA</td><td>0.0003489</td><td>[ 5.8365e-06 -6.2175e-06]</td><td>Enterococcus faecium (clade2)</td><td>e_faecium_clade2__skyline</td></tr>\n",
       "\t<tr><th scope=row>34</th><td>33</td><td>8</td><td>RGBMST</td><td>E. faec.</td><td>Enterococcus faecium</td><td>E. faecium (two clades)</td><td>38</td><td>0.9179449</td><td>0.3342837</td><td>1.011097</td><td>⋯</td><td>0.2366279</td><td>0.267817</td><td>0.2875693</td><td>0.2079858</td><td>Howden, B. P., Holt, K. E., Lam, M. M., Seemann, T., Ballard, S., Coombs, G. W., ... & Stinear, T. P. (2013). Genomic insights to control the emergence of vancomycin-resistant enterococci. MBio, 4(4), e00412-13.</td><td>NA</td><td>0.0192</td><td>[ 2.5793e-06 -1.3799e-06]</td><td>Enterococcus faecium (two clades)</td><td>e_faecium_clades12</td></tr>\n",
       "</tbody>\n",
       "</table>\n"
      ],
      "text/latex": [
       "\\begin{tabular}{r|llllllllllllllllllllllllllllllllllllllllllllllllllllll}\n",
       "  & X & n_recomb & RDP_methods & code & species & Name & CG. & titv & ac & ag & ellip.h & A & C & G & T & ref & reg_rsquared & reg_squared & reg_conf_int & long_names & short_name\\\\\n",
       "\\hline\n",
       "\t29 & 28 & 1 & R & A. baum. & Acinetobacter baumannii & A. baumannii GC1 & 39 & 0.7004062 & 0.396 & 1.069 & ⋯ & 0.2706 & 0.226 & 0.2259 & 0.2769 &  & NA & 0.73 & [1.11607935392489e-06,1.6210860022724e-06] & Acinetobacter baumannii GC1 & A_baumanii_2\\\\\n",
       "\t32 & 31 & 1 & R & A. baum. & Acinetobacter baumannii & A. baumannii GC2 & 39 & 0.7525907 & 0.481 & 1.324 & ⋯ & 0.225 & 0.265 & 0.214 & 0.2964 &  & NA & 0.71 & [2.10569584307426e-06,2.89310672127826e-06] & Acinetobacter baumannii GC2 & A_baumanii_1\\\\\n",
       "\t9 & 8 & 0 & None & B. pert. & Bordetella pertussis & B. pertussis & 67.7 & 1.4154 & 0.132765 & 1.056287 & ⋯ & 0.08703574 & 0.4599019 & 0.3762812 & 0.07678113 & Bart, M. J., Harris, S. R., Advani, A., Arakawa, Y., Bottero, D., Bouchez, V., ... & Mooi, F. R. (2014). Global population structure and evolution of Bordetella pertussis and their relationship with vaccination. MBio, 5(2), e01074-14. & NA & 0.7 & [2.24250043312779e-07,2.77216941572175e-07] & Bordetella pertussis & b_pertussis\\\\\n",
       "\t31 & 30 & 4 & RGBMST & E. faec. & Enterococcus faecium & E. faecium (clade1) & 38 & 0.8705608 & 0.351707 & 0.963501 & ⋯ & 0.2384732 & 0.2716731 & 0.2760906 & 0.2137631 & Howden, B. P., Holt, K. E., Lam, M. M., Seemann, T., Ballard, S., Coombs, G. W., ... & Stinear, T. P. (2013). Genomic insights to control the emergence of vancomycin-resistant enterococci. MBio, 4(4), e00412-13. & NA & 0.243 & [-1.03e-06 5.68e-06] & Enterococcus faecium (clade1) & e_faecium_clade1_RDP\\\\\n",
       "\t35 & 34 & 8 & RGBMST & E. faec. & Enterococcus faecium & E. faecium (clade2) & 38 & 0.945975 & 0.326433 & 1.112886 & ⋯ & 0.2355818 & 0.2656311 & 0.2940762 & 0.2047109 & Howden, B. P., Holt, K. E., Lam, M. M., Seemann, T., Ballard, S., Coombs, G. W., ... & Stinear, T. P. (2013). Genomic insights to control the emergence of vancomycin-resistant enterococci. MBio, 4(4), e00412-13. & NA & 0.0003489 & [ 5.8365e-06 -6.2175e-06] & Enterococcus faecium (clade2) & e_faecium_clade2__skyline\\\\\n",
       "\t34 & 33 & 8 & RGBMST & E. faec. & Enterococcus faecium & E. faecium (two clades) & 38 & 0.9179449 & 0.3342837 & 1.011097 & ⋯ & 0.2366279 & 0.267817 & 0.2875693 & 0.2079858 & Howden, B. P., Holt, K. E., Lam, M. M., Seemann, T., Ballard, S., Coombs, G. W., ... & Stinear, T. P. (2013). Genomic insights to control the emergence of vancomycin-resistant enterococci. MBio, 4(4), e00412-13. & NA & 0.0192 & [ 2.5793e-06 -1.3799e-06] & Enterococcus faecium (two clades) & e_faecium_clades12\\\\\n",
       "\\end{tabular}\n"
      ],
      "text/plain": [
       "    X n_recomb RDP_methods     code                 species\n",
       "29 28        1           R A. baum. Acinetobacter baumannii\n",
       "32 31        1           R A. baum. Acinetobacter baumannii\n",
       "9   8        0        None B. pert.    Bordetella pertussis\n",
       "31 30        4      RGBMST E. faec.    Enterococcus faecium\n",
       "35 34        8      RGBMST E. faec.    Enterococcus faecium\n",
       "34 33        8      RGBMST E. faec.    Enterococcus faecium\n",
       "                      Name  CG.      titv        ac       ag        at\n",
       "29        A. baumannii GC1 39.0 0.7004062 0.3960000 1.069000 0.8650000\n",
       "32        A. baumannii GC2 39.0 0.7525907 0.4810000 1.324000 0.7310000\n",
       "9             B. pertussis 67.7 1.4154001 0.1327650 1.056287 0.1153993\n",
       "31     E. faecium (clade1) 38.0 0.8705608 0.3517070 0.963501 0.3269566\n",
       "35     E. faecium (clade2) 38.0 0.9459750 0.3264330 1.112886 0.2686993\n",
       "34 E. faecium (two clades) 38.0 0.9179449 0.3342837 1.011097 0.2880313\n",
       "           cg        gt ct  model_chosen lifestile_coded     lifestyle_k\n",
       "29 0.21000000 0.4140000  1 ucld_constant              NA                \n",
       "32 0.16800000 0.3840000  1  ucld_skyline              NA                \n",
       "9  0.02135782 0.1269866  1 ucld_constant               2 host associated\n",
       "31 0.10938769 0.5038915  1 ucld_constant               1             not\n",
       "35 0.10014322 0.4253921  1  ucld_skyline               1             not\n",
       "34 0.10622746 0.4512295  1 ucld_constant               1             not\n",
       "               lifestyile gram_coded  gram\n",
       "29                                NA      \n",
       "32                                NA      \n",
       "9       obligate_parasite          2 gram-\n",
       "31 commensal_oportunistic          1 gram+\n",
       "35 commensal_oportunistic          1 gram+\n",
       "34 commensal_oportunistic          1 gram+\n",
       "                               file_name                   reg_name\n",
       "29                          A_baumanii_2       A_baumanii_2_reg.txt\n",
       "32                          A_baumanii_1       A_baumanii_1_reg.txt\n",
       "9           b_pertussis_rc_ucld_constant        b_pertussis_reg.txt\n",
       "31 e_faecium_clade1_RDP_rc_ucld_constant   e_faecium_clade1_reg.txt\n",
       "35      e_faecium_clade2_rs_ucld_skyline   e_faecium_clade2_reg.txt\n",
       "34   e_faecium_clades12_rc_ucld_constant e_faecium_clades12_reg.txt\n",
       "   temp_stucture_degree CR1 CR1_. CR2 CR2_.   pop_size\n",
       "29                  1.0 1.0   1.0 1.0   1.0      54.71\n",
       "32                  1.0 1.0   1.0 1.0   1.0       3.82\n",
       "9                   1.0 1.0   1.0 1.0   1.0 409.484313\n",
       "31                  0.0 0.6   0.6 0.0   0.0  59.349657\n",
       "35                  0.5 0.9   0.9 0.5   0.5          X\n",
       "34                  0.6 0.9   0.9 0.6   0.6          X\n",
       "                               pop_size_HPD regression_rate beast_genomic_rate\n",
       "29                     [27.66013 101.76215]        1.38e-06       1.680932e-06\n",
       "32                      [2.338653 5.458882]        2.53e-06       3.153169e-06\n",
       "9  [377.99212891977049, 506.18055418976883]        2.51e-07       1.725690e-07\n",
       "31 [39.339556295349844, 137.10033909500527]        2.33e-06       3.730000e-06\n",
       "35                                        X       -1.91e-07       9.350000e-06\n",
       "34                                        X        6.00e-07       3.420000e-06\n",
       "                         beast_genomic_rate_hpd   CoefVar\n",
       "29          [  1.00800254e-06   2.88793097e-06] 1.1020142\n",
       "32          [  2.33941902e-06   4.41968751e-06] 0.6380184\n",
       "9           [  1.52695120e-07   1.93785596e-07] 0.1860191\n",
       "31          [  1.36500733e-06   6.66945095e-06] 0.3209000\n",
       "35          [  2.50200095e-06   1.74186418e-05] 1.0175342\n",
       "34 [ 1.69906972189217e-06 5.59556837118375e-06] 0.3418687\n",
       "                                coefVarHPD      Models_check Regression_check\n",
       "29               [ 0.76160997  1.61686673] rgb(1, 0, 0, 0.1)               XX\n",
       "32               [ 0.41519071  0.93343585] rgb(0, 0, 1, 0.1)               XX\n",
       "9                [ 0.0401161   0.30414232] rgb(1, 0, 0, 0.1)               XX\n",
       "31               [ 0.02427685  0.89946123] rgb(1, 0, 0, 0.1)               XX\n",
       "35               [ 0.65815399  1.75027597]                                 XX\n",
       "34 [ 0.0240220491498266 0.737669749425856] rgb(1, 0, 0, 0.1)               XX\n",
       "   sampling_time conversion_factor.aln_len.g_size. gsize_check genome_size\n",
       "29         29.00                      0.0038916526     3980000     3980000\n",
       "32          7.41                      0.0001161156     3980000     3980000\n",
       "9          63.00                      0.0003701711     4086189     4090000\n",
       "31          7.00                      0.0013907143     2800000     2800000\n",
       "35         10.00                      0.0013907143     2800000     2800000\n",
       "34         18.00                      0.0013907143     2800000     2800000\n",
       "   Genome_size_papers n_sec  slen var_sites          A         C         G\n",
       "29            3955646    43 15394     15394 0.27060000 0.2260000 0.2259000\n",
       "32            3927121    66   456       456 0.22500000 0.2650000 0.2140000\n",
       "9             4090000   150  1514      1514 0.08703574 0.4599019 0.3762812\n",
       "31            1400000    24  1947      1064 0.23847322 0.2716731 0.2760906\n",
       "35            1400000    34  1947       850 0.23558181 0.2656311 0.2940762\n",
       "34            1400000    58  1947       796 0.23662788 0.2678170 0.2875693\n",
       "            T\n",
       "29 0.27690000\n",
       "32 0.29640000\n",
       "9  0.07678113\n",
       "31 0.21376311\n",
       "35 0.20471085\n",
       "34 0.20798582\n",
       "                                                                                                                                                                                                                                          ref\n",
       "29                                                                                                                                                                                                                                           \n",
       "32                                                                                                                                                                                                                                           \n",
       "9  Bart, M. J., Harris, S. R., Advani, A., Arakawa, Y., Bottero, D., Bouchez, V., ... & Mooi, F. R. (2014). Global population structure and evolution of Bordetella pertussis and their relationship with vaccination. MBio, 5(2), e01074-14.\n",
       "31                        Howden, B. P., Holt, K. E., Lam, M. M., Seemann, T., Ballard, S., Coombs, G. W., ... & Stinear, T. P. (2013). Genomic insights to control the emergence of vancomycin-resistant enterococci. MBio, 4(4), e00412-13.\n",
       "35                        Howden, B. P., Holt, K. E., Lam, M. M., Seemann, T., Ballard, S., Coombs, G. W., ... & Stinear, T. P. (2013). Genomic insights to control the emergence of vancomycin-resistant enterococci. MBio, 4(4), e00412-13.\n",
       "34                        Howden, B. P., Holt, K. E., Lam, M. M., Seemann, T., Ballard, S., Coombs, G. W., ... & Stinear, T. P. (2013). Genomic insights to control the emergence of vancomycin-resistant enterococci. MBio, 4(4), e00412-13.\n",
       "   reg_rsquared reg_squared                                reg_conf_int\n",
       "29           NA   0.7300000  [1.11607935392489e-06,1.6210860022724e-06]\n",
       "32           NA   0.7100000 [2.10569584307426e-06,2.89310672127826e-06]\n",
       "9            NA   0.7000000 [2.24250043312779e-07,2.77216941572175e-07]\n",
       "31           NA   0.2430000                        [-1.03e-06 5.68e-06]\n",
       "35           NA   0.0003489                   [ 5.8365e-06 -6.2175e-06]\n",
       "34           NA   0.0192000                   [ 2.5793e-06 -1.3799e-06]\n",
       "                          long_names                short_name\n",
       "29       Acinetobacter baumannii GC1              A_baumanii_2\n",
       "32       Acinetobacter baumannii GC2              A_baumanii_1\n",
       "9               Bordetella pertussis               b_pertussis\n",
       "31     Enterococcus faecium (clade1)      e_faecium_clade1_RDP\n",
       "35     Enterococcus faecium (clade2) e_faecium_clade2__skyline\n",
       "34 Enterococcus faecium (two clades)        e_faecium_clades12"
      ]
     },
     "execution_count": 3,
     "metadata": {},
     "output_type": "execute_result"
    },
    {
     "data": {
      "text/html": [
       "<ol class=list-inline>\n",
       "\t<li>'X'</li>\n",
       "\t<li>'n_recomb'</li>\n",
       "\t<li>'RDP_methods'</li>\n",
       "\t<li>'code'</li>\n",
       "\t<li>'species'</li>\n",
       "\t<li>'Name'</li>\n",
       "\t<li>'CG.'</li>\n",
       "\t<li>'titv'</li>\n",
       "\t<li>'ac'</li>\n",
       "\t<li>'ag'</li>\n",
       "\t<li>'at'</li>\n",
       "\t<li>'cg'</li>\n",
       "\t<li>'gt'</li>\n",
       "\t<li>'ct'</li>\n",
       "\t<li>'model_chosen'</li>\n",
       "\t<li>'lifestile_coded'</li>\n",
       "\t<li>'lifestyle_k'</li>\n",
       "\t<li>'lifestyile'</li>\n",
       "\t<li>'gram_coded'</li>\n",
       "\t<li>'gram'</li>\n",
       "\t<li>'file_name'</li>\n",
       "\t<li>'reg_name'</li>\n",
       "\t<li>'temp_stucture_degree'</li>\n",
       "\t<li>'CR1'</li>\n",
       "\t<li>'CR1_.'</li>\n",
       "\t<li>'CR2'</li>\n",
       "\t<li>'CR2_.'</li>\n",
       "\t<li>'pop_size'</li>\n",
       "\t<li>'pop_size_HPD'</li>\n",
       "\t<li>'regression_rate'</li>\n",
       "\t<li>'beast_genomic_rate'</li>\n",
       "\t<li>'beast_genomic_rate_hpd'</li>\n",
       "\t<li>'CoefVar'</li>\n",
       "\t<li>'coefVarHPD'</li>\n",
       "\t<li>'Models_check'</li>\n",
       "\t<li>'Regression_check'</li>\n",
       "\t<li>'sampling_time'</li>\n",
       "\t<li>'conversion_factor.aln_len.g_size.'</li>\n",
       "\t<li>'gsize_check'</li>\n",
       "\t<li>'genome_size'</li>\n",
       "\t<li>'Genome_size_papers'</li>\n",
       "\t<li>'n_sec'</li>\n",
       "\t<li>'slen'</li>\n",
       "\t<li>'var_sites'</li>\n",
       "\t<li>'A'</li>\n",
       "\t<li>'C'</li>\n",
       "\t<li>'G'</li>\n",
       "\t<li>'T'</li>\n",
       "\t<li>'ref'</li>\n",
       "\t<li>'reg_rsquared'</li>\n",
       "\t<li>'reg_squared'</li>\n",
       "\t<li>'reg_conf_int'</li>\n",
       "\t<li>'long_names'</li>\n",
       "\t<li>'short_name'</li>\n",
       "</ol>\n"
      ],
      "text/latex": [
       "\\begin{enumerate*}\n",
       "\\item 'X'\n",
       "\\item 'n_recomb'\n",
       "\\item 'RDP_methods'\n",
       "\\item 'code'\n",
       "\\item 'species'\n",
       "\\item 'Name'\n",
       "\\item 'CG.'\n",
       "\\item 'titv'\n",
       "\\item 'ac'\n",
       "\\item 'ag'\n",
       "\\item 'at'\n",
       "\\item 'cg'\n",
       "\\item 'gt'\n",
       "\\item 'ct'\n",
       "\\item 'model_chosen'\n",
       "\\item 'lifestile_coded'\n",
       "\\item 'lifestyle_k'\n",
       "\\item 'lifestyile'\n",
       "\\item 'gram_coded'\n",
       "\\item 'gram'\n",
       "\\item 'file_name'\n",
       "\\item 'reg_name'\n",
       "\\item 'temp_stucture_degree'\n",
       "\\item 'CR1'\n",
       "\\item 'CR1_.'\n",
       "\\item 'CR2'\n",
       "\\item 'CR2_.'\n",
       "\\item 'pop_size'\n",
       "\\item 'pop_size_HPD'\n",
       "\\item 'regression_rate'\n",
       "\\item 'beast_genomic_rate'\n",
       "\\item 'beast_genomic_rate_hpd'\n",
       "\\item 'CoefVar'\n",
       "\\item 'coefVarHPD'\n",
       "\\item 'Models_check'\n",
       "\\item 'Regression_check'\n",
       "\\item 'sampling_time'\n",
       "\\item 'conversion_factor.aln_len.g_size.'\n",
       "\\item 'gsize_check'\n",
       "\\item 'genome_size'\n",
       "\\item 'Genome_size_papers'\n",
       "\\item 'n_sec'\n",
       "\\item 'slen'\n",
       "\\item 'var_sites'\n",
       "\\item 'A'\n",
       "\\item 'C'\n",
       "\\item 'G'\n",
       "\\item 'T'\n",
       "\\item 'ref'\n",
       "\\item 'reg_rsquared'\n",
       "\\item 'reg_squared'\n",
       "\\item 'reg_conf_int'\n",
       "\\item 'long_names'\n",
       "\\item 'short_name'\n",
       "\\end{enumerate*}\n"
      ],
      "text/markdown": [
       "1. 'X'\n",
       "2. 'n_recomb'\n",
       "3. 'RDP_methods'\n",
       "4. 'code'\n",
       "5. 'species'\n",
       "6. 'Name'\n",
       "7. 'CG.'\n",
       "8. 'titv'\n",
       "9. 'ac'\n",
       "10. 'ag'\n",
       "11. 'at'\n",
       "12. 'cg'\n",
       "13. 'gt'\n",
       "14. 'ct'\n",
       "15. 'model_chosen'\n",
       "16. 'lifestile_coded'\n",
       "17. 'lifestyle_k'\n",
       "18. 'lifestyile'\n",
       "19. 'gram_coded'\n",
       "20. 'gram'\n",
       "21. 'file_name'\n",
       "22. 'reg_name'\n",
       "23. 'temp_stucture_degree'\n",
       "24. 'CR1'\n",
       "25. 'CR1_.'\n",
       "26. 'CR2'\n",
       "27. 'CR2_.'\n",
       "28. 'pop_size'\n",
       "29. 'pop_size_HPD'\n",
       "30. 'regression_rate'\n",
       "31. 'beast_genomic_rate'\n",
       "32. 'beast_genomic_rate_hpd'\n",
       "33. 'CoefVar'\n",
       "34. 'coefVarHPD'\n",
       "35. 'Models_check'\n",
       "36. 'Regression_check'\n",
       "37. 'sampling_time'\n",
       "38. 'conversion_factor.aln_len.g_size.'\n",
       "39. 'gsize_check'\n",
       "40. 'genome_size'\n",
       "41. 'Genome_size_papers'\n",
       "42. 'n_sec'\n",
       "43. 'slen'\n",
       "44. 'var_sites'\n",
       "45. 'A'\n",
       "46. 'C'\n",
       "47. 'G'\n",
       "48. 'T'\n",
       "49. 'ref'\n",
       "50. 'reg_rsquared'\n",
       "51. 'reg_squared'\n",
       "52. 'reg_conf_int'\n",
       "53. 'long_names'\n",
       "54. 'short_name'\n",
       "\n",
       "\n"
      ],
      "text/plain": [
       " [1] \"X\"                                 \"n_recomb\"                         \n",
       " [3] \"RDP_methods\"                       \"code\"                             \n",
       " [5] \"species\"                           \"Name\"                             \n",
       " [7] \"CG.\"                               \"titv\"                             \n",
       " [9] \"ac\"                                \"ag\"                               \n",
       "[11] \"at\"                                \"cg\"                               \n",
       "[13] \"gt\"                                \"ct\"                               \n",
       "[15] \"model_chosen\"                      \"lifestile_coded\"                  \n",
       "[17] \"lifestyle_k\"                       \"lifestyile\"                       \n",
       "[19] \"gram_coded\"                        \"gram\"                             \n",
       "[21] \"file_name\"                         \"reg_name\"                         \n",
       "[23] \"temp_stucture_degree\"              \"CR1\"                              \n",
       "[25] \"CR1_.\"                             \"CR2\"                              \n",
       "[27] \"CR2_.\"                             \"pop_size\"                         \n",
       "[29] \"pop_size_HPD\"                      \"regression_rate\"                  \n",
       "[31] \"beast_genomic_rate\"                \"beast_genomic_rate_hpd\"           \n",
       "[33] \"CoefVar\"                           \"coefVarHPD\"                       \n",
       "[35] \"Models_check\"                      \"Regression_check\"                 \n",
       "[37] \"sampling_time\"                     \"conversion_factor.aln_len.g_size.\"\n",
       "[39] \"gsize_check\"                       \"genome_size\"                      \n",
       "[41] \"Genome_size_papers\"                \"n_sec\"                            \n",
       "[43] \"slen\"                              \"var_sites\"                        \n",
       "[45] \"A\"                                 \"C\"                                \n",
       "[47] \"G\"                                 \"T\"                                \n",
       "[49] \"ref\"                               \"reg_rsquared\"                     \n",
       "[51] \"reg_squared\"                       \"reg_conf_int\"                     \n",
       "[53] \"long_names\"                        \"short_name\"                       "
      ]
     },
     "execution_count": 3,
     "metadata": {},
     "output_type": "execute_result"
    }
   ],
   "source": [
    "meta_data <- read.xls('metadata_updated_rates.xlsx', stringsAsFactors = F)\n",
    "meta_data <- meta_data[-grep('N. meningitis', meta_data$Name), ]\n",
    "#meta_data <- meta_data[, -ncol(meta_data)]\n",
    "meta_data$short_name <- gsub('_+$', '', gsub('ucld|_rc|_rs|_sc|_ss|_bs|constant|strict', '', meta_data$file_name))\n",
    "head(meta_data[, c('beast_genomic_rate', 'long_names')])\n",
    "meta_data <- meta_data[order(meta_data$long_names),]\n",
    "head(meta_data)\n",
    "colnames(meta_data)\n"
   ]
  },
  {
   "cell_type": "code",
   "execution_count": 4,
   "metadata": {
    "collapsed": false
   },
   "outputs": [],
   "source": [
    "#meta_data <- meta_data[order(meta_data$Name), ]"
   ]
  },
  {
   "cell_type": "code",
   "execution_count": 5,
   "metadata": {
    "collapsed": false
   },
   "outputs": [
    {
     "name": "stdout",
     "output_type": "stream",
     "text": [
      "[1] \"A_baumanii_2_reg.txt\"\n",
      "[1] \"A_baumanii_1_reg.txt\"\n",
      "[1] \"b_pertussis_reg.txt\"\n",
      "[1] \"e_faecium_clade1_reg.txt\"\n",
      "[1] \"e_faecium_clade2_reg.txt\"\n",
      "[1] \"e_faecium_clades12_reg.txt\"\n",
      "[1] \"klebsiella_clade1_reg.txt\"\n",
      "[1] \"klebsiella_clade2_reg.txt\"\n",
      "[1] \"klebsiella_snps_no_outliers_reg.txt\"\n",
      "[1] \"m_leprae_reg.txt\"\n",
      "[1] \"TB_animal_L6_rooted_reg.txt\"\n",
      "[1] \"TB_beijing_reg.txt\"\n",
      "[1] \"m_tub_argentina_reg.txt\"\n",
      "[1] \"p_aeruginosa_no_outliers_reg.txt\"\n",
      "[1] \"agona_pruned_reg.txt\"\n",
      "[1] \"s_kentucky_reg.txt\"\n",
      "[1] \"paratyphi_a_clade1_reg.txt\"\n",
      "[1] \"paratyphi_a_clade2_reg.txt\"\n",
      "[1] \"paratyphi_a_clades12_reg.txt\"\n",
      "[1] \"typhi_no_outliers_reg.txt\"\n",
      "[1] \"Sd1_reg.txt\"\n",
      "[1] \"shigella_sonnei_reg.txt\"\n",
      "[1] \"staph_CC398_reg.txt\"\n",
      "[1] \"st22_pruned_reg.txt\"\n",
      "[1] \"st239_complete_reg.txt\"\n",
      "[1] \"st239_ingroup_reg.txt\"\n",
      "[1] \"st_usa300_reg.txt\"\n",
      "[1] \"st93_reg.txt\"\n",
      "[1] \"s_pneumon_concat_dates_pruned_reg.txt\"\n",
      "[1] \"strep_pyogenes_clade1_reg.txt\"\n",
      "[1] \"strep_pyogenes_clade2_reg.txt\"\n",
      "[1] \"strep_pyogenes_clades12_reg.txt\"\n",
      "[1] \"v_cholerae_reg.txt\"\n",
      "[1] \"y_pestis_pruned_reg.txt\"\n",
      "[1] \"y_pestis_second_pandemic_reg.txt\"\n"
     ]
    },
    {
     "data": {
      "text/html": [
       "<strong>pdf:</strong> 2"
      ],
      "text/latex": [
       "\\textbf{pdf:} 2"
      ],
      "text/markdown": [
       "**pdf:** 2"
      ],
      "text/plain": [
       "pdf \n",
       "  2 "
      ]
     },
     "execution_count": 5,
     "metadata": {},
     "output_type": "execute_result"
    }
   ],
   "source": [
    "addalpha <- function(colors, alpha=1.0) {\n",
    "  r <- col2rgb(colors, alpha=T)\n",
    "  # Apply alpha\n",
    "  r[4,] <- alpha*255\n",
    "  r <- r/255.0\n",
    "  return(rgb(r[1,], r[2,], r[3,], r[4,]))\n",
    "}\n",
    "\n",
    "\n",
    "pdf('regression_plots.pdf', useDingbats = F, width = 15, height = 20)\n",
    "par(mfrow = c(9, 4))\n",
    "par(mar = c(3, 3, 3, 3))\n",
    "cols <- addalpha(colorRampPalette(c('red', 'yellow', 'green'), \n",
    "                                  space = 'rgb')(10)[as.numeric(cut(meta_data$temp_stucture_degree, 10))], 0.3)\n",
    "\n",
    "strong <- which(meta_data$temp_stucture_degree >=0.9)\n",
    "moderate <- which(meta_data$temp_stucture_degree >= 0.5 & meta_data$temp_stucture_degree < 0.9)\n",
    "low <- which(meta_data$temp_stucture_degree < 0.5)\n",
    "\n",
    "cols <- vector(length = nrow(meta_data))\n",
    "cols[strong] <- rgb(0, 0, 1, 0.3)\n",
    "cols[moderate] <- rgb(1, 1, 0, 0.3)\n",
    "cols[low] <- rgb(1, 0, 0, 0.3)\n",
    "\n",
    "for(i in 1:nrow(meta_data)){\n",
    "    print(meta_data[i, 'reg_name'])\n",
    "    f <- read.table(paste0('all_regressions/', meta_data[i, 'reg_name']), head = T, stringsAsFactors = F)\n",
    "    f$distance <- f$distance * meta_data$conversion_factor[i]\n",
    "    f$date <- f$date\n",
    "    f_reg <- lm(f$distance ~ f$date)\n",
    "    plot(f$date, f$distance, ylab = '', xlab = '', pch = 20, col = rgb(0, 0, 0, 0.5) , \n",
    "         main = meta_data[i, 'long_names'],\n",
    "    ylim = c(min(f$distance)*0.95, max(f$distance) *1.1), xlim = c(min(f$date)-5, max(f$date)), cex = 2)\n",
    "    abline(f_reg, lwd = 3, col = rgb(1, 0, 0, 0.7), lty = 2)\n",
    "    rect(par(\"usr\")[1],par(\"usr\")[3],par(\"usr\")[2],par(\"usr\")[4],col = cols[i])\n",
    "\n",
    "#To report P value\n",
    "    text(x = (max(f$date) - min(f$date)) / 4 + min(f$date), \n",
    "         y = (max(f$distance) - min(f$distance)) / 1.5 + min(f$distance), labels  = format(summary(f_reg)$coeff[8], T))\n",
    "    \n",
    "#To report slope (rate)\n",
    "#    text(x = (max(f$date) - min(f$date)) / 4 + min(f$date), \n",
    "#         y = (max(f$distance) - min(f$distance)) / 1.5 + min(f$distance), labels  = format(f_reg$coefficients[2], T))\n",
    "\n",
    "    text(x = (max(f$date) - min(f$date)) / 4 + min(f$date), \n",
    "         y = (max(f$distance) - min(f$distance)) / 1.1  + min(f$distance), labels  = round(summary(f_reg)$r.squared, 2))\n",
    "\n",
    "    meta_data[i, 'reg_squared'] <-  round(summary(f_reg)$r.squared, 2)\n",
    "    meta_data[i, 'regression_rate'] <- summary(f_reg)$coeff[2]\n",
    "}\n",
    "#\n",
    "dev.off()"
   ]
  },
  {
   "cell_type": "code",
   "execution_count": 17,
   "metadata": {
    "collapsed": false
   },
   "outputs": [],
   "source": [
    "write.table(meta_data, file = 'metadata_regression_plots.csv', sep = ',', row.names = F)"
   ]
  },
  {
   "cell_type": "code",
   "execution_count": 18,
   "metadata": {
    "collapsed": false
   },
   "outputs": [
    {
     "data": {
      "text/html": [
       "<ol class=list-inline>\n",
       "\t<li>1</li>\n",
       "\t<li>2</li>\n",
       "\t<li>3</li>\n",
       "\t<li>6</li>\n",
       "\t<li>11</li>\n",
       "\t<li>13</li>\n",
       "\t<li>15</li>\n",
       "\t<li>16</li>\n",
       "\t<li>17</li>\n",
       "\t<li>18</li>\n",
       "\t<li>19</li>\n",
       "\t<li>20</li>\n",
       "\t<li>21</li>\n",
       "\t<li>22</li>\n",
       "\t<li>23</li>\n",
       "\t<li>25</li>\n",
       "\t<li>26</li>\n",
       "\t<li>27</li>\n",
       "\t<li>29</li>\n",
       "\t<li>30</li>\n",
       "\t<li>31</li>\n",
       "\t<li>32</li>\n",
       "\t<li>33</li>\n",
       "\t<li>34</li>\n",
       "</ol>\n"
      ],
      "text/latex": [
       "\\begin{enumerate*}\n",
       "\\item 1\n",
       "\\item 2\n",
       "\\item 3\n",
       "\\item 6\n",
       "\\item 11\n",
       "\\item 13\n",
       "\\item 15\n",
       "\\item 16\n",
       "\\item 17\n",
       "\\item 18\n",
       "\\item 19\n",
       "\\item 20\n",
       "\\item 21\n",
       "\\item 22\n",
       "\\item 23\n",
       "\\item 25\n",
       "\\item 26\n",
       "\\item 27\n",
       "\\item 29\n",
       "\\item 30\n",
       "\\item 31\n",
       "\\item 32\n",
       "\\item 33\n",
       "\\item 34\n",
       "\\end{enumerate*}\n"
      ],
      "text/markdown": [
       "1. 1\n",
       "2. 2\n",
       "3. 3\n",
       "4. 6\n",
       "5. 11\n",
       "6. 13\n",
       "7. 15\n",
       "8. 16\n",
       "9. 17\n",
       "10. 18\n",
       "11. 19\n",
       "12. 20\n",
       "13. 21\n",
       "14. 22\n",
       "15. 23\n",
       "16. 25\n",
       "17. 26\n",
       "18. 27\n",
       "19. 29\n",
       "20. 30\n",
       "21. 31\n",
       "22. 32\n",
       "23. 33\n",
       "24. 34\n",
       "\n",
       "\n"
      ],
      "text/plain": [
       " [1]  1  2  3  6 11 13 15 16 17 18 19 20 21 22 23 25 26 27 29 30 31 32 33 34"
      ]
     },
     "execution_count": 18,
     "metadata": {},
     "output_type": "execute_result"
    }
   ],
   "source": [
    "strong\n"
   ]
  },
  {
   "cell_type": "code",
   "execution_count": 19,
   "metadata": {
    "collapsed": false
   },
   "outputs": [
    {
     "data": {
      "text/html": [
       "<ol class=list-inline>\n",
       "\t<li>1.37700872596603e-06</li>\n",
       "\t<li>2.5330559213891e-06</li>\n",
       "\t<li>2.50733492442477e-07</li>\n",
       "\t<li>2.32963782701632e-06</li>\n",
       "\t<li>-1.90519047795749e-07</li>\n",
       "\t<li>5.9970830080461e-07</li>\n",
       "\t<li>1.2497246646792e-07</li>\n",
       "\t<li>3.04820241447017e-07</li>\n",
       "\t<li>1.26614267690722e-07</li>\n",
       "\t<li>4.62932152708372e-09</li>\n",
       "\t<li>6.25832683460482e-08</li>\n",
       "\t<li>-7.59130804375664e-09</li>\n",
       "\t<li>6.2965747054274e-08</li>\n",
       "\t<li>3.33610362954052e-07</li>\n",
       "\t<li>2.58653049759141e-07</li>\n",
       "\t<li>1.13195036693411e-07</li>\n",
       "\t<li>2.89332082692772e-07</li>\n",
       "\t<li>4.77212121866794e-08</li>\n",
       "\t<li>6.83067801959469e-08</li>\n",
       "\t<li>5.43331443937264e-08</li>\n",
       "\t<li>1.26119012854773e-07</li>\n",
       "\t<li>8.015022744778e-07</li>\n",
       "\t<li>6.32824592011521e-07</li>\n",
       "\t<li>1.48340020304462e-06</li>\n",
       "\t<li>1.56748449494263e-06</li>\n",
       "\t<li>8.05346034965283e-07</li>\n",
       "\t<li>8.05279249788429e-07</li>\n",
       "\t<li>8.19523512272664e-07</li>\n",
       "\t<li>2.62723366975253e-07</li>\n",
       "\t<li>1.61403488000174e-07</li>\n",
       "\t<li>1.05472019340563e-06</li>\n",
       "\t<li>9.87665367734041e-07</li>\n",
       "\t<li>9.59752250054351e-07</li>\n",
       "\t<li>9.7970438456197e-07</li>\n",
       "\t<li>6.88166079000082e-09</li>\n",
       "\t<li>-6.26605042870514e-09</li>\n",
       "</ol>\n"
      ],
      "text/latex": [
       "\\begin{enumerate*}\n",
       "\\item 1.37700872596603e-06\n",
       "\\item 2.5330559213891e-06\n",
       "\\item 2.50733492442477e-07\n",
       "\\item 2.32963782701632e-06\n",
       "\\item -1.90519047795749e-07\n",
       "\\item 5.9970830080461e-07\n",
       "\\item 1.2497246646792e-07\n",
       "\\item 3.04820241447017e-07\n",
       "\\item 1.26614267690722e-07\n",
       "\\item 4.62932152708372e-09\n",
       "\\item 6.25832683460482e-08\n",
       "\\item -7.59130804375664e-09\n",
       "\\item 6.2965747054274e-08\n",
       "\\item 3.33610362954052e-07\n",
       "\\item 2.58653049759141e-07\n",
       "\\item 1.13195036693411e-07\n",
       "\\item 2.89332082692772e-07\n",
       "\\item 4.77212121866794e-08\n",
       "\\item 6.83067801959469e-08\n",
       "\\item 5.43331443937264e-08\n",
       "\\item 1.26119012854773e-07\n",
       "\\item 8.015022744778e-07\n",
       "\\item 6.32824592011521e-07\n",
       "\\item 1.48340020304462e-06\n",
       "\\item 1.56748449494263e-06\n",
       "\\item 8.05346034965283e-07\n",
       "\\item 8.05279249788429e-07\n",
       "\\item 8.19523512272664e-07\n",
       "\\item 2.62723366975253e-07\n",
       "\\item 1.61403488000174e-07\n",
       "\\item 1.05472019340563e-06\n",
       "\\item 9.87665367734041e-07\n",
       "\\item 9.59752250054351e-07\n",
       "\\item 9.7970438456197e-07\n",
       "\\item 6.88166079000082e-09\n",
       "\\item -6.26605042870514e-09\n",
       "\\end{enumerate*}\n"
      ],
      "text/markdown": [
       "1. 1.37700872596603e-06\n",
       "2. 2.5330559213891e-06\n",
       "3. 2.50733492442477e-07\n",
       "4. 2.32963782701632e-06\n",
       "5. -1.90519047795749e-07\n",
       "6. 5.9970830080461e-07\n",
       "7. 1.2497246646792e-07\n",
       "8. 3.04820241447017e-07\n",
       "9. 1.26614267690722e-07\n",
       "10. 4.62932152708372e-09\n",
       "11. 6.25832683460482e-08\n",
       "12. -7.59130804375664e-09\n",
       "13. 6.2965747054274e-08\n",
       "14. 3.33610362954052e-07\n",
       "15. 2.58653049759141e-07\n",
       "16. 1.13195036693411e-07\n",
       "17. 2.89332082692772e-07\n",
       "18. 4.77212121866794e-08\n",
       "19. 6.83067801959469e-08\n",
       "20. 5.43331443937264e-08\n",
       "21. 1.26119012854773e-07\n",
       "22. 8.015022744778e-07\n",
       "23. 6.32824592011521e-07\n",
       "24. 1.48340020304462e-06\n",
       "25. 1.56748449494263e-06\n",
       "26. 8.05346034965283e-07\n",
       "27. 8.05279249788429e-07\n",
       "28. 8.19523512272664e-07\n",
       "29. 2.62723366975253e-07\n",
       "30. 1.61403488000174e-07\n",
       "31. 1.05472019340563e-06\n",
       "32. 9.87665367734041e-07\n",
       "33. 9.59752250054351e-07\n",
       "34. 9.7970438456197e-07\n",
       "35. 6.88166079000082e-09\n",
       "36. -6.26605042870514e-09\n",
       "\n",
       "\n"
      ],
      "text/plain": [
       " [1]  1.377009e-06  2.533056e-06  2.507335e-07  2.329638e-06 -1.905190e-07\n",
       " [6]  5.997083e-07  1.249725e-07  3.048202e-07  1.266143e-07  4.629322e-09\n",
       "[11]  6.258327e-08 -7.591308e-09  6.296575e-08  3.336104e-07  2.586530e-07\n",
       "[16]  1.131950e-07  2.893321e-07  4.772121e-08  6.830678e-08  5.433314e-08\n",
       "[21]  1.261190e-07  8.015023e-07  6.328246e-07  1.483400e-06  1.567484e-06\n",
       "[26]  8.053460e-07  8.052792e-07  8.195235e-07  2.627234e-07  1.614035e-07\n",
       "[31]  1.054720e-06  9.876654e-07  9.597523e-07  9.797044e-07  6.881661e-09\n",
       "[36] -6.266050e-09"
      ]
     },
     "execution_count": 19,
     "metadata": {},
     "output_type": "execute_result"
    }
   ],
   "source": [
    "meta_data$regression_rate"
   ]
  },
  {
   "cell_type": "code",
   "execution_count": 31,
   "metadata": {
    "collapsed": false
   },
   "outputs": [
    {
     "data": {
      "text/html": [
       "<ol class=list-inline>\n",
       "\t<li>1</li>\n",
       "\t<li>2</li>\n",
       "\t<li>5</li>\n",
       "\t<li>11</li>\n",
       "\t<li>17</li>\n",
       "\t<li>21</li>\n",
       "\t<li>25</li>\n",
       "\t<li>35</li>\n",
       "</ol>\n"
      ],
      "text/latex": [
       "\\begin{enumerate*}\n",
       "\\item 1\n",
       "\\item 2\n",
       "\\item 5\n",
       "\\item 11\n",
       "\\item 17\n",
       "\\item 21\n",
       "\\item 25\n",
       "\\item 35\n",
       "\\end{enumerate*}\n"
      ],
      "text/markdown": [
       "1. 1\n",
       "2. 2\n",
       "3. 5\n",
       "4. 11\n",
       "5. 17\n",
       "6. 21\n",
       "7. 25\n",
       "8. 35\n",
       "\n",
       "\n"
      ],
      "text/plain": [
       "[1]  1  2  5 11 17 21 25 35"
      ]
     },
     "execution_count": 31,
     "metadata": {},
     "output_type": "execute_result"
    }
   ],
   "source": [
    "low"
   ]
  },
  {
   "cell_type": "code",
   "execution_count": 17,
   "metadata": {
    "collapsed": false
   },
   "outputs": [
    {
     "data": {
      "text/html": [
       "6.25832683460482e-08"
      ],
      "text/latex": [
       "6.25832683460482e-08"
      ],
      "text/markdown": [
       "6.25832683460482e-08"
      ],
      "text/plain": [
       "[1] 6.258327e-08"
      ]
     },
     "execution_count": 17,
     "metadata": {},
     "output_type": "execute_result"
    }
   ],
   "source": [
    "summary(f_reg)$coeff[2]\n"
   ]
  },
  {
   "cell_type": "code",
   "execution_count": 22,
   "metadata": {
    "collapsed": false
   },
   "outputs": [
    {
     "data": {
      "text/html": [
       "8"
      ],
      "text/latex": [
       "8"
      ],
      "text/markdown": [
       "8"
      ],
      "text/plain": [
       "[1] 8"
      ]
     },
     "execution_count": 22,
     "metadata": {},
     "output_type": "execute_result"
    }
   ],
   "source": [
    "sum(meta_data$reg_squared > .7)"
   ]
  },
  {
   "cell_type": "code",
   "execution_count": null,
   "metadata": {
    "collapsed": true
   },
   "outputs": [],
   "source": []
  }
 ],
 "metadata": {
  "kernelspec": {
   "display_name": "R",
   "language": "R",
   "name": "ir"
  },
  "language_info": {
   "codemirror_mode": "r",
   "file_extension": ".r",
   "mimetype": "text/x-r-source",
   "name": "R",
   "pygments_lexer": "r",
   "version": "3.2.2"
  }
 },
 "nbformat": 4,
 "nbformat_minor": 0
}
