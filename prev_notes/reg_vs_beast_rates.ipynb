{
 "cells": [
  {
   "cell_type": "code",
   "execution_count": 1,
   "metadata": {
    "collapsed": false
   },
   "outputs": [
    {
     "name": "stderr",
     "output_type": "stream",
     "text": [
      "gdata: read.xls support for 'XLS' (Excel 97-2004) files ENABLED.\n",
      "\n",
      "gdata: read.xls support for 'XLSX' (Excel 2007+) files ENABLED.\n",
      "\n",
      "Attaching package: ‘gdata’\n",
      "\n",
      "The following object is masked from ‘package:stats’:\n",
      "\n",
      "    nobs\n",
      "\n",
      "The following object is masked from ‘package:utils’:\n",
      "\n",
      "    object.size\n",
      "\n"
     ]
    }
   ],
   "source": [
    "library(gdata)\n",
    "library(RColorBrewer)"
   ]
  },
  {
   "cell_type": "code",
   "execution_count": 2,
   "metadata": {
    "collapsed": false
   },
   "outputs": [
    {
     "name": "stdout",
     "output_type": "stream",
     "text": [
      "   beast_genomic_rate regression_rate                             Name\n",
      "1        1.562162e-08        4.63e-09                        M. leprae\n",
      "2        1.572643e-08        6.88e-09                        Y. pestis\n",
      "3        2.260972e-08       -6.27e-09      Y. pestis (second pandemic)\n",
      "4        5.675213e-08        6.30e-08        M. tuberculosis Lineage 4\n",
      "6        7.604037e-08        5.43e-08      S. Paratyphi A (two clades)\n",
      "7        8.016475e-08        4.77e-08         S. Paratyphi A (clade 1)\n",
      "8        9.473972e-08        6.83e-08         S. Paratyphi A (clade 2)\n",
      "9        1.725690e-07        2.51e-07                     B. pertussis\n",
      "10       1.781592e-07        1.26e-07                     S. Typhi H58\n",
      "11       1.926953e-07       -7.59e-09        M. tuberculosis Lineage 2\n",
      "12       2.200994e-07        1.61e-07              S. pneumoniae PMEN1\n",
      "13       3.362279e-07        2.59e-07                    P. aeruginosa\n",
      "14       3.952926e-07        1.13e-07                         S. Agona\n",
      "15       5.345664e-07        2.89e-07                      S. Kentucky\n",
      "16       5.555916e-07        2.63e-07                   S. aureus ST93\n",
      "17       2.269612e-07        1.27e-07 K. pneumoniae CC258 (two clades)\n",
      "18       2.561358e-07        1.25e-07    K. pneumoniae CC258 (clade 1)\n",
      "19       1.006327e-06        8.02e-07               S. dysenteriae Sd1\n",
      "20       8.191160e-07        6.33e-07                     S. sonnei VN\n",
      "21       2.988411e-07        3.05e-07    K. pneumoniae CC258 (clade 2)\n",
      "22       9.598715e-07        9.80e-07                      V. cholerae\n",
      "23       9.709228e-07        8.05e-07        S. aureus ST239 (ingroup)\n",
      "24       9.922578e-07        8.05e-07            S. aureus ST239 (all)\n",
      "25       1.220352e-06        8.20e-07             S. aureus ST8-USA300\n",
      "26       1.226589e-06        9.60e-07         S. pyogenes (two clades)\n",
      "27       1.287981e-06        9.88e-07            S. pyogenes (clade 2)\n",
      "28       1.335843e-06        1.05e-06            S. pyogenes (clade 1)\n",
      "29       1.680932e-06        1.38e-06                 A. baumannii GC1\n",
      "30       1.980000e-06        1.57e-06                   S. aureus ST22\n",
      "31       3.730000e-06        2.33e-06              E. faecium (clade1)\n",
      "32       3.153169e-06        2.53e-06                 A. baumannii GC2\n",
      "33       2.431578e-06        1.48e-06                  S. aureus CC398\n",
      "34       3.420000e-06        6.00e-07          E. faecium (two clades)\n",
      "35       9.350000e-06       -1.91e-07              E. faecium (clade2)\n",
      "36       5.391477e-08        6.26e-08    M. tuberculosis (NW mummies) \n"
     ]
    }
   ],
   "source": [
    "meta_data <- read.xls('metadata_updated_rates.xlsx', stringsAsFactors = F)\n",
    "meta_data <- meta_data[-grep('N. meningitis', meta_data$Name), ]\n",
    "meta_data <- meta_data[, -ncol(meta_data)]\n",
    "meta_data$short_name <- gsub('_+$', '', gsub('ucld|_rc|_rs|_sc|_ss|_bs|constant|strict', '', meta_data$file_name))\n",
    "print(meta_data[, c('beast_genomic_rate', 'regression_rate', 'Name')])\n",
    "\n",
    "\n",
    "pass_cr1 <- (meta_data$temp_stucture_degree > 0.5)\n",
    "drt <- c(21, 20)[pass_cr1 + 1]"
   ]
  },
  {
   "cell_type": "code",
   "execution_count": 3,
   "metadata": {
    "collapsed": false
   },
   "outputs": [
    {
     "data": {
      "text/html": [
       "<strong>pdf:</strong> 2"
      ],
      "text/latex": [
       "\\textbf{pdf:} 2"
      ],
      "text/markdown": [
       "**pdf:** 2"
      ],
      "text/plain": [
       "pdf \n",
       "  2 "
      ]
     },
     "execution_count": 3,
     "metadata": {},
     "output_type": "execute_result"
    }
   ],
   "source": [
    "temp_struct <- meta_data$temp_stucture_degree >0.5\n",
    "temp_struct[meta_data$temp_stucture_degree>=0.9] <- 'blue'\n",
    "temp_struct[meta_data$temp_stucture_degree >= 0.5 & meta_data$temp_stucture_degree < 0.9] <- 'orange'\n",
    "temp_struct[meta_data$temp_stucture_degree < 0.5] <- 'red'\n",
    "\n",
    "\n",
    "pdf('best_reg_rates.pdf', useDingbats = F)\n",
    "plot(meta_data$regression_rate, meta_data$beast_genomic_rate, pch = 20, col = temp_struct, cex = 1.5, \n",
    "     xlab = 'Regression rate estimate (subs/site/year)', ylab = 'Bayesian rate estimates (subs/site/year)')\n",
    "\n",
    "     \n",
    "     \n",
    "#text(meta_data$regression_rate, meta_data$beast_genomic_rate, \n",
    "#    labels = meta_data$code, cex = 0.5, pos = 2)\n",
    "\n",
    "abline(a = 0, b = 1)\n",
    "dev.off()"
   ]
  },
  {
   "cell_type": "code",
   "execution_count": 4,
   "metadata": {
    "collapsed": false
   },
   "outputs": [
    {
     "data": {
      "text/html": [
       "<strong>pdf:</strong> 2"
      ],
      "text/latex": [
       "\\textbf{pdf:} 2"
      ],
      "text/markdown": [
       "**pdf:** 2"
      ],
      "text/plain": [
       "pdf \n",
       "  2 "
      ]
     },
     "execution_count": 4,
     "metadata": {},
     "output_type": "execute_result"
    }
   ],
   "source": [
    "pdf('best_reg_rates_labelled.pdf', useDingbats = F)\n",
    "plot(meta_data$regression_rate, meta_data$beast_genomic_rate, pch = 20, col = temp_struct, cex = 1.5, \n",
    "     xlab = 'Regression rate estimate (subs/site/year)', ylab = 'Bayesian rate estimates (subs/site/year)')\n",
    "\n",
    "text(meta_data$regression_rate, meta_data$beast_genomic_rate, \n",
    "    labels = meta_data$code, cex = 0.5, pos = 2)\n",
    "\n",
    "abline(a = 0, b = 1)\n",
    "dev.off()"
   ]
  },
  {
   "cell_type": "code",
   "execution_count": 5,
   "metadata": {
    "collapsed": false
   },
   "outputs": [
    {
     "data": {
      "text/html": [
       "<ol class=list-inline>\n",
       "\t<li>4.62932152708373e-09</li>\n",
       "\t<li>6.88166079000075e-09</li>\n",
       "\t<li>-6.26605042870515e-09</li>\n",
       "\t<li>6.29657470542739e-08</li>\n",
       "\t<li>3.08247304439405e-07</li>\n",
       "\t<li>5.43331443937264e-08</li>\n",
       "\t<li>4.7721212186682e-08</li>\n",
       "\t<li>6.83067801959467e-08</li>\n",
       "\t<li>2.50967340005501e-07</li>\n",
       "\t<li>1.26119012854774e-07</li>\n",
       "\t<li>-7.59130804379233e-09</li>\n",
       "\t<li>1.42844937017049e-07</li>\n",
       "\t<li>2.64547447007143e-07</li>\n",
       "\t<li>1.14536210113948e-07</li>\n",
       "\t<li>2.16754609631549e-07</li>\n",
       "\t<li>2.62723366975249e-07</li>\n",
       "\t<li>3.83904383459138e-07</li>\n",
       "\t<li>3.78926313470046e-07</li>\n",
       "\t<li>6.87810919239372e-07</li>\n",
       "\t<li>6.66485059414413e-07</li>\n",
       "\t<li>9.24238863383718e-07</li>\n",
       "\t<li>9.79704384561962e-07</li>\n",
       "\t<li>8.75226380624506e-07</li>\n",
       "\t<li>8.75298966809525e-07</li>\n",
       "\t<li>8.19523512272809e-07</li>\n",
       "\t<li>9.59752250054108e-07</li>\n",
       "\t<li>9.87665367734315e-07</li>\n",
       "\t<li>1.05472019340564e-06</li>\n",
       "\t<li>1.36858267809865e-06</li>\n",
       "\t<li>1.28506113676383e-06</li>\n",
       "\t<li>8.23139240208035e-07</li>\n",
       "\t<li>2.49940128217635e-06</li>\n",
       "\t<li>1.63294864270621e-06</li>\n",
       "\t<li>1.90469530504415e-06</li>\n",
       "\t<li>1.31275532481986e-06</li>\n",
       "\t<li>6.258e-08</li>\n",
       "</ol>\n"
      ],
      "text/latex": [
       "\\begin{enumerate*}\n",
       "\\item 4.62932152708373e-09\n",
       "\\item 6.88166079000075e-09\n",
       "\\item -6.26605042870515e-09\n",
       "\\item 6.29657470542739e-08\n",
       "\\item 3.08247304439405e-07\n",
       "\\item 5.43331443937264e-08\n",
       "\\item 4.7721212186682e-08\n",
       "\\item 6.83067801959467e-08\n",
       "\\item 2.50967340005501e-07\n",
       "\\item 1.26119012854774e-07\n",
       "\\item -7.59130804379233e-09\n",
       "\\item 1.42844937017049e-07\n",
       "\\item 2.64547447007143e-07\n",
       "\\item 1.14536210113948e-07\n",
       "\\item 2.16754609631549e-07\n",
       "\\item 2.62723366975249e-07\n",
       "\\item 3.83904383459138e-07\n",
       "\\item 3.78926313470046e-07\n",
       "\\item 6.87810919239372e-07\n",
       "\\item 6.66485059414413e-07\n",
       "\\item 9.24238863383718e-07\n",
       "\\item 9.79704384561962e-07\n",
       "\\item 8.75226380624506e-07\n",
       "\\item 8.75298966809525e-07\n",
       "\\item 8.19523512272809e-07\n",
       "\\item 9.59752250054108e-07\n",
       "\\item 9.87665367734315e-07\n",
       "\\item 1.05472019340564e-06\n",
       "\\item 1.36858267809865e-06\n",
       "\\item 1.28506113676383e-06\n",
       "\\item 8.23139240208035e-07\n",
       "\\item 2.49940128217635e-06\n",
       "\\item 1.63294864270621e-06\n",
       "\\item 1.90469530504415e-06\n",
       "\\item 1.31275532481986e-06\n",
       "\\item 6.258e-08\n",
       "\\end{enumerate*}\n"
      ],
      "text/markdown": [
       "1. 4.62932152708373e-09\n",
       "2. 6.88166079000075e-09\n",
       "3. -6.26605042870515e-09\n",
       "4. 6.29657470542739e-08\n",
       "5. 3.08247304439405e-07\n",
       "6. 5.43331443937264e-08\n",
       "7. 4.7721212186682e-08\n",
       "8. 6.83067801959467e-08\n",
       "9. 2.50967340005501e-07\n",
       "10. 1.26119012854774e-07\n",
       "11. -7.59130804379233e-09\n",
       "12. 1.42844937017049e-07\n",
       "13. 2.64547447007143e-07\n",
       "14. 1.14536210113948e-07\n",
       "15. 2.16754609631549e-07\n",
       "16. 2.62723366975249e-07\n",
       "17. 3.83904383459138e-07\n",
       "18. 3.78926313470046e-07\n",
       "19. 6.87810919239372e-07\n",
       "20. 6.66485059414413e-07\n",
       "21. 9.24238863383718e-07\n",
       "22. 9.79704384561962e-07\n",
       "23. 8.75226380624506e-07\n",
       "24. 8.75298966809525e-07\n",
       "25. 8.19523512272809e-07\n",
       "26. 9.59752250054108e-07\n",
       "27. 9.87665367734315e-07\n",
       "28. 1.05472019340564e-06\n",
       "29. 1.36858267809865e-06\n",
       "30. 1.28506113676383e-06\n",
       "31. 8.23139240208035e-07\n",
       "32. 2.49940128217635e-06\n",
       "33. 1.63294864270621e-06\n",
       "34. 1.90469530504415e-06\n",
       "35. 1.31275532481986e-06\n",
       "36. 6.258e-08\n",
       "\n",
       "\n"
      ],
      "text/plain": [
       " [1]  4.629322e-09  6.881661e-09 -6.266050e-09  6.296575e-08  3.082473e-07\n",
       " [6]  5.433314e-08  4.772121e-08  6.830678e-08  2.509673e-07  1.261190e-07\n",
       "[11] -7.591308e-09  1.428449e-07  2.645474e-07  1.145362e-07  2.167546e-07\n",
       "[16]  2.627234e-07  3.839044e-07  3.789263e-07  6.878109e-07  6.664851e-07\n",
       "[21]  9.242389e-07  9.797044e-07  8.752264e-07  8.752990e-07  8.195235e-07\n",
       "[26]  9.597523e-07  9.876654e-07  1.054720e-06  1.368583e-06  1.285061e-06\n",
       "[31]  8.231392e-07  2.499401e-06  1.632949e-06  1.904695e-06  1.312755e-06\n",
       "[36]  6.258000e-08"
      ]
     },
     "execution_count": 5,
     "metadata": {},
     "output_type": "execute_result"
    },
    {
     "data": {
      "text/html": [
       "'numeric'"
      ],
      "text/latex": [
       "'numeric'"
      ],
      "text/markdown": [
       "'numeric'"
      ],
      "text/plain": [
       "[1] \"numeric\""
      ]
     },
     "execution_count": 5,
     "metadata": {},
     "output_type": "execute_result"
    }
   ],
   "source": [
    "as.numeric(meta_data$regression_rate)\n",
    "class(meta_data$beast_genomic_rate)"
   ]
  },
  {
   "cell_type": "code",
   "execution_count": 8,
   "metadata": {
    "collapsed": false
   },
   "outputs": [
    {
     "data": {
      "text/html": [
       "<ol class=list-inline>\n",
       "\t<li>21</li>\n",
       "\t<li>20</li>\n",
       "\t<li>21</li>\n",
       "\t<li>20</li>\n",
       "\t<li>21</li>\n",
       "\t<li>20</li>\n",
       "\t<li>20</li>\n",
       "\t<li>20</li>\n",
       "\t<li>20</li>\n",
       "\t<li>20</li>\n",
       "\t<li>21</li>\n",
       "\t<li>20</li>\n",
       "\t<li>20</li>\n",
       "\t<li>20</li>\n",
       "\t<li>20</li>\n",
       "\t<li>20</li>\n",
       "\t<li>21</li>\n",
       "\t<li>20</li>\n",
       "\t<li>20</li>\n",
       "\t<li>20</li>\n",
       "\t<li>21</li>\n",
       "\t<li>20</li>\n",
       "\t<li>20</li>\n",
       "\t<li>20</li>\n",
       "\t<li>21</li>\n",
       "\t<li>20</li>\n",
       "\t<li>20</li>\n",
       "\t<li>20</li>\n",
       "\t<li>20</li>\n",
       "\t<li>20</li>\n",
       "\t<li>20</li>\n",
       "\t<li>20</li>\n",
       "\t<li>20</li>\n",
       "\t<li>20</li>\n",
       "\t<li>21</li>\n",
       "\t<li>20</li>\n",
       "</ol>\n"
      ],
      "text/latex": [
       "\\begin{enumerate*}\n",
       "\\item 21\n",
       "\\item 20\n",
       "\\item 21\n",
       "\\item 20\n",
       "\\item 21\n",
       "\\item 20\n",
       "\\item 20\n",
       "\\item 20\n",
       "\\item 20\n",
       "\\item 20\n",
       "\\item 21\n",
       "\\item 20\n",
       "\\item 20\n",
       "\\item 20\n",
       "\\item 20\n",
       "\\item 20\n",
       "\\item 21\n",
       "\\item 20\n",
       "\\item 20\n",
       "\\item 20\n",
       "\\item 21\n",
       "\\item 20\n",
       "\\item 20\n",
       "\\item 20\n",
       "\\item 21\n",
       "\\item 20\n",
       "\\item 20\n",
       "\\item 20\n",
       "\\item 20\n",
       "\\item 20\n",
       "\\item 20\n",
       "\\item 20\n",
       "\\item 20\n",
       "\\item 20\n",
       "\\item 21\n",
       "\\item 20\n",
       "\\end{enumerate*}\n"
      ],
      "text/markdown": [
       "1. 21\n",
       "2. 20\n",
       "3. 21\n",
       "4. 20\n",
       "5. 21\n",
       "6. 20\n",
       "7. 20\n",
       "8. 20\n",
       "9. 20\n",
       "10. 20\n",
       "11. 21\n",
       "12. 20\n",
       "13. 20\n",
       "14. 20\n",
       "15. 20\n",
       "16. 20\n",
       "17. 21\n",
       "18. 20\n",
       "19. 20\n",
       "20. 20\n",
       "21. 21\n",
       "22. 20\n",
       "23. 20\n",
       "24. 20\n",
       "25. 21\n",
       "26. 20\n",
       "27. 20\n",
       "28. 20\n",
       "29. 20\n",
       "30. 20\n",
       "31. 20\n",
       "32. 20\n",
       "33. 20\n",
       "34. 20\n",
       "35. 21\n",
       "36. 20\n",
       "\n",
       "\n"
      ],
      "text/plain": [
       " [1] 21 20 21 20 21 20 20 20 20 20 21 20 20 20 20 20 21 20 20 20 21 20 20 20 21\n",
       "[26] 20 20 20 20 20 20 20 20 20 21 20"
      ]
     },
     "execution_count": 8,
     "metadata": {},
     "output_type": "execute_result"
    }
   ],
   "source": [
    "drt"
   ]
  },
  {
   "cell_type": "code",
   "execution_count": null,
   "metadata": {
    "collapsed": true
   },
   "outputs": [],
   "source": []
  }
 ],
 "metadata": {
  "kernelspec": {
   "display_name": "R",
   "language": "R",
   "name": "ir"
  },
  "language_info": {
   "codemirror_mode": "r",
   "file_extension": ".r",
   "mimetype": "text/x-r-source",
   "name": "R",
   "pygments_lexer": "r",
   "version": "3.2.2"
  }
 },
 "nbformat": 4,
 "nbformat_minor": 0
}
