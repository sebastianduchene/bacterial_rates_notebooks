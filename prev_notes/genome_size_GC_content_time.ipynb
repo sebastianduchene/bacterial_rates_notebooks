{
 "cells": [
  {
   "cell_type": "code",
   "execution_count": 1,
   "metadata": {
    "collapsed": false
   },
   "outputs": [
    {
     "name": "stderr",
     "output_type": "stream",
     "text": [
      "gdata: read.xls support for 'XLS' (Excel 97-2004) files ENABLED.\n",
      "\n",
      "gdata: read.xls support for 'XLSX' (Excel 2007+) files ENABLED.\n",
      "\n",
      "Attaching package: ‘gdata’\n",
      "\n",
      "The following object is masked from ‘package:stats’:\n",
      "\n",
      "    nobs\n",
      "\n",
      "The following object is masked from ‘package:utils’:\n",
      "\n",
      "    object.size\n",
      "\n"
     ]
    }
   ],
   "source": [
    "library(gdata)\n",
    "library(RColorBrewer)"
   ]
  },
  {
   "cell_type": "code",
   "execution_count": 2,
   "metadata": {
    "collapsed": false
   },
   "outputs": [
    {
     "data": {
      "text/html": [
       "<table>\n",
       "<thead><tr><th></th><th scope=col>beast_genomic_rate</th><th scope=col>Name</th></tr></thead>\n",
       "<tbody>\n",
       "\t<tr><th scope=row>1</th><td>1.562162e-08</td><td>M. leprae</td></tr>\n",
       "\t<tr><th scope=row>2</th><td>1.572643e-08</td><td>Y. pestis</td></tr>\n",
       "\t<tr><th scope=row>3</th><td>2.260972e-08</td><td>Y. pestis (second pandemic)</td></tr>\n",
       "\t<tr><th scope=row>4</th><td>5.675213e-08</td><td>M. tuberculosis Lineage 4</td></tr>\n",
       "\t<tr><th scope=row>6</th><td>7.604037e-08</td><td>S. Paratyphi A (two clades)</td></tr>\n",
       "\t<tr><th scope=row>7</th><td>8.016475e-08</td><td>S. Paratyphi A (clade 1)</td></tr>\n",
       "</tbody>\n",
       "</table>\n"
      ],
      "text/latex": [
       "\\begin{tabular}{r|ll}\n",
       "  & beast_genomic_rate & Name\\\\\n",
       "\\hline\n",
       "\t1 & 1.562162e-08 & M. leprae\\\\\n",
       "\t2 & 1.572643e-08 & Y. pestis\\\\\n",
       "\t3 & 2.260972e-08 & Y. pestis (second pandemic)\\\\\n",
       "\t4 & 5.675213e-08 & M. tuberculosis Lineage 4\\\\\n",
       "\t6 & 7.604037e-08 & S. Paratyphi A (two clades)\\\\\n",
       "\t7 & 8.016475e-08 & S. Paratyphi A (clade 1)\\\\\n",
       "\\end{tabular}\n"
      ],
      "text/plain": [
       "  beast_genomic_rate                        Name\n",
       "1       1.562162e-08                   M. leprae\n",
       "2       1.572643e-08                   Y. pestis\n",
       "3       2.260972e-08 Y. pestis (second pandemic)\n",
       "4       5.675213e-08   M. tuberculosis Lineage 4\n",
       "6       7.604037e-08 S. Paratyphi A (two clades)\n",
       "7       8.016475e-08    S. Paratyphi A (clade 1)"
      ]
     },
     "execution_count": 2,
     "metadata": {},
     "output_type": "execute_result"
    }
   ],
   "source": [
    "meta_data <- read.xls('metadata_updated_rates.xlsx', stringsAsFactors = F)\n",
    "meta_data <- meta_data[-grep('N. meningitis', meta_data$Name), ]\n",
    "meta_data <- meta_data[, -ncol(meta_data)]\n",
    "meta_data$short_name <- gsub('_+$', '', gsub('ucld|_rc|_rs|_sc|_ss|_bs|constant|strict', '', meta_data$file_name))\n",
    "head(meta_data[, c('beast_genomic_rate', 'Name')])\n",
    "head(meta_data)\n",
    "\n",
    "\n",
    "temp_struct <- meta_data$temp_stucture_degree >0.5\n",
    "temp_struct[meta_data$temp_stucture_degree>=0.9] <- 'blue'\n",
    "temp_struct[meta_data$temp_stucture_degree >= 0.5 & meta_data$temp_stucture_degree < 0.9] <- 'orange'\n",
    "temp_struct[meta_data$temp_stucture_degree < 0.5] <- 'red'"
   ]
  },
  {
   "cell_type": "code",
   "execution_count": 3,
   "metadata": {
    "collapsed": true
   },
   "outputs": [],
   "source": [
    "lm_randomisation <- function(rate, denominator, nreps = 1000, log_log = T){\n",
    "    # Spurious correlations arise when y/x ~ x. \n",
    "        # To solve do\n",
    "        # y/x * x = y\n",
    "        # randomise y -> yr 1000 times\n",
    "        # run regression using yr/x ~x: this is the null distribution\n",
    "        true_lm <- lm(rate ~ denominator)\n",
    "        if(log_log){\n",
    "            get_rate <- function(a, b) return(a+b)\n",
    "        }else{\n",
    "            get_rate <- function(a, b) return(a*b)\n",
    "        }\n",
    "        y <- get_rate(rate, denominator)\n",
    "        x <- denominator\n",
    "        null_dist <- vector()\n",
    "        for(i in 1:nreps){\n",
    "            yr <- sample(x = y, size = length(y))\n",
    "            yr.x <- get_rate(yr, x)\n",
    "            null_dist[i] <- lm(yr.x ~ x)$coefficients[2]\n",
    "        }\n",
    "                \n",
    "        return(list(0.5 - abs(sum(true_lm$coefficients[2] > null_dist)/nreps - 0.5), null_dist, true_lm$coefficients))\n",
    "    }"
   ]
  },
  {
   "cell_type": "code",
   "execution_count": 4,
   "metadata": {
    "collapsed": false
   },
   "outputs": [
    {
     "name": "stdout",
     "output_type": "stream",
     "text": [
      "\n",
      "Call:\n",
      "lm(formula = log10(meta_data$beast_genomic_rate)[pass_cr1] ~ \n",
      "    log10(meta_data$gsize_check)[pass_cr1])\n",
      "\n",
      "Residuals:\n",
      "     Min       1Q   Median       3Q      Max \n",
      "-1.23574 -0.54513  0.03018  0.47987  0.96910 \n",
      "\n",
      "Coefficients:\n",
      "                                       Estimate Std. Error t value Pr(>|t|)  \n",
      "(Intercept)                              3.0310     4.2188   0.718   0.4791  \n",
      "log10(meta_data$gsize_check)[pass_cr1]  -1.4396     0.6469  -2.225   0.0353 *\n",
      "---\n",
      "Signif. codes:  0 ‘***’ 0.001 ‘**’ 0.01 ‘*’ 0.05 ‘.’ 0.1 ‘ ’ 1\n",
      "\n",
      "Residual standard error: 0.5731 on 25 degrees of freedom\n",
      "Multiple R-squared:  0.1653,\tAdjusted R-squared:  0.132 \n",
      "F-statistic: 4.953 on 1 and 25 DF,  p-value: 0.0353\n",
      "\n",
      "\n",
      "Call:\n",
      "lm(formula = log10(meta_data$beast_genomic_rate)[pass_cr1] ~ \n",
      "    meta_data$CG.[pass_cr1])\n",
      "\n",
      "Residuals:\n",
      "    Min      1Q  Median      3Q     Max \n",
      "-1.4204 -0.2225  0.1422  0.3224  0.5830 \n",
      "\n",
      "Coefficients:\n",
      "                         Estimate Std. Error t value Pr(>|t|)    \n",
      "(Intercept)             -4.659738   0.394726 -11.805 1.02e-11 ***\n",
      "meta_data$CG.[pass_cr1] -0.036202   0.008207  -4.411 0.000171 ***\n",
      "---\n",
      "Signif. codes:  0 ‘***’ 0.001 ‘**’ 0.01 ‘*’ 0.05 ‘.’ 0.1 ‘ ’ 1\n",
      "\n",
      "Residual standard error: 0.4704 on 25 degrees of freedom\n",
      "Multiple R-squared:  0.4377,\tAdjusted R-squared:  0.4152 \n",
      "F-statistic: 19.46 on 1 and 25 DF,  p-value: 0.0001714\n",
      "\n",
      "\n",
      "Call:\n",
      "lm(formula = log10(meta_data$beast_genomic_rate)[pass_cr1] ~ \n",
      "    log10(meta_data$sampling_time)[pass_cr1])\n",
      "\n",
      "Residuals:\n",
      "     Min       1Q   Median       3Q      Max \n",
      "-1.18481 -0.34918  0.01452  0.34031  0.69120 \n",
      "\n",
      "Coefficients:\n",
      "                                         Estimate Std. Error t value Pr(>|t|)\n",
      "(Intercept)                               -5.2694     0.2778 -18.969 2.35e-16\n",
      "log10(meta_data$sampling_time)[pass_cr1]  -0.7072     0.1706  -4.145 0.000341\n",
      "                                            \n",
      "(Intercept)                              ***\n",
      "log10(meta_data$sampling_time)[pass_cr1] ***\n",
      "---\n",
      "Signif. codes:  0 ‘***’ 0.001 ‘**’ 0.01 ‘*’ 0.05 ‘.’ 0.1 ‘ ’ 1\n",
      "\n",
      "Residual standard error: 0.4829 on 25 degrees of freedom\n",
      "Multiple R-squared:  0.4073,\tAdjusted R-squared:  0.3836 \n",
      "F-statistic: 17.18 on 1 and 25 DF,  p-value: 0.000341\n",
      "\n"
     ]
    },
    {
     "data": {
      "text/html": [
       "<strong>pdf:</strong> 2"
      ],
      "text/latex": [
       "\\textbf{pdf:} 2"
      ],
      "text/markdown": [
       "**pdf:** 2"
      ],
      "text/plain": [
       "pdf \n",
       "  2 "
      ]
     },
     "execution_count": 4,
     "metadata": {},
     "output_type": "execute_result"
    }
   ],
   "source": [
    "pdf('genome_size_GC_content_time.pdf', useDingbats = F, width = 14, height = 5)\n",
    "par(mfrow = c(1, 3))\n",
    "par(mar = c(4, 4, 2, 2))\n",
    "\n",
    "pass_cr1 <- (meta_data$temp_stucture_degree > 0.5)\n",
    "drt <- c(21, 20)[pass_cr1 + 1]\n",
    "#gram_code <- c(rgb(1,0,0.7, 1), rgb(0, 0, 1, 0.7))[meta_data$gram_coded]\n",
    "#cols <- meta_data$species\n",
    "plot(log10(meta_data$gsize_check), log10(meta_data$beast_genomic_rate), pch = 20, col = temp_struct, xlim = c(6.15, 6.8),\n",
    "     ylab = 'Genomic rate (subs/site/year)', xlab = 'Genome size (sites)', cex = 2.5) #col = gram_code, \n",
    "genome_size_reg <- lm(log10(meta_data$beast_genomic_rate)[pass_cr1] ~  log10(meta_data$gsize_check)[pass_cr1])\n",
    "abline(genome_size_reg)\n",
    "text(log10(meta_data$gsize_check), log10(meta_data$beast_genomic_rate), \n",
    "     labels = meta_data$code, cex = 0.9, pos = 2 )#, vfont = c('sans serif', 'italic'))\n",
    "print(summary(genome_size_reg))\n",
    "\n",
    "plot(meta_data$CG., log10(meta_data$beast_genomic_rate), pch = 20, col = temp_struct, \n",
    "      xlab = 'GC content (%)', ylab = '', cex = 2.5, yaxt='n') \n",
    "cg_reg <- lm(log10(meta_data$beast_genomic_rate)[pass_cr1] ~ meta_data$CG.[pass_cr1])\n",
    "abline(cg_reg)\n",
    "text(meta_data$CG., log10(meta_data$beast_genomic_rate),\n",
    "     labels = meta_data$code, cex = 0.9, pos = 2)#, vfont = c('sans serif', 'italic'))\n",
    "print(summary(cg_reg))\n",
    "\n",
    "\n",
    "plot(log10(meta_data$sampling_time), log10(meta_data$beast_genomic_rate), pch = 20, col = temp_struct, \n",
    "      xlab = 'Sampling time (years)', ylab = '', cex = 2.5, xlim = c(0, 3.3), yaxt='n') #col = gram_code,\n",
    "text(log10(meta_data$sampling_time), log10(meta_data$beast_genomic_rate), \n",
    "     labels = meta_data$code, cex = 0.9, pos = 2)#, vfont = c('sans serif', 'italic'))\n",
    "\n",
    "\n",
    "sampling_time_reg <- lm(log10(meta_data$beast_genomic_rate)[pass_cr1] ~ log10(meta_data$sampling_time)[pass_cr1]) \n",
    "abline(sampling_time_reg)\n",
    "print(summary(sampling_time_reg))\n",
    "random_time_reg <- lm_randomisation(rate = log10(meta_data$beast_genomic_rate)[pass_cr1], denominator = log10(meta_data$sampling_time)[pass_cr1])\n",
    "\n",
    "dev.off()"
   ]
  },
  {
   "cell_type": "code",
   "execution_count": 8,
   "metadata": {
    "collapsed": false
   },
   "outputs": [],
   "source": [
    "boot_data <- read.table('curve_fit_bootstrap.csv', sep = ',', head =T)"
   ]
  },
  {
   "cell_type": "code",
   "execution_count": 23,
   "metadata": {
    "collapsed": false
   },
   "outputs": [
    {
     "name": "stdout",
     "output_type": "stream",
     "text": [
      "\n",
      "Call:\n",
      "lm(formula = log10(meta_data$beast_genomic_rate)[pass_cr1] ~ \n",
      "    log10(meta_data$sampling_time)[pass_cr1])\n",
      "\n",
      "Residuals:\n",
      "     Min       1Q   Median       3Q      Max \n",
      "-1.18481 -0.34918  0.01452  0.34031  0.69120 \n",
      "\n",
      "Coefficients:\n",
      "                                         Estimate Std. Error t value Pr(>|t|)\n",
      "(Intercept)                               -5.2694     0.2778 -18.969 2.35e-16\n",
      "log10(meta_data$sampling_time)[pass_cr1]  -0.7072     0.1706  -4.145 0.000341\n",
      "                                            \n",
      "(Intercept)                              ***\n",
      "log10(meta_data$sampling_time)[pass_cr1] ***\n",
      "---\n",
      "Signif. codes:  0 ‘***’ 0.001 ‘**’ 0.01 ‘*’ 0.05 ‘.’ 0.1 ‘ ’ 1\n",
      "\n",
      "Residual standard error: 0.4829 on 25 degrees of freedom\n",
      "Multiple R-squared:  0.4073,\tAdjusted R-squared:  0.3836 \n",
      "F-statistic: 17.18 on 1 and 25 DF,  p-value: 0.000341\n",
      "\n"
     ]
    },
    {
     "data": {
      "text/html": [
       "<strong>pdf:</strong> 2"
      ],
      "text/latex": [
       "\\textbf{pdf:} 2"
      ],
      "text/markdown": [
       "**pdf:** 2"
      ],
      "text/plain": [
       "pdf \n",
       "  2 "
      ]
     },
     "execution_count": 23,
     "metadata": {},
     "output_type": "execute_result"
    }
   ],
   "source": [
    "pdf('rate_time.pdf', useDingbats = F, width = 7, height = 7)\n",
    "#par(mfrow = c(1, 2))\n",
    "par(mar = c(4, 4, 2, 2))\n",
    "\n",
    "pass_cr1 <- (meta_data$temp_stucture_degree > 0.5)\n",
    "drt <- c(21, 20)[pass_cr1 + 1]\n",
    "#gram_code <- c(rgb(1,0,0.7, 1), rgb(0, 0, 1, 0.7))[meta_data$gram_coded]\n",
    "#cols <- meta_data$species\n",
    "#plot(log10(meta_data$gsize_check), log10(meta_data$beast_genomic_rate), pch = 20, col = temp_struct, xlim = c(6.15, 6.8),\n",
    "#     ylab = 'Genomic rate (subs/site/year)', xlab = 'Genome size (sites)', cex = 2.5) #col = gram_code, \n",
    "#genome_size_reg <- lm(log10(meta_data$beast_genomic_rate)[pass_cr1] ~  log10(meta_data$gsize_check)[pass_cr1])\n",
    "#abline(genome_size_reg)\n",
    "#text(log10(meta_data$gsize_check), log10(meta_data$beast_genomic_rate), \n",
    "#     labels = meta_data$code, cex = 0.9, pos = 2 )#, vfont = c('sans serif', 'italic'))\n",
    "#print(summary(genome_size_reg))\n",
    "\n",
    "#plot(meta_data$CG., log10(meta_data$beast_genomic_rate), pch = 20, col = temp_struct, \n",
    "#      xlab = 'GC content (%)', ylab = '', cex = 2.5, yaxt='n') \n",
    "#cg_reg <- lm(log10(meta_data$beast_genomic_rate)[pass_cr1] ~ meta_data$CG.[pass_cr1])\n",
    "#abline(cg_reg)\n",
    "#text(meta_data$CG., log10(meta_data$beast_genomic_rate),\n",
    "#     labels = meta_data$code, cex = 0.9, pos = 2)#, vfont = c('sans serif', 'italic'))\n",
    "#print(summary(cg_reg))\n",
    "\n",
    "plot(log10(meta_data$sampling_time), log10(meta_data$beast_genomic_rate), pch = 20, col = temp_struct, \n",
    "      xlab = 'Sampling time (years)', cex = 2.5, xlim = c(0, 3.3), \n",
    "     ylab = 'Genomic rate (subs/site/year)', type = 'n') #col = gram_code,\n",
    "text(log10(meta_data$sampling_time), log10(meta_data$beast_genomic_rate), \n",
    "     labels = meta_data$code, cex = 0.9, pos = 2)#, vfont = c('sans serif', 'italic'))\n",
    "\n",
    "####\n",
    "####\n",
    "#### These lines represent the y=a/x^b fitted in notebook fit_rate_decay\n",
    "for(i in 1:nrow(boot_data)){\n",
    "    line_temp <- boot_data$alpha[i]/(sort(log10(meta_data$sampling_time))^boot_data$beta[i])\n",
    "    lines(sort(log10(meta_data$sampling_time)), line_temp, col = rgb(0, 0, 0.3, 0.01), lwd = 4)\n",
    "}\n",
    "fun_mle <- function(x) -5.9/(x^-0.17)\n",
    "lines(sort(log10(meta_data$sampling_time)), fun_mle(sort(log10(meta_data$sampling_time))),\n",
    "      lwd = 3)\n",
    "####\n",
    "####\n",
    "####\n",
    "points(log10(meta_data$sampling_time), log10(meta_data$beast_genomic_rate), \n",
    "       pch = 20, col = temp_struct, cex = 2.5)\n",
    "    \n",
    "sampling_time_reg <- lm(log10(meta_data$beast_genomic_rate)[pass_cr1] ~ log10(meta_data$sampling_time)[pass_cr1]) \n",
    "\n",
    "b <- sampling_time_reg$coefficients[1]\n",
    "m <- sampling_time_reg$coefficients[2]\n",
    "get_y <- function(x) as.numeric(m*x+b)\n",
    "\n",
    "lines(range(log10(meta_data$sampling_time)),             \n",
    "            sapply(range(log10(meta_data$sampling_time)), get_y ), lwd = 2, lty = 2)\n",
    "    \n",
    "text(x = 2.5, y = -5.5, lab= 'Slope = -0.707')\n",
    "text(x = 2.5, y = -5.8, lab= 'P = 0.0003')\n",
    "\n",
    "    \n",
    "\n",
    "#abline(sampling_time_reg)\n",
    "\n",
    "    print(summary(sampling_time_reg))\n",
    "random_time_reg <- lm_randomisation(rate = log10(meta_data$beast_genomic_rate)[pass_cr1], denominator = log10(meta_data$sampling_time)[pass_cr1])\n",
    "\n",
    "dev.off()"
   ]
  },
  {
   "cell_type": "code",
   "execution_count": 6,
   "metadata": {
    "collapsed": false
   },
   "outputs": [
    {
     "data": {
      "text/html": [
       "<ol class=list-inline>\n",
       "\t<li>-5.50450945033906</li>\n",
       "\t<li>-7.60292343024376</li>\n",
       "</ol>\n"
      ],
      "text/latex": [
       "\\begin{enumerate*}\n",
       "\\item -5.50450945033906\n",
       "\\item -7.60292343024376\n",
       "\\end{enumerate*}\n"
      ],
      "text/markdown": [
       "1. -5.50450945033906\n",
       "2. -7.60292343024376\n",
       "\n",
       "\n"
      ],
      "text/plain": [
       "[1] -5.504509 -7.602923"
      ]
     },
     "execution_count": 6,
     "metadata": {},
     "output_type": "execute_result"
    }
   ],
   "source": [
    "\n",
    "sapply(range(log10(meta_data$sampling_time)), get_y )"
   ]
  },
  {
   "cell_type": "code",
   "execution_count": 37,
   "metadata": {
    "collapsed": false
   },
   "outputs": [
    {
     "data": {
      "text/html": [
       "<ol class=list-inline>\n",
       "\t<li>0.332438459915605</li>\n",
       "\t<li>3.29950729870049</li>\n",
       "</ol>\n"
      ],
      "text/latex": [
       "\\begin{enumerate*}\n",
       "\\item 0.332438459915605\n",
       "\\item 3.29950729870049\n",
       "\\end{enumerate*}\n"
      ],
      "text/markdown": [
       "1. 0.332438459915605\n",
       "2. 3.29950729870049\n",
       "\n",
       "\n"
      ],
      "text/plain": [
       "[1] 0.3324385 3.2995073"
      ]
     },
     "execution_count": 37,
     "metadata": {},
     "output_type": "execute_result"
    }
   ],
   "source": [
    "range(log10(meta_data$sampling_time))"
   ]
  },
  {
   "cell_type": "code",
   "execution_count": 2,
   "metadata": {
    "collapsed": false
   },
   "outputs": [
    {
     "data": {
      "text/html": [
       "-4.72648"
      ],
      "text/latex": [
       "-4.72648"
      ],
      "text/markdown": [
       "-4.72648"
      ],
      "text/plain": [
       "[1] -4.72648"
      ]
     },
     "execution_count": 2,
     "metadata": {},
     "output_type": "execute_result"
    },
    {
     "data": {
      "text/html": [
       "-5.81232"
      ],
      "text/latex": [
       "-5.81232"
      ],
      "text/markdown": [
       "-5.81232"
      ],
      "text/plain": [
       "[1] -5.81232"
      ]
     },
     "execution_count": 2,
     "metadata": {},
     "output_type": "execute_result"
    }
   ],
   "source": [
    "-5.2694+(0.277*1.96)\n",
    "-5.2694-(0.277*1.96)"
   ]
  },
  {
   "cell_type": "code",
   "execution_count": null,
   "metadata": {
    "collapsed": true
   },
   "outputs": [],
   "source": []
  }
 ],
 "metadata": {
  "kernelspec": {
   "display_name": "R",
   "language": "R",
   "name": "ir"
  },
  "language_info": {
   "codemirror_mode": "r",
   "file_extension": ".r",
   "mimetype": "text/x-r-source",
   "name": "R",
   "pygments_lexer": "r",
   "version": "3.2.4"
  }
 },
 "nbformat": 4,
 "nbformat_minor": 0
}
