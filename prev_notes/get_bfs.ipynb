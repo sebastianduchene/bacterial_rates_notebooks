{
 "cells": [
  {
   "cell_type": "code",
   "execution_count": 1,
   "metadata": {
    "collapsed": false
   },
   "outputs": [
    {
     "name": "stderr",
     "output_type": "stream",
     "text": [
      "gdata: read.xls support for 'XLS' (Excel 97-2004) files ENABLED.\n",
      "\n",
      "gdata: read.xls support for 'XLSX' (Excel 2007+) files ENABLED.\n",
      "\n",
      "Attaching package: ‘gdata’\n",
      "\n",
      "The following object is masked from ‘package:stats’:\n",
      "\n",
      "    nobs\n",
      "\n",
      "The following object is masked from ‘package:utils’:\n",
      "\n",
      "    object.size\n",
      "\n"
     ]
    }
   ],
   "source": [
    "library(ape)\n",
    "library(gdata)"
   ]
  },
  {
   "cell_type": "code",
   "execution_count": 2,
   "metadata": {
    "collapsed": false
   },
   "outputs": [],
   "source": [
    "file_names <- read.xls('genome_conversion_factors_2.xlsx', stringsAsFactors = F)$file_name\n"
   ]
  },
  {
   "cell_type": "code",
   "execution_count": 3,
   "metadata": {
    "collapsed": false
   },
   "outputs": [
    {
     "data": {
      "text/html": [
       "<table>\n",
       "<thead><tr><th></th><th scope=col>file_names</th><th scope=col>A</th><th scope=col>C</th><th scope=col>G</th><th scope=col>T</th></tr></thead>\n",
       "<tbody>\n",
       "\t<tr><th scope=row>1</th><td>b_pertussis</td><td></td><td></td><td></td><td></td></tr>\n",
       "\t<tr><th scope=row>2</th><td>e_faecium_clades12</td><td></td><td></td><td></td><td></td></tr>\n",
       "\t<tr><th scope=row>3</th><td>e_faecium_clade1</td><td></td><td></td><td></td><td></td></tr>\n",
       "\t<tr><th scope=row>4</th><td>e_faecium_clade2</td><td></td><td></td><td></td><td></td></tr>\n",
       "\t<tr><th scope=row>5</th><td>klebsiella_snps_no_outliers</td><td></td><td></td><td></td><td></td></tr>\n",
       "\t<tr><th scope=row>6</th><td>klebsiella_clade1</td><td></td><td></td><td></td><td></td></tr>\n",
       "</tbody>\n",
       "</table>\n"
      ],
      "text/latex": [
       "\\begin{tabular}{r|lllll}\n",
       "  & file_names & A & C & G & T\\\\\n",
       "\\hline\n",
       "\t1 & b_pertussis &  &  &  & \\\\\n",
       "\t2 & e_faecium_clades12 &  &  &  & \\\\\n",
       "\t3 & e_faecium_clade1 &  &  &  & \\\\\n",
       "\t4 & e_faecium_clade2 &  &  &  & \\\\\n",
       "\t5 & klebsiella_snps_no_outliers &  &  &  & \\\\\n",
       "\t6 & klebsiella_clade1 &  &  &  & \\\\\n",
       "\\end{tabular}\n"
      ],
      "text/plain": [
       "                   file_names A C G T\n",
       "1                 b_pertussis        \n",
       "2          e_faecium_clades12        \n",
       "3            e_faecium_clade1        \n",
       "4            e_faecium_clade2        \n",
       "5 klebsiella_snps_no_outliers        \n",
       "6           klebsiella_clade1        "
      ]
     },
     "execution_count": 3,
     "metadata": {},
     "output_type": "execute_result"
    }
   ],
   "source": [
    "out_data <- data.frame(file_names = file_names, A='', C='', G='', T='', stringsAsFactors = F)\n",
    "head(out_data)"
   ]
  },
  {
   "cell_type": "code",
   "execution_count": 4,
   "metadata": {
    "collapsed": false
   },
   "outputs": [],
   "source": [
    "for(i in 1:length(file_names)){\n",
    "    f <- as.character(out_data$file_names[i])\n",
    "    all_f <- dir(f)\n",
    "    fasta_file <- paste0(f, '.fasta')\n",
    "    phy_file <- paste0(f, 'phy')\n",
    "    if(any(fasta_file == all_f)){\n",
    "        dna_dat <- read.dna(paste0(f, '/', fasta_file), format = 'fasta')\n",
    "    }else if(any(phy_file == all_f)){\n",
    "        dna_dat <- read.dna(paste0(f, '/', phy_file))\n",
    "    }else{\n",
    "        print(paste(f, 'not found'))\n",
    "    }\n",
    "    out_data[i, 2:5] <- base.freq(dna_dat)\n",
    "}\n",
    "        \n",
    "#    secs = list(''.join([re.sub('-|\\n|n|[?]', '', l) for l in dna_dat if not '>' in l]))\n",
    "#    print st.itemfreq(secs)\n",
    "#    out_data.ix[i, 1:] = st.itemfreq(secs)[:, 1]"
   ]
  },
  {
   "cell_type": "code",
   "execution_count": 7,
   "metadata": {
    "collapsed": false
   },
   "outputs": [
    {
     "data": {
      "text/html": [
       "<table>\n",
       "<thead><tr><th></th><th scope=col>file_names</th><th scope=col>A</th><th scope=col>C</th><th scope=col>G</th><th scope=col>T</th></tr></thead>\n",
       "<tbody>\n",
       "\t<tr><th scope=row>1</th><td>b_pertussis</td><td>0.0870357393132446</td><td>0.459901892081289</td><td>0.376281242700304</td><td>0.0767811259051623</td></tr>\n",
       "\t<tr><th scope=row>2</th><td>e_faecium_clades12</td><td>0.236627877940369</td><td>0.267817010437996</td><td>0.287569295310393</td><td>0.207985816311242</td></tr>\n",
       "\t<tr><th scope=row>3</th><td>e_faecium_clade1</td><td>0.238473219215903</td><td>0.27167310877968</td><td>0.276090557702927</td><td>0.213763114301491</td></tr>\n",
       "\t<tr><th scope=row>4</th><td>e_faecium_clade2</td><td>0.235581813913452</td><td>0.265631113545661</td><td>0.294076218796463</td><td>0.204710853744424</td></tr>\n",
       "\t<tr><th scope=row>5</th><td>klebsiella_snps_no_outliers</td><td>0.179957657021877</td><td>0.344318983768525</td><td>0.304763585038814</td><td>0.170959774170783</td></tr>\n",
       "\t<tr><th scope=row>6</th><td>klebsiella_clade1</td><td>0.184044135878998</td><td>0.342548970989338</td><td>0.30238036201339</td><td>0.171026531118274</td></tr>\n",
       "</tbody>\n",
       "</table>\n"
      ],
      "text/latex": [
       "\\begin{tabular}{r|lllll}\n",
       "  & file_names & A & C & G & T\\\\\n",
       "\\hline\n",
       "\t1 & b_pertussis & 0.0870357393132446 & 0.459901892081289 & 0.376281242700304 & 0.0767811259051623\\\\\n",
       "\t2 & e_faecium_clades12 & 0.236627877940369 & 0.267817010437996 & 0.287569295310393 & 0.207985816311242\\\\\n",
       "\t3 & e_faecium_clade1 & 0.238473219215903 & 0.27167310877968 & 0.276090557702927 & 0.213763114301491\\\\\n",
       "\t4 & e_faecium_clade2 & 0.235581813913452 & 0.265631113545661 & 0.294076218796463 & 0.204710853744424\\\\\n",
       "\t5 & klebsiella_snps_no_outliers & 0.179957657021877 & 0.344318983768525 & 0.304763585038814 & 0.170959774170783\\\\\n",
       "\t6 & klebsiella_clade1 & 0.184044135878998 & 0.342548970989338 & 0.30238036201339 & 0.171026531118274\\\\\n",
       "\\end{tabular}\n"
      ],
      "text/plain": [
       "                   file_names                  A                 C\n",
       "1                 b_pertussis 0.0870357393132446 0.459901892081289\n",
       "2          e_faecium_clades12  0.236627877940369 0.267817010437996\n",
       "3            e_faecium_clade1  0.238473219215903  0.27167310877968\n",
       "4            e_faecium_clade2  0.235581813913452 0.265631113545661\n",
       "5 klebsiella_snps_no_outliers  0.179957657021877 0.344318983768525\n",
       "6           klebsiella_clade1  0.184044135878998 0.342548970989338\n",
       "                  G                  T\n",
       "1 0.376281242700304 0.0767811259051623\n",
       "2 0.287569295310393  0.207985816311242\n",
       "3 0.276090557702927  0.213763114301491\n",
       "4 0.294076218796463  0.204710853744424\n",
       "5 0.304763585038814  0.170959774170783\n",
       "6  0.30238036201339  0.171026531118274"
      ]
     },
     "execution_count": 7,
     "metadata": {},
     "output_type": "execute_result"
    }
   ],
   "source": [
    "head(out_data)"
   ]
  },
  {
   "cell_type": "code",
   "execution_count": 11,
   "metadata": {
    "collapsed": false
   },
   "outputs": [],
   "source": [
    "write.table(out_data, file = 'base_freqs.csv', sep = ',', row.names = F)"
   ]
  },
  {
   "cell_type": "code",
   "execution_count": null,
   "metadata": {
    "collapsed": false
   },
   "outputs": [],
   "source": []
  },
  {
   "cell_type": "code",
   "execution_count": null,
   "metadata": {
    "collapsed": false
   },
   "outputs": [],
   "source": []
  },
  {
   "cell_type": "code",
   "execution_count": null,
   "metadata": {
    "collapsed": false
   },
   "outputs": [],
   "source": []
  },
  {
   "cell_type": "code",
   "execution_count": null,
   "metadata": {
    "collapsed": false
   },
   "outputs": [],
   "source": []
  },
  {
   "cell_type": "code",
   "execution_count": null,
   "metadata": {
    "collapsed": true
   },
   "outputs": [],
   "source": []
  },
  {
   "cell_type": "code",
   "execution_count": null,
   "metadata": {
    "collapsed": true
   },
   "outputs": [],
   "source": []
  },
  {
   "cell_type": "code",
   "execution_count": null,
   "metadata": {
    "collapsed": true
   },
   "outputs": [],
   "source": []
  },
  {
   "cell_type": "code",
   "execution_count": null,
   "metadata": {
    "collapsed": true
   },
   "outputs": [],
   "source": []
  },
  {
   "cell_type": "code",
   "execution_count": null,
   "metadata": {
    "collapsed": true
   },
   "outputs": [],
   "source": []
  }
 ],
 "metadata": {
  "kernelspec": {
   "display_name": "R",
   "language": "R",
   "name": "ir"
  },
  "language_info": {
   "codemirror_mode": "r",
   "file_extension": ".r",
   "mimetype": "text/x-r-source",
   "name": "R",
   "pygments_lexer": "r",
   "version": "3.2.2"
  }
 },
 "nbformat": 4,
 "nbformat_minor": 0
}
