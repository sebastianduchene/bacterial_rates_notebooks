{
 "cells": [
  {
   "cell_type": "code",
   "execution_count": 14,
   "metadata": {
    "collapsed": false
   },
   "outputs": [
    {
     "name": "stdout",
     "output_type": "stream",
     "text": [
      "Populating the interactive namespace from numpy and matplotlib\n"
     ]
    }
   ],
   "source": [
    "import re, sys, os\n",
    "import numpy as np\n",
    "import pandas as pd\n",
    "import matplotlib.pyplot as plt\n",
    "%pylab inline"
   ]
  },
  {
   "cell_type": "code",
   "execution_count": 15,
   "metadata": {
    "collapsed": false
   },
   "outputs": [],
   "source": [
    "true_runs = list()\n",
    "random_runs = list()\n",
    "for i in os.listdir('.'):\n",
    "    if len(re.findall('^rand', i)) == 0 and 'log' in i:\n",
    "        true_runs.append(i)\n",
    "    else:\n",
    "        random_runs.append(i)"
   ]
  },
  {
   "cell_type": "code",
   "execution_count": 16,
   "metadata": {
    "collapsed": false
   },
   "outputs": [],
   "source": [
    "drt_tags = ['rand_'+re.sub('_+$', '', re.sub('[.]log|ucld|constant|strict|_bs', '', i)) for i in true_runs]"
   ]
  },
  {
   "cell_type": "code",
   "execution_count": 17,
   "metadata": {
    "collapsed": true
   },
   "outputs": [],
   "source": [
    "#print the number of runs for each random tag"
   ]
  },
  {
   "cell_type": "code",
   "execution_count": 18,
   "metadata": {
    "collapsed": false
   },
   "outputs": [],
   "source": [
    "drt_counts = list()\n",
    "for tag in drt_tags:\n",
    "    temp_counts = 0\n",
    "    for r in random_runs:\n",
    "        if tag in r:\n",
    "            temp_counts+=1\n",
    "    drt_counts.append(temp_counts)"
   ]
  },
  {
   "cell_type": "markdown",
   "metadata": {},
   "source": [
    "### Make a data frame with the file name with no randomisation, tags, and number of randomisations\n",
    "### TODO\n",
    " - write a function that takes a several ranges and returns the number of ranges that overlap wiht eh first "
   ]
  },
  {
   "cell_type": "code",
   "execution_count": null,
   "metadata": {
    "collapsed": true
   },
   "outputs": [],
   "source": []
  },
  {
   "cell_type": "code",
   "execution_count": 25,
   "metadata": {
    "collapsed": false
   },
   "outputs": [],
   "source": [
    "drt_results = pd.DataFrame(np.array([true_runs, drt_tags, drt_counts, np.repeat('NA', len(drt_counts))]).transpose())"
   ]
  },
  {
   "cell_type": "code",
   "execution_count": 20,
   "metadata": {
    "collapsed": false
   },
   "outputs": [],
   "source": [
    "for rep in range(drt_results.shape[0]):\n",
    "    #read true data and get name of rate column\n",
    "    true_data = pd.read_csv(drt_results.ix[rep, 0], sep = '\\t', skiprows = 1, header = True)\n",
    "    rate_name = [i for i in true_data.columns if(('ucld.mean' in i) or ('clock.rate' in i))][0]\n",
    "    \n",
    "    # read drts and pull the hpd of the rate\n",
    "    f = drt_results.ix[rep, 1]\n",
    "    drt_file_list = [r for r in random_runs if f in r]\n",
    "    rep_rates_hpd = list()\n",
    "    for drt_replicate in drt_file_list:\n",
    "        d_temp = pd.read_csv(drt_replicate, sep = '\\t', skiprows=1, header = True)\n",
    "        rate_col = np.percentile(d_temp.ix[:, rate_name], [2.5, 97.5])\n",
    "## ! Need to store rates!!"
   ]
  },
  {
   "cell_type": "code",
   "execution_count": 26,
   "metadata": {
    "collapsed": false
   },
   "outputs": [
    {
     "data": {
      "text/plain": [
       "[]"
      ]
     },
     "execution_count": 26,
     "metadata": {},
     "output_type": "execute_result"
    }
   ],
   "source": [
    "true_runs"
   ]
  },
  {
   "cell_type": "code",
   "execution_count": 28,
   "metadata": {
    "collapsed": false
   },
   "outputs": [
    {
     "data": {
      "text/plain": [
       "['.git',\n",
       " '.ipynb_checkpoints',\n",
       " 'ml_trees',\n",
       " 'summarise_xmls',\n",
       " 'Untitled.ipynb',\n",
       " 'xml_make_script']"
      ]
     },
     "execution_count": 28,
     "metadata": {},
     "output_type": "execute_result"
    }
   ],
   "source": [
    "os.listdir('.')"
   ]
  },
  {
   "cell_type": "code",
   "execution_count": null,
   "metadata": {
    "collapsed": true
   },
   "outputs": [],
   "source": []
  }
 ],
 "metadata": {
  "kernelspec": {
   "display_name": "Python 2",
   "language": "python",
   "name": "python2"
  },
  "language_info": {
   "codemirror_mode": {
    "name": "ipython",
    "version": 2
   },
   "file_extension": ".py",
   "mimetype": "text/x-python",
   "name": "python",
   "nbconvert_exporter": "python",
   "pygments_lexer": "ipython2",
   "version": "2.7.10"
  }
 },
 "nbformat": 4,
 "nbformat_minor": 0
}
