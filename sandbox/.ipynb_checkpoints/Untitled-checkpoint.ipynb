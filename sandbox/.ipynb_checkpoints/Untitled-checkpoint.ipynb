{
 "cells": [
  {
   "cell_type": "code",
   "execution_count": 1,
   "metadata": {
    "collapsed": false
   },
   "outputs": [
    {
     "name": "stdout",
     "output_type": "stream",
     "text": [
      "Populating the interactive namespace from numpy and matplotlib\n"
     ]
    }
   ],
   "source": [
    "import re, os\n",
    "import pandas as pd\n",
    "import numpy as np\n",
    "import matplotlib.pyplot as plt\n",
    "%pylab inline"
   ]
  },
  {
   "cell_type": "code",
   "execution_count": 3,
   "metadata": {
    "collapsed": false
   },
   "outputs": [
    {
     "data": {
      "text/html": [
       "<div>\n",
       "<table border=\"1\" class=\"dataframe\">\n",
       "  <thead>\n",
       "    <tr style=\"text-align: right;\">\n",
       "      <th></th>\n",
       "      <th>state</th>\n",
       "      <th>posterior</th>\n",
       "      <th>prior</th>\n",
       "      <th>likelihood</th>\n",
       "      <th>treeModel.rootHeight</th>\n",
       "      <th>constant.popSize</th>\n",
       "      <th>ac</th>\n",
       "      <th>ag</th>\n",
       "      <th>at</th>\n",
       "      <th>cg</th>\n",
       "      <th>...</th>\n",
       "      <th>frequencies3</th>\n",
       "      <th>frequencies4</th>\n",
       "      <th>alpha</th>\n",
       "      <th>ucld.mean</th>\n",
       "      <th>ucld.stdev</th>\n",
       "      <th>meanRate</th>\n",
       "      <th>coefficientOfVariation</th>\n",
       "      <th>covariance</th>\n",
       "      <th>treeLikelihood</th>\n",
       "      <th>coalescent</th>\n",
       "    </tr>\n",
       "  </thead>\n",
       "  <tbody>\n",
       "    <tr>\n",
       "      <th>0</th>\n",
       "      <td>0</td>\n",
       "      <td>-447121.978640</td>\n",
       "      <td>-199.095038</td>\n",
       "      <td>-446922.883602</td>\n",
       "      <td>1067.937534</td>\n",
       "      <td>150.000000</td>\n",
       "      <td>1.000000</td>\n",
       "      <td>1.000000</td>\n",
       "      <td>1.000000</td>\n",
       "      <td>1.000000</td>\n",
       "      <td>...</td>\n",
       "      <td>0.250000</td>\n",
       "      <td>0.250000</td>\n",
       "      <td>0.500000</td>\n",
       "      <td>0.050000</td>\n",
       "      <td>0.333333</td>\n",
       "      <td>0.064538</td>\n",
       "      <td>0.339058</td>\n",
       "      <td>0.556926</td>\n",
       "      <td>-446922.883602</td>\n",
       "      <td>-175.668877</td>\n",
       "    </tr>\n",
       "    <tr>\n",
       "      <th>1</th>\n",
       "      <td>5000</td>\n",
       "      <td>-145998.346746</td>\n",
       "      <td>-201.590983</td>\n",
       "      <td>-145796.755763</td>\n",
       "      <td>902.238314</td>\n",
       "      <td>105.524768</td>\n",
       "      <td>0.882920</td>\n",
       "      <td>2.063620</td>\n",
       "      <td>0.664731</td>\n",
       "      <td>0.871678</td>\n",
       "      <td>...</td>\n",
       "      <td>0.250000</td>\n",
       "      <td>0.237820</td>\n",
       "      <td>0.500000</td>\n",
       "      <td>0.003846</td>\n",
       "      <td>1.922527</td>\n",
       "      <td>0.000145</td>\n",
       "      <td>1.442094</td>\n",
       "      <td>-0.027460</td>\n",
       "      <td>-145796.755763</td>\n",
       "      <td>-174.127712</td>\n",
       "    </tr>\n",
       "    <tr>\n",
       "      <th>2</th>\n",
       "      <td>10000</td>\n",
       "      <td>-134845.543429</td>\n",
       "      <td>-206.226495</td>\n",
       "      <td>-134639.316934</td>\n",
       "      <td>913.164010</td>\n",
       "      <td>157.796544</td>\n",
       "      <td>0.768530</td>\n",
       "      <td>1.809019</td>\n",
       "      <td>0.498301</td>\n",
       "      <td>0.606118</td>\n",
       "      <td>...</td>\n",
       "      <td>0.250000</td>\n",
       "      <td>0.240685</td>\n",
       "      <td>0.712124</td>\n",
       "      <td>0.002516</td>\n",
       "      <td>1.953779</td>\n",
       "      <td>0.000093</td>\n",
       "      <td>1.948881</td>\n",
       "      <td>0.011652</td>\n",
       "      <td>-134639.316934</td>\n",
       "      <td>-179.036326</td>\n",
       "    </tr>\n",
       "    <tr>\n",
       "      <th>3</th>\n",
       "      <td>15000</td>\n",
       "      <td>-134335.417501</td>\n",
       "      <td>-208.142730</td>\n",
       "      <td>-134127.274771</td>\n",
       "      <td>920.674405</td>\n",
       "      <td>208.178122</td>\n",
       "      <td>0.445639</td>\n",
       "      <td>1.711973</td>\n",
       "      <td>0.380927</td>\n",
       "      <td>0.455023</td>\n",
       "      <td>...</td>\n",
       "      <td>0.250000</td>\n",
       "      <td>0.245051</td>\n",
       "      <td>0.604162</td>\n",
       "      <td>0.002425</td>\n",
       "      <td>1.980608</td>\n",
       "      <td>0.000089</td>\n",
       "      <td>1.952528</td>\n",
       "      <td>-0.037649</td>\n",
       "      <td>-134127.274771</td>\n",
       "      <td>-182.103296</td>\n",
       "    </tr>\n",
       "    <tr>\n",
       "      <th>4</th>\n",
       "      <td>20000</td>\n",
       "      <td>-133753.123351</td>\n",
       "      <td>-205.917578</td>\n",
       "      <td>-133547.205772</td>\n",
       "      <td>912.947348</td>\n",
       "      <td>158.647191</td>\n",
       "      <td>0.432919</td>\n",
       "      <td>1.534187</td>\n",
       "      <td>0.264567</td>\n",
       "      <td>0.455023</td>\n",
       "      <td>...</td>\n",
       "      <td>0.265735</td>\n",
       "      <td>0.244283</td>\n",
       "      <td>0.604162</td>\n",
       "      <td>0.002313</td>\n",
       "      <td>1.984205</td>\n",
       "      <td>0.000087</td>\n",
       "      <td>2.241452</td>\n",
       "      <td>-0.061042</td>\n",
       "      <td>-133547.205772</td>\n",
       "      <td>-180.638823</td>\n",
       "    </tr>\n",
       "  </tbody>\n",
       "</table>\n",
       "<p>5 rows × 23 columns</p>\n",
       "</div>"
      ],
      "text/plain": [
       "   state      posterior       prior     likelihood  treeModel.rootHeight  \\\n",
       "0      0 -447121.978640 -199.095038 -446922.883602           1067.937534   \n",
       "1   5000 -145998.346746 -201.590983 -145796.755763            902.238314   \n",
       "2  10000 -134845.543429 -206.226495 -134639.316934            913.164010   \n",
       "3  15000 -134335.417501 -208.142730 -134127.274771            920.674405   \n",
       "4  20000 -133753.123351 -205.917578 -133547.205772            912.947348   \n",
       "\n",
       "   constant.popSize        ac        ag        at        cg     ...      \\\n",
       "0        150.000000  1.000000  1.000000  1.000000  1.000000     ...       \n",
       "1        105.524768  0.882920  2.063620  0.664731  0.871678     ...       \n",
       "2        157.796544  0.768530  1.809019  0.498301  0.606118     ...       \n",
       "3        208.178122  0.445639  1.711973  0.380927  0.455023     ...       \n",
       "4        158.647191  0.432919  1.534187  0.264567  0.455023     ...       \n",
       "\n",
       "   frequencies3  frequencies4     alpha  ucld.mean  ucld.stdev  meanRate  \\\n",
       "0      0.250000      0.250000  0.500000   0.050000    0.333333  0.064538   \n",
       "1      0.250000      0.237820  0.500000   0.003846    1.922527  0.000145   \n",
       "2      0.250000      0.240685  0.712124   0.002516    1.953779  0.000093   \n",
       "3      0.250000      0.245051  0.604162   0.002425    1.980608  0.000089   \n",
       "4      0.265735      0.244283  0.604162   0.002313    1.984205  0.000087   \n",
       "\n",
       "   coefficientOfVariation  covariance  treeLikelihood  coalescent  \n",
       "0                0.339058    0.556926  -446922.883602 -175.668877  \n",
       "1                1.442094   -0.027460  -145796.755763 -174.127712  \n",
       "2                1.948881    0.011652  -134639.316934 -179.036326  \n",
       "3                1.952528   -0.037649  -134127.274771 -182.103296  \n",
       "4                2.241452   -0.061042  -133547.205772 -180.638823  \n",
       "\n",
       "[5 rows x 23 columns]"
      ]
     },
     "execution_count": 3,
     "metadata": {},
     "output_type": "execute_result"
    }
   ],
   "source": [
    "dat = pd.read_table('TB_animal_L6_rc_ucld_constant.log', comment='#')\n",
    "dat.head()"
   ]
  },
  {
   "cell_type": "code",
   "execution_count": 16,
   "metadata": {
    "collapsed": false
   },
   "outputs": [
    {
     "name": "stdout",
     "output_type": "stream",
     "text": [
      "4.79589168711e-06\n",
      "0.025    0.000002\n",
      "0.975    0.000009\n",
      "dtype: float64\n"
     ]
    },
    {
     "data": {
      "image/png": "[encoded data removed]",
      "text/plain": [
       "<matplotlib.figure.Figure at 0x1094e80d0>"
      ]
     },
     "metadata": {},
     "output_type": "display_data"
    }
   ],
   "source": [
    "dat.ix[2000:, 'ucld.mean'].hist()\n",
    "print dat.ix[2000:, 'ucld.mean'].mean()\n",
    "print dat.ix[2000:, 'ucld.mean'].quantile([0.025, 0.975])"
   ]
  },
  {
   "cell_type": "code",
   "execution_count": 17,
   "metadata": {
    "collapsed": false
   },
   "outputs": [
    {
     "data": {
      "text/plain": [
       "<matplotlib.axes._subplots.AxesSubplot at 0x109886550>"
      ]
     },
     "execution_count": 17,
     "metadata": {},
     "output_type": "execute_result"
    },
    {
     "data": {
      "image/png": "[encoded data removed]",
      "text/plain": [
       "<matplotlib.figure.Figure at 0x109605c10>"
      ]
     },
     "metadata": {},
     "output_type": "display_data"
    }
   ],
   "source": [
    "dat.ix[2000:, 'ucld.stdev'].hist()"
   ]
  },
  {
   "cell_type": "code",
   "execution_count": 18,
   "metadata": {
    "collapsed": false
   },
   "outputs": [
    {
     "data": {
      "text/plain": [
       "Index([u'state', u'posterior', u'prior', u'likelihood',\n",
       "       u'treeModel.rootHeight', u'constant.popSize', u'ac', u'ag', u'at',\n",
       "       u'cg', u'gt', u'frequencies1', u'frequencies2', u'frequencies3',\n",
       "       u'frequencies4', u'alpha', u'ucld.mean', u'ucld.stdev', u'meanRate',\n",
       "       u'coefficientOfVariation', u'covariance', u'treeLikelihood',\n",
       "       u'coalescent'],\n",
       "      dtype='object')"
      ]
     },
     "execution_count": 18,
     "metadata": {},
     "output_type": "execute_result"
    }
   ],
   "source": [
    "dat.columns"
   ]
  },
  {
   "cell_type": "code",
   "execution_count": 21,
   "metadata": {
    "collapsed": false
   },
   "outputs": [
    {
     "data": {
      "text/plain": [
       "[0.27000000000000002, 0.97999999999999998, 0.13, 0.13, 0.28000000000000003]"
      ]
     },
     "execution_count": 21,
     "metadata": {},
     "output_type": "execute_result"
    }
   ],
   "source": [
    "[np.round(dat.ix[2000:, i].mean(), 2) for i in ['ac', 'ag', 'at', 'cg', 'gt']]\n"
   ]
  },
  {
   "cell_type": "code",
   "execution_count": 23,
   "metadata": {
    "collapsed": false
   },
   "outputs": [
    {
     "data": {
      "text/plain": [
       "8639.7335518542914"
      ]
     },
     "execution_count": 23,
     "metadata": {},
     "output_type": "execute_result"
    }
   ],
   "source": [
    "dat.ix[2000:, 'constant.popSize'].mean()"
   ]
  },
  {
   "cell_type": "code",
   "execution_count": 25,
   "metadata": {
    "collapsed": false
   },
   "outputs": [
    {
     "data": {
      "text/plain": [
       "array([  3608.88269566,  17924.72399029])"
      ]
     },
     "execution_count": 25,
     "metadata": {},
     "output_type": "execute_result"
    }
   ],
   "source": [
    "np.percentile(dat.ix[2000:, 'constant.popSize'], [2.5, 97.5])"
   ]
  },
  {
   "cell_type": "code",
   "execution_count": 26,
   "metadata": {
    "collapsed": false
   },
   "outputs": [
    {
     "name": "stdout",
     "output_type": "stream",
     "text": [
      "0.524196490369\n",
      "[ 0.37824224  0.76252842]\n"
     ]
    }
   ],
   "source": [
    "print dat.ix[2000:, 'coefficientOfVariation'].mean()\n",
    "print np.percentile(dat.ix[2000:, 'coefficientOfVariation'], [2.5, 97.5])"
   ]
  },
  {
   "cell_type": "code",
   "execution_count": null,
   "metadata": {
    "collapsed": true
   },
   "outputs": [],
   "source": []
  }
 ],
 "metadata": {
  "kernelspec": {
   "display_name": "Python 2",
   "language": "python",
   "name": "python2"
  },
  "language_info": {
   "codemirror_mode": {
    "name": "ipython",
    "version": 2
   },
   "file_extension": ".py",
   "mimetype": "text/x-python",
   "name": "python",
   "nbconvert_exporter": "python",
   "pygments_lexer": "ipython2",
   "version": "2.7.10"
  }
 },
 "nbformat": 4,
 "nbformat_minor": 0
}
